{
  "cells": [
    {
      "cell_type": "code",
      "execution_count": 2,
      "metadata": {},
      "outputs": [
        {
          "name": "stdout",
          "output_type": "stream",
          "text": [
            "Collecting numpy\n",
            "  Downloading numpy-1.26.2-cp39-cp39-manylinux_2_17_x86_64.manylinux2014_x86_64.whl.metadata (61 kB)\n",
            "\u001b[2K     \u001b[90m━━━━━━━━━━━━━━━━━━━━━━━━━━━━━━━━━━━━━━━━\u001b[0m \u001b[32m61.2/61.2 kB\u001b[0m \u001b[31m2.3 MB/s\u001b[0m eta \u001b[36m0:00:00\u001b[0m\n",
            "\u001b[?25hDownloading numpy-1.26.2-cp39-cp39-manylinux_2_17_x86_64.manylinux2014_x86_64.whl (18.2 MB)\n",
            "\u001b[2K   \u001b[90m━━━━━━━━━━━━━━━━━━━━━━━━━━━━━━━━━━━━━━━━\u001b[0m \u001b[32m18.2/18.2 MB\u001b[0m \u001b[31m14.9 MB/s\u001b[0m eta \u001b[36m0:00:00\u001b[0m00:01\u001b[0m00:01\u001b[0m\n",
            "\u001b[?25hInstalling collected packages: numpy\n",
            "Successfully installed numpy-1.26.2\n"
          ]
        }
      ],
      "source": [
        "\n"
      ]
    },
    {
      "cell_type": "code",
      "execution_count": 5,
      "metadata": {
        "id": "MloR8GtUwhTA"
      },
      "outputs": [
        {
          "ename": "ModuleNotFoundError",
          "evalue": "No module named 'tensorflow'",
          "output_type": "error",
          "traceback": [
            "\u001b[0;31m---------------------------------------------------------------------------\u001b[0m",
            "\u001b[0;31mModuleNotFoundError\u001b[0m                       Traceback (most recent call last)",
            "\u001b[1;32m/home/franfram/AAR-DL/analysis/sheep_decoder_TF.ipynb Cell 2\u001b[0m line \u001b[0;36m2\n\u001b[1;32m      <a href='vscode-notebook-cell://wsl%2Bubuntu-22.04/home/franfram/AAR-DL/analysis/sheep_decoder_TF.ipynb#W0sdnNjb2RlLXJlbW90ZQ%3D%3D?line=0'>1</a>\u001b[0m \u001b[39mimport\u001b[39;00m \u001b[39mnumpy\u001b[39;00m \u001b[39mas\u001b[39;00m \u001b[39mnp\u001b[39;00m\n\u001b[0;32m----> <a href='vscode-notebook-cell://wsl%2Bubuntu-22.04/home/franfram/AAR-DL/analysis/sheep_decoder_TF.ipynb#W0sdnNjb2RlLXJlbW90ZQ%3D%3D?line=1'>2</a>\u001b[0m \u001b[39mimport\u001b[39;00m \u001b[39mtensorflow\u001b[39;00m \u001b[39mas\u001b[39;00m \u001b[39mtf\u001b[39;00m\n\u001b[1;32m      <a href='vscode-notebook-cell://wsl%2Bubuntu-22.04/home/franfram/AAR-DL/analysis/sheep_decoder_TF.ipynb#W0sdnNjb2RlLXJlbW90ZQ%3D%3D?line=2'>3</a>\u001b[0m \u001b[39mfrom\u001b[39;00m \u001b[39mtensorflow\u001b[39;00m\u001b[39m.\u001b[39;00m\u001b[39mkeras\u001b[39;00m\u001b[39m.\u001b[39;00m\u001b[39mmodels\u001b[39;00m \u001b[39mimport\u001b[39;00m Sequential\n\u001b[1;32m      <a href='vscode-notebook-cell://wsl%2Bubuntu-22.04/home/franfram/AAR-DL/analysis/sheep_decoder_TF.ipynb#W0sdnNjb2RlLXJlbW90ZQ%3D%3D?line=3'>4</a>\u001b[0m \u001b[39mfrom\u001b[39;00m \u001b[39mtensorflow\u001b[39;00m\u001b[39m.\u001b[39;00m\u001b[39mkeras\u001b[39;00m\u001b[39m.\u001b[39;00m\u001b[39mlayers\u001b[39;00m \u001b[39mimport\u001b[39;00m Conv1D, MaxPooling1D, Flatten, Dense\n",
            "\u001b[0;31mModuleNotFoundError\u001b[0m: No module named 'tensorflow'"
          ]
        }
      ],
      "source": [
        "import numpy as np\n",
        "import tensorflow as tf\n",
        "from tensorflow.keras.models import Sequential\n",
        "from tensorflow.keras.layers import Conv1D, MaxPooling1D, Flatten, Dense\n",
        "from tensorflow.keras.utils import plot_model\n",
        "\n",
        "from tensorflow.keras import layers\n",
        "from tensorflow.keras.models import Model\n"
      ]
    },
    {
      "cell_type": "code",
      "execution_count": 3,
      "metadata": {},
      "outputs": [],
      "source": [
        "tf.random.set_seed(42)\n"
      ]
    },
    {
      "cell_type": "code",
      "execution_count": 2,
      "metadata": {
        "id": "jJ869Rizwls_"
      },
      "outputs": [
        {
          "name": "stderr",
          "output_type": "stream",
          "text": [
            "2023-11-20 11:20:27.014286: I external/local_xla/xla/stream_executor/cuda/cuda_executor.cc:887] could not open file to read NUMA node: /sys/bus/pci/devices/0000:01:00.0/numa_node\n",
            "Your kernel may have been built without NUMA support.\n",
            "2023-11-20 11:20:27.135933: W tensorflow/core/common_runtime/gpu/gpu_device.cc:2256] Cannot dlopen some GPU libraries. Please make sure the missing libraries mentioned above are installed properly if you would like to use GPU. Follow the guide at https://www.tensorflow.org/install/gpu for how to download and setup the required libraries for your platform.\n",
            "Skipping registering GPU devices...\n"
          ]
        }
      ],
      "source": [
        "def define_convTransformer(segment_size=256, sequence_length=5, nfeatures=8, nclasses=3):\n",
        "\n",
        "    input_shape = (segment_size * sequence_length, nfeatures)\n",
        "\n",
        "    # Input layer\n",
        "    inputs = tf.keras.Input(shape=input_shape)\n",
        "\n",
        "    # CNN layers\n",
        "    x = layers.Conv1D(filters=64, kernel_size=3, padding='same', activation='relu')(inputs)\n",
        "    x = layers.MaxPooling1D(2)(x)\n",
        "\n",
        "    for _ in range(7):\n",
        "        x = layers.Conv1D(filters=64, kernel_size=3, padding='same', activation='relu')(x)\n",
        "        x = layers.MaxPooling1D(2)(x)\n",
        "\n",
        "    # Transformer layers\n",
        "    query_value_attention_seq = layers.MultiHeadAttention(num_heads=2, key_dim=2)(x, x)\n",
        "\n",
        "    # Adding the self attention to the original sequence\n",
        "    x = layers.Add()([x, query_value_attention_seq])\n",
        "\n",
        "    # Layer Normalization\n",
        "    x = layers.LayerNormalization(epsilon=1e-6)(x)\n",
        "\n",
        "    # Position-wise Feed-Forward Part\n",
        "    x = layers.Conv1D(filters=128, kernel_size=1, activation='relu')(x)\n",
        "    x = layers.Conv1D(filters=64, kernel_size=1, activation='relu')(x)\n",
        "\n",
        "    # Adding the position-wise feedforward to the sequence\n",
        "    x = layers.Add()([x, query_value_attention_seq])\n",
        "\n",
        "    # Layer Normalization\n",
        "    x = layers.LayerNormalization(epsilon=1e-6)(x)\n",
        "\n",
        "    # Removed Global Average Pooling to keep the time dimension\n",
        "\n",
        "    # Dense layers for final classification - now it gives a prediction for each time step\n",
        "    x = layers.TimeDistributed(layers.Dense(sequence_length, activation='relu'))(x)\n",
        "    outputs = layers.TimeDistributed(layers.Dense(nclasses, activation='softmax'))(x)\n",
        "\n",
        "    # Creating the model\n",
        "    model = Model(inputs=inputs, outputs=outputs)\n",
        "\n",
        "    return model\n",
        "\n",
        "\n",
        "\n",
        "model2 = define_convTransformer()"
      ]
    },
    {
      "cell_type": "code",
      "execution_count": 133,
      "metadata": {
        "id": "3NLf2-DcwoKD"
      },
      "outputs": [],
      "source": [
        "# x_train_convT = np.load('../data/x_train.npy')\n",
        "# y_train_convT = np.load('../data/y_train.npy')\n",
        "\n",
        "x_train_convT = np.load('../data/x_train_75.npy')\n",
        "y_train_convT = np.load('../data/y_train_75.npy')"
      ]
    },
    {
      "cell_type": "code",
      "execution_count": 121,
      "metadata": {
        "colab": {
          "base_uri": "https://localhost:8080/"
        },
        "id": "Ay5GIxmnwpiz",
        "outputId": "fdb8cff3-ddfd-4eda-b308-a1bbba44d7c5"
      },
      "outputs": [
        {
          "data": {
            "text/plain": [
              "0.0"
            ]
          },
          "execution_count": 121,
          "metadata": {},
          "output_type": "execute_result"
        }
      ],
      "source": [
        "np.isnan(x_train_convT).sum() / x_train_convT.size"
      ]
    },
    {
      "cell_type": "code",
      "execution_count": 122,
      "metadata": {},
      "outputs": [
        {
          "data": {
            "text/plain": [
              "((895, 640, 8), (895, 10, 3))"
            ]
          },
          "execution_count": 122,
          "metadata": {},
          "output_type": "execute_result"
        }
      ],
      "source": [
        "x_train_convT.shape, y_train_convT.shape"
      ]
    },
    {
      "cell_type": "code",
      "execution_count": 134,
      "metadata": {
        "id": "YCsShaZjwsqv"
      },
      "outputs": [],
      "source": [
        "model2.compile(\n",
        "    optimizer=tf.keras.optimizers.Adam(learning_rate=0.001),\n",
        "    loss='categorical_crossentropy',\n",
        "    metrics=['accuracy']\n",
        ")"
      ]
    },
    {
      "cell_type": "code",
      "execution_count": 9,
      "metadata": {
        "colab": {
          "base_uri": "https://localhost:8080/"
        },
        "id": "6haUCTWCwu7R",
        "outputId": "9eea38ff-e6e2-4f86-f520-1aef42adfb04"
      },
      "outputs": [
        {
          "name": "stdout",
          "output_type": "stream",
          "text": [
            "Epoch 1/50\n",
            "12/12 [==============================] - 2s 49ms/step - loss: 0.5814 - accuracy: 0.8218 - val_loss: 0.2257 - val_accuracy: 0.9453\n",
            "Epoch 2/50\n",
            "12/12 [==============================] - 0s 27ms/step - loss: 0.3426 - accuracy: 0.9167 - val_loss: 0.1825 - val_accuracy: 0.9453\n",
            "Epoch 3/50\n",
            "12/12 [==============================] - 0s 27ms/step - loss: 0.2580 - accuracy: 0.9220 - val_loss: 0.1517 - val_accuracy: 0.9453\n",
            "Epoch 4/50\n",
            "12/12 [==============================] - 0s 26ms/step - loss: 0.2025 - accuracy: 0.9310 - val_loss: 0.1443 - val_accuracy: 0.9474\n",
            "Epoch 5/50\n",
            "12/12 [==============================] - 0s 27ms/step - loss: 0.1623 - accuracy: 0.9443 - val_loss: 0.1240 - val_accuracy: 0.9516\n",
            "Epoch 6/50\n",
            "12/12 [==============================] - 0s 29ms/step - loss: 0.1621 - accuracy: 0.9485 - val_loss: 0.1448 - val_accuracy: 0.9516\n",
            "Epoch 7/50\n",
            "12/12 [==============================] - 0s 27ms/step - loss: 0.1407 - accuracy: 0.9554 - val_loss: 0.0982 - val_accuracy: 0.9726\n",
            "Epoch 8/50\n",
            "12/12 [==============================] - 0s 26ms/step - loss: 0.1245 - accuracy: 0.9639 - val_loss: 0.0906 - val_accuracy: 0.9726\n",
            "Epoch 9/50\n",
            "12/12 [==============================] - 0s 24ms/step - loss: 0.1052 - accuracy: 0.9676 - val_loss: 0.0803 - val_accuracy: 0.9747\n",
            "Epoch 10/50\n",
            "12/12 [==============================] - 0s 24ms/step - loss: 0.1047 - accuracy: 0.9698 - val_loss: 0.1543 - val_accuracy: 0.9600\n",
            "Epoch 11/50\n",
            "12/12 [==============================] - 0s 24ms/step - loss: 0.1814 - accuracy: 0.9469 - val_loss: 0.1887 - val_accuracy: 0.9747\n",
            "Epoch 12/50\n",
            "12/12 [==============================] - 0s 25ms/step - loss: 0.2206 - accuracy: 0.9268 - val_loss: 0.1027 - val_accuracy: 0.9663\n",
            "Epoch 13/50\n",
            "12/12 [==============================] - 0s 24ms/step - loss: 0.1250 - accuracy: 0.9629 - val_loss: 0.1657 - val_accuracy: 0.9663\n",
            "Epoch 14/50\n",
            "12/12 [==============================] - 0s 26ms/step - loss: 0.0998 - accuracy: 0.9676 - val_loss: 0.1131 - val_accuracy: 0.9642\n",
            "Epoch 15/50\n",
            "12/12 [==============================] - 0s 29ms/step - loss: 0.1007 - accuracy: 0.9666 - val_loss: 0.0849 - val_accuracy: 0.9747\n",
            "Epoch 16/50\n",
            "12/12 [==============================] - 0s 26ms/step - loss: 0.0706 - accuracy: 0.9777 - val_loss: 0.0739 - val_accuracy: 0.9747\n",
            "Epoch 17/50\n",
            "12/12 [==============================] - 0s 25ms/step - loss: 0.0631 - accuracy: 0.9814 - val_loss: 0.0771 - val_accuracy: 0.9726\n",
            "Epoch 18/50\n",
            "12/12 [==============================] - 0s 25ms/step - loss: 0.0561 - accuracy: 0.9841 - val_loss: 0.0873 - val_accuracy: 0.9726\n",
            "Epoch 19/50\n",
            "12/12 [==============================] - 0s 24ms/step - loss: 0.0520 - accuracy: 0.9857 - val_loss: 0.0867 - val_accuracy: 0.9726\n",
            "Epoch 20/50\n",
            "12/12 [==============================] - 0s 25ms/step - loss: 0.0427 - accuracy: 0.9889 - val_loss: 0.0885 - val_accuracy: 0.9747\n",
            "Epoch 21/50\n",
            "12/12 [==============================] - 0s 24ms/step - loss: 0.0409 - accuracy: 0.9862 - val_loss: 0.0819 - val_accuracy: 0.9747\n",
            "Epoch 22/50\n",
            "12/12 [==============================] - 0s 25ms/step - loss: 0.0544 - accuracy: 0.9825 - val_loss: 0.0989 - val_accuracy: 0.9621\n",
            "Epoch 23/50\n",
            "12/12 [==============================] - 0s 25ms/step - loss: 0.0480 - accuracy: 0.9862 - val_loss: 0.0717 - val_accuracy: 0.9768\n",
            "Epoch 24/50\n",
            "12/12 [==============================] - 0s 24ms/step - loss: 0.0387 - accuracy: 0.9894 - val_loss: 0.0797 - val_accuracy: 0.9747\n",
            "Epoch 25/50\n",
            "12/12 [==============================] - 0s 24ms/step - loss: 0.0318 - accuracy: 0.9920 - val_loss: 0.0899 - val_accuracy: 0.9747\n",
            "Epoch 26/50\n",
            "12/12 [==============================] - 0s 24ms/step - loss: 0.0259 - accuracy: 0.9910 - val_loss: 0.0960 - val_accuracy: 0.9663\n",
            "Epoch 27/50\n",
            "12/12 [==============================] - 0s 24ms/step - loss: 0.0244 - accuracy: 0.9942 - val_loss: 0.1359 - val_accuracy: 0.9600\n",
            "Epoch 28/50\n",
            "12/12 [==============================] - 0s 27ms/step - loss: 0.0221 - accuracy: 0.9952 - val_loss: 0.0959 - val_accuracy: 0.9663\n",
            "Epoch 29/50\n",
            "12/12 [==============================] - 0s 23ms/step - loss: 0.0220 - accuracy: 0.9952 - val_loss: 0.1046 - val_accuracy: 0.9642\n",
            "Epoch 30/50\n",
            "12/12 [==============================] - 0s 32ms/step - loss: 0.0240 - accuracy: 0.9936 - val_loss: 0.0975 - val_accuracy: 0.9663\n",
            "Epoch 31/50\n",
            "12/12 [==============================] - 0s 32ms/step - loss: 0.0185 - accuracy: 0.9947 - val_loss: 0.0967 - val_accuracy: 0.9684\n",
            "Epoch 32/50\n",
            "12/12 [==============================] - 0s 32ms/step - loss: 0.0117 - accuracy: 0.9984 - val_loss: 0.0923 - val_accuracy: 0.9726\n",
            "Epoch 33/50\n",
            "12/12 [==============================] - 0s 32ms/step - loss: 0.0120 - accuracy: 0.9984 - val_loss: 0.1033 - val_accuracy: 0.9642\n",
            "Epoch 34/50\n",
            "12/12 [==============================] - 0s 34ms/step - loss: 0.0139 - accuracy: 0.9963 - val_loss: 0.1067 - val_accuracy: 0.9663\n",
            "Epoch 35/50\n",
            "12/12 [==============================] - 0s 34ms/step - loss: 0.0166 - accuracy: 0.9947 - val_loss: 0.0804 - val_accuracy: 0.9747\n",
            "Epoch 36/50\n",
            "12/12 [==============================] - 0s 34ms/step - loss: 0.0247 - accuracy: 0.9910 - val_loss: 0.1001 - val_accuracy: 0.9684\n",
            "Epoch 37/50\n",
            "12/12 [==============================] - 0s 32ms/step - loss: 0.0213 - accuracy: 0.9947 - val_loss: 0.1142 - val_accuracy: 0.9684\n",
            "Epoch 38/50\n",
            "12/12 [==============================] - 0s 32ms/step - loss: 0.0226 - accuracy: 0.9926 - val_loss: 0.1624 - val_accuracy: 0.9516\n",
            "Epoch 39/50\n",
            "12/12 [==============================] - 0s 33ms/step - loss: 0.0824 - accuracy: 0.9798 - val_loss: 0.1014 - val_accuracy: 0.9789\n",
            "Epoch 40/50\n",
            "12/12 [==============================] - 0s 32ms/step - loss: 0.0506 - accuracy: 0.9825 - val_loss: 0.1299 - val_accuracy: 0.9663\n",
            "Epoch 41/50\n",
            "12/12 [==============================] - 0s 34ms/step - loss: 0.0709 - accuracy: 0.9814 - val_loss: 0.1149 - val_accuracy: 0.9621\n",
            "Epoch 42/50\n",
            "12/12 [==============================] - 0s 32ms/step - loss: 0.0357 - accuracy: 0.9910 - val_loss: 0.1314 - val_accuracy: 0.9747\n",
            "Epoch 43/50\n",
            "12/12 [==============================] - 0s 32ms/step - loss: 0.0460 - accuracy: 0.9846 - val_loss: 0.1205 - val_accuracy: 0.9726\n",
            "Epoch 44/50\n",
            "12/12 [==============================] - 0s 33ms/step - loss: 0.0353 - accuracy: 0.9889 - val_loss: 0.0964 - val_accuracy: 0.9768\n",
            "Epoch 45/50\n",
            "12/12 [==============================] - 0s 34ms/step - loss: 0.0281 - accuracy: 0.9915 - val_loss: 0.0918 - val_accuracy: 0.9726\n",
            "Epoch 46/50\n",
            "12/12 [==============================] - 0s 32ms/step - loss: 0.0216 - accuracy: 0.9952 - val_loss: 0.1288 - val_accuracy: 0.9600\n",
            "Epoch 47/50\n",
            "12/12 [==============================] - 0s 32ms/step - loss: 0.0126 - accuracy: 0.9973 - val_loss: 0.1376 - val_accuracy: 0.9642\n",
            "Epoch 48/50\n",
            "12/12 [==============================] - 0s 32ms/step - loss: 0.0075 - accuracy: 0.9984 - val_loss: 0.1228 - val_accuracy: 0.9684\n",
            "Epoch 49/50\n",
            "12/12 [==============================] - 0s 32ms/step - loss: 0.0068 - accuracy: 0.9979 - val_loss: 0.1377 - val_accuracy: 0.9621\n",
            "Epoch 50/50\n",
            "12/12 [==============================] - 0s 32ms/step - loss: 0.0037 - accuracy: 0.9995 - val_loss: 0.1538 - val_accuracy: 0.9684\n"
          ]
        }
      ],
      "source": [
        "fit2 = model2.fit(\n",
        "    x=x_train_convT,\n",
        "    y=y_train_convT,\n",
        "    batch_size=32,\n",
        "    epochs=50,\n",
        "    validation_split=0.2\n",
        ")"
      ]
    },
    {
      "cell_type": "code",
      "execution_count": 11,
      "metadata": {
        "colab": {
          "base_uri": "https://localhost:8080/",
          "height": 472
        },
        "id": "JJhDrl616O0l",
        "outputId": "4280b41d-c352-41bf-b96c-ebe36dead1bf"
      },
      "outputs": [
        {
          "data": {
            "image/png": "[encoded data removed]",
            "text/plain": [
              "<Figure size 640x480 with 1 Axes>"
            ]
          },
          "metadata": {},
          "output_type": "display_data"
        }
      ],
      "source": [
        "import matplotlib.pyplot as plt\n",
        "\n",
        "history = fit2.history\n",
        "\n",
        "train_loss = history['loss']\n",
        "val_loss = history['val_loss']\n",
        "epochs = range(1, len(train_loss) + 1)\n",
        "\n",
        "# Plotting\n",
        "plt.plot(epochs, train_loss, 'b', label='Training loss')  # 'bo' gives dot plot\n",
        "plt.plot(epochs, val_loss, 'b', label='Validation loss')   # 'b' gives line plot\n",
        "plt.title('Training and Validation Loss')\n",
        "plt.xlabel('Epochs')\n",
        "plt.ylabel('Loss')\n",
        "plt.legend()\n",
        "\n",
        "plt.show()"
      ]
    },
    {
      "cell_type": "code",
      "execution_count": 10,
      "metadata": {
        "colab": {
          "base_uri": "https://localhost:8080/",
          "height": 276
        },
        "id": "Ryau9wve7kUE",
        "outputId": "ef9d58a4-221f-4b73-e980-81fff2e30c6f"
      },
      "outputs": [
        {
          "data": {
            "image/png": "[encoded data removed]",
            "text/plain": [
              "<Figure size 1200x500 with 2 Axes>"
            ]
          },
          "metadata": {},
          "output_type": "display_data"
        }
      ],
      "source": [
        "import matplotlib.pyplot as plt\n",
        "\n",
        "history = fit2.history\n",
        "\n",
        "# Assuming 'history' is your history object returned by the 'fit' method\n",
        "train_loss = history['loss']\n",
        "val_loss = history['val_loss']\n",
        "train_acc = history['accuracy']  # Or 'acc' based on your TensorFlow version\n",
        "val_acc = history['val_accuracy']  # Or 'val_acc' based on your TensorFlow version\n",
        "epochs = range(1, len(train_loss) + 1)\n",
        "\n",
        "# Plotting training and validation loss\n",
        "plt.figure(figsize=(12, 5))\n",
        "\n",
        "# First subplot for loss\n",
        "plt.subplot(1, 2, 1)\n",
        "plt.plot(epochs, train_loss, 'r', label='Training Loss', marker='o')  # Red color for training loss\n",
        "plt.plot(epochs, val_loss, 'g', label='Validation Loss', marker='o')  # Green color for validation loss\n",
        "plt.title('Training and Validation Loss')\n",
        "plt.xlabel('Epochs')\n",
        "plt.ylabel('Loss')\n",
        "plt.legend()\n",
        "\n",
        "# Second subplot for accuracy\n",
        "plt.subplot(1, 2, 2)\n",
        "plt.plot(epochs, train_acc, 'r', label='Training Accuracy', marker='o')  # Red color for training accuracy\n",
        "plt.plot(epochs, val_acc, 'g', label='Validation Accuracy', marker='o')  # Green color for validation accuracy\n",
        "plt.title('Training and Validation Accuracy')\n",
        "plt.xlabel('Epochs')\n",
        "plt.ylabel('Accuracy')\n",
        "plt.legend()\n",
        "\n",
        "plt.tight_layout()\n",
        "plt.show()"
      ]
    },
    {
      "cell_type": "code",
      "execution_count": 41,
      "metadata": {},
      "outputs": [
        {
          "name": "stdout",
          "output_type": "stream",
          "text": [
            "15/15 [==============================] - 0s 8ms/step\n"
          ]
        },
        {
          "data": {
            "text/plain": [
              "((2360,), array([0, 0, 0, ..., 0, 0, 0]))"
            ]
          },
          "execution_count": 41,
          "metadata": {},
          "output_type": "execute_result"
        }
      ],
      "source": [
        "predictions = model2.predict(x_train_convT)\n",
        "predicted_labels = np.argmax(predictions, axis = -1).flatten()\n",
        "\n",
        "predicted_labels.shape, predicted_labels"
      ]
    },
    {
      "cell_type": "code",
      "execution_count": 67,
      "metadata": {},
      "outputs": [
        {
          "data": {
            "text/plain": [
              "(array([2.36228814, 0.        , 0.        , 0.        , 0.        ,\n",
              "        2.33050847, 0.        , 0.        , 0.        , 0.30720339]),\n",
              " array([0. , 0.2, 0.4, 0.6, 0.8, 1. , 1.2, 1.4, 1.6, 1.8, 2. ]),\n",
              " <BarContainer object of 10 artists>)"
            ]
          },
          "execution_count": 67,
          "metadata": {},
          "output_type": "execute_result"
        },
        {
          "data": {
            "image/png": "[encoded data removed]",
            "text/plain": [
              "<Figure size 640x480 with 1 Axes>"
            ]
          },
          "metadata": {},
          "output_type": "display_data"
        }
      ],
      "source": [
        "predicted_labels.shape\n",
        "\n",
        "plt.hist(predicted_labels.flatten(), density=True)"
      ]
    },
    {
      "cell_type": "code",
      "execution_count": 47,
      "metadata": {},
      "outputs": [
        {
          "ename": "ValueError",
          "evalue": "Mime type rendering requires nbformat>=4.2.0 but it is not installed",
          "output_type": "error",
          "traceback": [
            "\u001b[0;31m---------------------------------------------------------------------------\u001b[0m",
            "\u001b[0;31mValueError\u001b[0m                                Traceback (most recent call last)",
            "\u001b[1;32m/home/franfram/Downloads/test_sheep_decoder.ipynb Cell 14\u001b[0m line \u001b[0;36m1\n\u001b[1;32m      <a href='vscode-notebook-cell://wsl%2Bubuntu-22.04/home/franfram/Downloads/test_sheep_decoder.ipynb#X20sdnNjb2RlLXJlbW90ZQ%3D%3D?line=3'>4</a>\u001b[0m data \u001b[39m=\u001b[39m predicted_labels\u001b[39m.\u001b[39mflatten()\n\u001b[1;32m      <a href='vscode-notebook-cell://wsl%2Bubuntu-22.04/home/franfram/Downloads/test_sheep_decoder.ipynb#X20sdnNjb2RlLXJlbW90ZQ%3D%3D?line=5'>6</a>\u001b[0m fig \u001b[39m=\u001b[39m go\u001b[39m.\u001b[39mFigure(data\u001b[39m=\u001b[39m[\n\u001b[1;32m      <a href='vscode-notebook-cell://wsl%2Bubuntu-22.04/home/franfram/Downloads/test_sheep_decoder.ipynb#X20sdnNjb2RlLXJlbW90ZQ%3D%3D?line=6'>7</a>\u001b[0m     go\u001b[39m.\u001b[39mHistogram(x\u001b[39m=\u001b[39mdata, histnorm\u001b[39m=\u001b[39m\u001b[39m'\u001b[39m\u001b[39mprobability density\u001b[39m\u001b[39m'\u001b[39m)\n\u001b[1;32m      <a href='vscode-notebook-cell://wsl%2Bubuntu-22.04/home/franfram/Downloads/test_sheep_decoder.ipynb#X20sdnNjb2RlLXJlbW90ZQ%3D%3D?line=7'>8</a>\u001b[0m ])\n\u001b[0;32m---> <a href='vscode-notebook-cell://wsl%2Bubuntu-22.04/home/franfram/Downloads/test_sheep_decoder.ipynb#X20sdnNjb2RlLXJlbW90ZQ%3D%3D?line=9'>10</a>\u001b[0m fig\u001b[39m.\u001b[39;49mshow()\n",
            "File \u001b[0;32m~/miniconda3/envs/nlp/lib/python3.11/site-packages/plotly/basedatatypes.py:3410\u001b[0m, in \u001b[0;36mBaseFigure.show\u001b[0;34m(self, *args, **kwargs)\u001b[0m\n\u001b[1;32m   3377\u001b[0m \u001b[39m\u001b[39m\u001b[39m\"\"\"\u001b[39;00m\n\u001b[1;32m   3378\u001b[0m \u001b[39mShow a figure using either the default renderer(s) or the renderer(s)\u001b[39;00m\n\u001b[1;32m   3379\u001b[0m \u001b[39mspecified by the renderer argument\u001b[39;00m\n\u001b[0;32m   (...)\u001b[0m\n\u001b[1;32m   3406\u001b[0m \u001b[39mNone\u001b[39;00m\n\u001b[1;32m   3407\u001b[0m \u001b[39m\"\"\"\u001b[39;00m\n\u001b[1;32m   3408\u001b[0m \u001b[39mimport\u001b[39;00m \u001b[39mplotly\u001b[39;00m\u001b[39m.\u001b[39;00m\u001b[39mio\u001b[39;00m \u001b[39mas\u001b[39;00m \u001b[39mpio\u001b[39;00m\n\u001b[0;32m-> 3410\u001b[0m \u001b[39mreturn\u001b[39;00m pio\u001b[39m.\u001b[39;49mshow(\u001b[39mself\u001b[39;49m, \u001b[39m*\u001b[39;49margs, \u001b[39m*\u001b[39;49m\u001b[39m*\u001b[39;49mkwargs)\n",
            "File \u001b[0;32m~/miniconda3/envs/nlp/lib/python3.11/site-packages/plotly/io/_renderers.py:394\u001b[0m, in \u001b[0;36mshow\u001b[0;34m(fig, renderer, validate, **kwargs)\u001b[0m\n\u001b[1;32m    389\u001b[0m         \u001b[39mraise\u001b[39;00m \u001b[39mValueError\u001b[39;00m(\n\u001b[1;32m    390\u001b[0m             \u001b[39m\"\u001b[39m\u001b[39mMime type rendering requires ipython but it is not installed\u001b[39m\u001b[39m\"\u001b[39m\n\u001b[1;32m    391\u001b[0m         )\n\u001b[1;32m    393\u001b[0m     \u001b[39mif\u001b[39;00m \u001b[39mnot\u001b[39;00m nbformat \u001b[39mor\u001b[39;00m Version(nbformat\u001b[39m.\u001b[39m__version__) \u001b[39m<\u001b[39m Version(\u001b[39m\"\u001b[39m\u001b[39m4.2.0\u001b[39m\u001b[39m\"\u001b[39m):\n\u001b[0;32m--> 394\u001b[0m         \u001b[39mraise\u001b[39;00m \u001b[39mValueError\u001b[39;00m(\n\u001b[1;32m    395\u001b[0m             \u001b[39m\"\u001b[39m\u001b[39mMime type rendering requires nbformat>=4.2.0 but it is not installed\u001b[39m\u001b[39m\"\u001b[39m\n\u001b[1;32m    396\u001b[0m         )\n\u001b[1;32m    398\u001b[0m     ipython_display\u001b[39m.\u001b[39mdisplay(bundle, raw\u001b[39m=\u001b[39m\u001b[39mTrue\u001b[39;00m)\n\u001b[1;32m    400\u001b[0m \u001b[39m# external renderers\u001b[39;00m\n",
            "\u001b[0;31mValueError\u001b[0m: Mime type rendering requires nbformat>=4.2.0 but it is not installed"
          ]
        }
      ],
      "source": [
        "import plotly.graph_objects as go\n",
        "from collections import Counter\n",
        "\n",
        "data = predicted_labels.flatten()\n",
        "\n",
        "fig = go.Figure(data=[\n",
        "    go.Histogram(x=data, histnorm='probability density')\n",
        "])\n",
        "\n",
        "fig.show()\n"
      ]
    },
    {
      "cell_type": "code",
      "execution_count": 66,
      "metadata": {},
      "outputs": [
        {
          "data": {
            "text/plain": [
              "Text(0.5, 1.0, 'holi')"
            ]
          },
          "execution_count": 66,
          "metadata": {},
          "output_type": "execute_result"
        },
        {
          "data": {
            "image/png": "[encoded data removed]",
            "text/plain": [
              "<Figure size 640x480 with 1 Axes>"
            ]
          },
          "metadata": {},
          "output_type": "display_data"
        }
      ],
      "source": [
        "import seaborn as sns\n",
        "import matplotlib.pyplot as plt\n",
        "\n",
        "\n",
        "data = predicted_labels.flatten()\n",
        "\n",
        "\n",
        "sns.histplot(data, bins=[0, 1, 2, 3], stat='density', discrete=True)\n",
        "\n"
      ]
    },
    {
      "cell_type": "code",
      "execution_count": null,
      "metadata": {},
      "outputs": [],
      "source": [
        "# Compute confusion matrix\n",
        "cm = confusion_matrix(y_true, y_pred_classes)\n",
        "\n",
        "# Plot using matplotlib\n",
        "plt.figure(figsize=(10,10))\n",
        "plt.imshow(cm, interpolation='nearest', cmap=plt.cm.Blues)\n",
        "plt.title('Confusion Matrix')\n",
        "plt.colorbar()\n",
        "tick_marks = np.arange(len(classes))  # Replace `classes` with your list of classes\n",
        "plt.xticks(tick_marks, classes, rotation=45)\n",
        "plt.yticks(tick_marks, classes)\n",
        "\n",
        "# Labeling the plot\n",
        "thresh = cm.max() / 2.  # for text color\n",
        "for i, j in itertools.product(range(cm.shape[0]), range(cm.shape[1])):\n",
        "    plt.text(j, i, cm[i, j],\n",
        "             horizontalalignment=\"center\",\n",
        "             color=\"white\" if cm[i, j] > thresh else \"black\")\n",
        "\n",
        "plt.tight_layout()\n",
        "plt.ylabel('True label')\n",
        "plt.xlabel('Predicted label')\n",
        "plt.show()\n",
        "\n",
        "# If you want a nicer visualization, use seaborn\n",
        "plt.figure(figsize=(10,10))\n",
        "sns.heatmap(cm, annot=True, fmt='d', cmap=plt.cm.Blues, cbar=False)\n",
        "plt.xlabel('Predicted Label')\n",
        "plt.ylabel('True Label')\n",
        "plt.xticks(tick_marks, classes, rotation=45)\n",
        "plt.yticks(tick_marks, classes)\n",
        "plt.show()"
      ]
    },
    {
      "cell_type": "code",
      "execution_count": null,
      "metadata": {},
      "outputs": [],
      "source": []
    },
    {
      "cell_type": "code",
      "execution_count": null,
      "metadata": {},
      "outputs": [],
      "source": []
    },
    {
      "cell_type": "code",
      "execution_count": null,
      "metadata": {},
      "outputs": [],
      "source": []
    },
    {
      "cell_type": "code",
      "execution_count": 143,
      "metadata": {},
      "outputs": [],
      "source": [
        "# def define_convTransformer(segment_size=256, sequence_length=5, nfeatures=8, nclasses=3):\n",
        "\n",
        "def define_convTransformer(segment_size, sequence_length, nfeatures, nclasses):\n",
        "    input_shape = (segment_size * sequence_length, nfeatures)\n",
        "\n",
        "    # Input layer\n",
        "    inputs = tf.keras.Input(shape=input_shape)\n",
        "\n",
        "    # CNN layers\n",
        "    x = layers.Conv1D(filters=64, kernel_size=3, padding='same', activation='relu')(inputs)\n",
        "    x = layers.MaxPooling1D(2)(x)\n",
        "\n",
        "    # for _ in range(7):\n",
        "    for _ in range(5):\n",
        "        x = layers.Conv1D(filters=64, kernel_size=3, padding='same', activation='relu')(x)\n",
        "        x = layers.MaxPooling1D(2)(x)\n",
        "\n",
        "    # Transformer layers\n",
        "    query_value_attention_seq = layers.MultiHeadAttention(num_heads=2, key_dim=2)(x, x) # this is the W matrix that computes the query with the X. #if key_dim is 2, you get a 2 dim vector for each `word` # same thing for the matrix that computes the Keys, the matrix that computes the keys and the querys has to have the same dim. \n",
        "\n",
        "    # Adding the self attention to the original sequence\n",
        "    x = layers.Add()([x, query_value_attention_seq])\n",
        "\n",
        "    # Layer Normalization\n",
        "    x = layers.LayerNormalization(epsilon=1e-6)(x)\n",
        "\n",
        "    # Position-wise Feed-Forward Part\n",
        "    x = layers.Conv1D(filters=128, kernel_size=1, activation='relu')(x)\n",
        "    x = layers.Conv1D(filters=64, kernel_size=1, activation='relu')(x)\n",
        "\n",
        "    # Adding the position-wise feedforward to the sequence\n",
        "    x = layers.Add()([x, query_value_attention_seq])\n",
        "\n",
        "    # Layer Normalization\n",
        "    x = layers.LayerNormalization(epsilon=1e-6)(x)\n",
        "\n",
        "    # Removed Global Average Pooling to keep the time dimension\n",
        "    # x = layers.Conv1D(filters=8, kernel_size=1, activation='relu')(x) # por que esta esta aca? estaba descomentada antes\n",
        "\n",
        "    # Dense layers for final classification - now it gives a prediction for each time step\n",
        "    x = layers.TimeDistributed(layers.Dense(sequence_length, activation='relu'))(x)\n",
        "    \n",
        "    outputs = layers.TimeDistributed(layers.Dense(nclasses, activation='softmax'))(x)\n",
        "\n",
        "    # Creating the model\n",
        "    model = Model(inputs=inputs, outputs=outputs)\n",
        "\n",
        "    return model\n",
        "\n",
        "\n",
        "\n",
        "model3 = define_convTransformer(segment_size=64, sequence_length=10, nfeatures=8, nclasses=3)\n",
        "#check spatial positioning encoding. It's in attention is all you need paper. \n",
        "\n"
      ]
    },
    {
      "cell_type": "code",
      "execution_count": 144,
      "metadata": {},
      "outputs": [
        {
          "name": "stdout",
          "output_type": "stream",
          "text": [
            "Model: \"model_29\"\n",
            "__________________________________________________________________________________________________\n",
            " Layer (type)                Output Shape                 Param #   Connected to                  \n",
            "==================================================================================================\n",
            " input_30 (InputLayer)       [(None, 640, 8)]             0         []                            \n",
            "                                                                                                  \n",
            " conv1d_287 (Conv1D)         (None, 640, 64)              1600      ['input_30[0][0]']            \n",
            "                                                                                                  \n",
            " max_pooling1d_215 (MaxPool  (None, 320, 64)              0         ['conv1d_287[0][0]']          \n",
            " ing1D)                                                                                           \n",
            "                                                                                                  \n",
            " conv1d_288 (Conv1D)         (None, 320, 64)              12352     ['max_pooling1d_215[0][0]']   \n",
            "                                                                                                  \n",
            " max_pooling1d_216 (MaxPool  (None, 160, 64)              0         ['conv1d_288[0][0]']          \n",
            " ing1D)                                                                                           \n",
            "                                                                                                  \n",
            " conv1d_289 (Conv1D)         (None, 160, 64)              12352     ['max_pooling1d_216[0][0]']   \n",
            "                                                                                                  \n",
            " max_pooling1d_217 (MaxPool  (None, 80, 64)               0         ['conv1d_289[0][0]']          \n",
            " ing1D)                                                                                           \n",
            "                                                                                                  \n",
            " conv1d_290 (Conv1D)         (None, 80, 64)               12352     ['max_pooling1d_217[0][0]']   \n",
            "                                                                                                  \n",
            " max_pooling1d_218 (MaxPool  (None, 40, 64)               0         ['conv1d_290[0][0]']          \n",
            " ing1D)                                                                                           \n",
            "                                                                                                  \n",
            " conv1d_291 (Conv1D)         (None, 40, 64)               12352     ['max_pooling1d_218[0][0]']   \n",
            "                                                                                                  \n",
            " max_pooling1d_219 (MaxPool  (None, 20, 64)               0         ['conv1d_291[0][0]']          \n",
            " ing1D)                                                                                           \n",
            "                                                                                                  \n",
            " conv1d_292 (Conv1D)         (None, 20, 64)               12352     ['max_pooling1d_219[0][0]']   \n",
            "                                                                                                  \n",
            " max_pooling1d_220 (MaxPool  (None, 10, 64)               0         ['conv1d_292[0][0]']          \n",
            " ing1D)                                                                                           \n",
            "                                                                                                  \n",
            " multi_head_attention_29 (M  (None, 10, 64)               1100      ['max_pooling1d_220[0][0]',   \n",
            " ultiHeadAttention)                                                  'max_pooling1d_220[0][0]']   \n",
            "                                                                                                  \n",
            " add_58 (Add)                (None, 10, 64)               0         ['max_pooling1d_220[0][0]',   \n",
            "                                                                     'multi_head_attention_29[0][0\n",
            "                                                                    ]']                           \n",
            "                                                                                                  \n",
            " layer_normalization_58 (La  (None, 10, 64)               128       ['add_58[0][0]']              \n",
            " yerNormalization)                                                                                \n",
            "                                                                                                  \n",
            " conv1d_293 (Conv1D)         (None, 10, 128)              8320      ['layer_normalization_58[0][0]\n",
            "                                                                    ']                            \n",
            "                                                                                                  \n",
            " conv1d_294 (Conv1D)         (None, 10, 64)               8256      ['conv1d_293[0][0]']          \n",
            "                                                                                                  \n",
            " add_59 (Add)                (None, 10, 64)               0         ['conv1d_294[0][0]',          \n",
            "                                                                     'multi_head_attention_29[0][0\n",
            "                                                                    ]']                           \n",
            "                                                                                                  \n",
            " layer_normalization_59 (La  (None, 10, 64)               128       ['add_59[0][0]']              \n",
            " yerNormalization)                                                                                \n",
            "                                                                                                  \n",
            " time_distributed_58 (TimeD  (None, 10, 10)               650       ['layer_normalization_59[0][0]\n",
            " istributed)                                                        ']                            \n",
            "                                                                                                  \n",
            " time_distributed_59 (TimeD  (None, 10, 3)                33        ['time_distributed_58[0][0]'] \n",
            " istributed)                                                                                      \n",
            "                                                                                                  \n",
            "==================================================================================================\n",
            "Total params: 81975 (320.21 KB)\n",
            "Trainable params: 81975 (320.21 KB)\n",
            "Non-trainable params: 0 (0.00 Byte)\n",
            "__________________________________________________________________________________________________\n"
          ]
        }
      ],
      "source": [
        "model3.summary()"
      ]
    },
    {
      "cell_type": "code",
      "execution_count": 20,
      "metadata": {},
      "outputs": [
        {
          "data": {
            "text/plain": [
              "array([[[1., 0., 0.],\n",
              "        [1., 0., 0.],\n",
              "        [1., 0., 0.],\n",
              "        [1., 0., 0.],\n",
              "        [1., 0., 0.]],\n",
              "\n",
              "       [[1., 0., 0.],\n",
              "        [1., 0., 0.],\n",
              "        [1., 0., 0.],\n",
              "        [1., 0., 0.],\n",
              "        [1., 0., 0.]],\n",
              "\n",
              "       [[1., 0., 0.],\n",
              "        [0., 0., 1.],\n",
              "        [0., 0., 1.],\n",
              "        [0., 0., 1.],\n",
              "        [0., 0., 1.]],\n",
              "\n",
              "       ...,\n",
              "\n",
              "       [[0., 0., 1.],\n",
              "        [0., 0., 1.],\n",
              "        [0., 0., 1.],\n",
              "        [0., 0., 1.],\n",
              "        [0., 0., 1.]],\n",
              "\n",
              "       [[0., 0., 1.],\n",
              "        [1., 0., 0.],\n",
              "        [1., 0., 0.],\n",
              "        [1., 0., 0.],\n",
              "        [1., 0., 0.]],\n",
              "\n",
              "       [[1., 0., 0.],\n",
              "        [1., 0., 0.],\n",
              "        [1., 0., 0.],\n",
              "        [1., 0., 0.],\n",
              "        [1., 0., 0.]]])"
            ]
          },
          "execution_count": 20,
          "metadata": {},
          "output_type": "execute_result"
        }
      ],
      "source": [
        "y_train_convT"
      ]
    },
    {
      "cell_type": "code",
      "execution_count": 142,
      "metadata": {},
      "outputs": [
        {
          "data": {
            "text/plain": [
              "((736, 640, 8), (736, 10, 3))"
            ]
          },
          "execution_count": 142,
          "metadata": {},
          "output_type": "execute_result"
        }
      ],
      "source": [
        "x_train.shape, y_train.shape"
      ]
    },
    {
      "cell_type": "code",
      "execution_count": 84,
      "metadata": {},
      "outputs": [
        {
          "name": "stdout",
          "output_type": "stream",
          "text": [
            "Collecting sklearn\n",
            "  Downloading sklearn-0.0.post11.tar.gz (3.6 kB)\n",
            "  Preparing metadata (setup.py) ... \u001b[?25ldone\n",
            "\u001b[?25hBuilding wheels for collected packages: sklearn\n",
            "  Building wheel for sklearn (setup.py) ... \u001b[?25ldone\n",
            "\u001b[?25h  Created wheel for sklearn: filename=sklearn-0.0.post11-py3-none-any.whl size=2959 sha256=e364dd4c79174709d309db647518d3c7f3201f02974f0547199e72b8839fb32c\n",
            "  Stored in directory: /home/franfram/.cache/pip/wheels/52/cc/47/500a56407c060a5d18bda9aa3ec2daf4721b8448ee4b268840\n",
            "Successfully built sklearn\n",
            "Installing collected packages: sklearn\n",
            "Successfully installed sklearn-0.0.post11\n"
          ]
        }
      ],
      "source": [
        "https://www.tensorflow.org/api_docs/python/tf/keras/Model\n",
        "\n"
      ]
    },
    {
      "cell_type": "code",
      "execution_count": 135,
      "metadata": {},
      "outputs": [],
      "source": [
        "from sklearn.model_selection import train_test_split\n",
        "#while val split is not balanced repeat this\n",
        "x_train, x_val, y_train, y_val = train_test_split(x_train_convT, y_train_convT, test_size=0.2, shuffle=True)"
      ]
    },
    {
      "cell_type": "code",
      "execution_count": 136,
      "metadata": {},
      "outputs": [
        {
          "data": {
            "text/plain": [
              "((736, 10, 3), (185, 10, 3))"
            ]
          },
          "execution_count": 136,
          "metadata": {},
          "output_type": "execute_result"
        }
      ],
      "source": [
        "y_train.shape, y_val.shape"
      ]
    },
    {
      "cell_type": "code",
      "execution_count": 137,
      "metadata": {},
      "outputs": [
        {
          "data": {
            "text/plain": [
              "{0: 0.724766125061546, 1: 0.68663121559847, 2: 6.102819237147595}"
            ]
          },
          "execution_count": 137,
          "metadata": {},
          "output_type": "execute_result"
        }
      ],
      "source": [
        "from sklearn.utils import class_weight\n",
        "import numpy as np\n",
        "\n",
        "# Flatten the timestep and one-hot dimensions of your labels\n",
        "# This will give you a 2D array of shape (472 * 5, 3), treating each timestep as a sample\n",
        "y_train_flat = y_train.reshape(-1, y_train.shape[-1])\n",
        "\n",
        "# Convert one-hot encoded labels to integers\n",
        "y_train_integers = np.argmax(y_train_flat, axis=1)\n",
        "\n",
        "# Calculate class weights\n",
        "class_weights = class_weight.compute_class_weight(\n",
        "    'balanced',\n",
        "    classes=np.unique(y_train_integers),\n",
        "    y=y_train_integers)\n",
        "\n",
        "# Convert class weights to a dictionary to pass it to Keras\n",
        "class_weights_dict = dict(enumerate(class_weights))\n",
        "class_weights_dict"
      ]
    },
    {
      "cell_type": "code",
      "execution_count": 139,
      "metadata": {},
      "outputs": [
        {
          "data": {
            "text/plain": [
              "(array([2.29959239, 0.        , 0.        , 0.        , 0.        ,\n",
              "        2.42730978, 0.        , 0.        , 0.        , 0.27309783]),\n",
              " array([0. , 0.2, 0.4, 0.6, 0.8, 1. , 1.2, 1.4, 1.6, 1.8, 2. ]),\n",
              " <BarContainer object of 10 artists>)"
            ]
          },
          "execution_count": 139,
          "metadata": {},
          "output_type": "execute_result"
        },
        {
          "data": {
            "image/png": "[encoded data removed]",
            "text/plain": [
              "<Figure size 640x480 with 1 Axes>"
            ]
          },
          "metadata": {},
          "output_type": "display_data"
        }
      ],
      "source": [
        "import matplotlib.pyplot as plt\n",
        "plt.hist(y_train_integers, density=True)\n",
        "\n"
      ]
    },
    {
      "cell_type": "code",
      "execution_count": 49,
      "metadata": {},
      "outputs": [
        {
          "data": {
            "text/plain": [
              "{0: 0.7059925093632958, 1: 0.7067866516685414, 2: 5.927672955974843}"
            ]
          },
          "execution_count": 49,
          "metadata": {},
          "output_type": "execute_result"
        }
      ],
      "source": [
        "# class_weights_dict[2] = 4\n",
        "class_weights_dict"
      ]
    },
    {
      "cell_type": "code",
      "execution_count": 141,
      "metadata": {},
      "outputs": [
        {
          "data": {
            "text/plain": [
              "((736, 640, 8), (736, 10, 3))"
            ]
          },
          "execution_count": 141,
          "metadata": {},
          "output_type": "execute_result"
        }
      ],
      "source": [
        "x_train.shape, y_train.shape"
      ]
    },
    {
      "cell_type": "code",
      "execution_count": 145,
      "metadata": {},
      "outputs": [
        {
          "name": "stdout",
          "output_type": "stream",
          "text": [
            "Model: \"model_30\"\n",
            "__________________________________________________________________________________________________\n",
            " Layer (type)                Output Shape                 Param #   Connected to                  \n",
            "==================================================================================================\n",
            " input_31 (InputLayer)       [(None, 640, 8)]             0         []                            \n",
            "                                                                                                  \n",
            " conv1d_295 (Conv1D)         (None, 640, 64)              1600      ['input_31[0][0]']            \n",
            "                                                                                                  \n",
            " max_pooling1d_221 (MaxPool  (None, 320, 64)              0         ['conv1d_295[0][0]']          \n",
            " ing1D)                                                                                           \n",
            "                                                                                                  \n",
            " conv1d_296 (Conv1D)         (None, 320, 64)              12352     ['max_pooling1d_221[0][0]']   \n",
            "                                                                                                  \n",
            " max_pooling1d_222 (MaxPool  (None, 160, 64)              0         ['conv1d_296[0][0]']          \n",
            " ing1D)                                                                                           \n",
            "                                                                                                  \n",
            " conv1d_297 (Conv1D)         (None, 160, 64)              12352     ['max_pooling1d_222[0][0]']   \n",
            "                                                                                                  \n",
            " max_pooling1d_223 (MaxPool  (None, 80, 64)               0         ['conv1d_297[0][0]']          \n",
            " ing1D)                                                                                           \n",
            "                                                                                                  \n",
            " conv1d_298 (Conv1D)         (None, 80, 64)               12352     ['max_pooling1d_223[0][0]']   \n",
            "                                                                                                  \n",
            " max_pooling1d_224 (MaxPool  (None, 40, 64)               0         ['conv1d_298[0][0]']          \n",
            " ing1D)                                                                                           \n",
            "                                                                                                  \n",
            " conv1d_299 (Conv1D)         (None, 40, 64)               12352     ['max_pooling1d_224[0][0]']   \n",
            "                                                                                                  \n",
            " max_pooling1d_225 (MaxPool  (None, 20, 64)               0         ['conv1d_299[0][0]']          \n",
            " ing1D)                                                                                           \n",
            "                                                                                                  \n",
            " conv1d_300 (Conv1D)         (None, 20, 64)               12352     ['max_pooling1d_225[0][0]']   \n",
            "                                                                                                  \n",
            " max_pooling1d_226 (MaxPool  (None, 10, 64)               0         ['conv1d_300[0][0]']          \n",
            " ing1D)                                                                                           \n",
            "                                                                                                  \n",
            " multi_head_attention_30 (M  (None, 10, 64)               1100      ['max_pooling1d_226[0][0]',   \n",
            " ultiHeadAttention)                                                  'max_pooling1d_226[0][0]']   \n",
            "                                                                                                  \n",
            " add_60 (Add)                (None, 10, 64)               0         ['max_pooling1d_226[0][0]',   \n",
            "                                                                     'multi_head_attention_30[0][0\n",
            "                                                                    ]']                           \n",
            "                                                                                                  \n",
            " layer_normalization_60 (La  (None, 10, 64)               128       ['add_60[0][0]']              \n",
            " yerNormalization)                                                                                \n",
            "                                                                                                  \n",
            " conv1d_301 (Conv1D)         (None, 10, 128)              8320      ['layer_normalization_60[0][0]\n",
            "                                                                    ']                            \n",
            "                                                                                                  \n",
            " conv1d_302 (Conv1D)         (None, 10, 64)               8256      ['conv1d_301[0][0]']          \n",
            "                                                                                                  \n",
            " add_61 (Add)                (None, 10, 64)               0         ['conv1d_302[0][0]',          \n",
            "                                                                     'multi_head_attention_30[0][0\n",
            "                                                                    ]']                           \n",
            "                                                                                                  \n",
            " layer_normalization_61 (La  (None, 10, 64)               128       ['add_61[0][0]']              \n",
            " yerNormalization)                                                                                \n",
            "                                                                                                  \n",
            " time_distributed_60 (TimeD  (None, 10, 10)               650       ['layer_normalization_61[0][0]\n",
            " istributed)                                                        ']                            \n",
            "                                                                                                  \n",
            " time_distributed_61 (TimeD  (None, 10, 3)                33        ['time_distributed_60[0][0]'] \n",
            " istributed)                                                                                      \n",
            "                                                                                                  \n",
            "==================================================================================================\n",
            "Total params: 81975 (320.21 KB)\n",
            "Trainable params: 81975 (320.21 KB)\n",
            "Non-trainable params: 0 (0.00 Byte)\n",
            "__________________________________________________________________________________________________\n",
            "Epoch 1/70\n",
            "23/23 [==============================] - 2s 29ms/step - loss: 0.6661 - accuracy: 0.8336 - val_loss: 0.4178 - val_accuracy: 0.8481\n",
            "Epoch 2/70\n",
            "23/23 [==============================] - 0s 20ms/step - loss: 0.4007 - accuracy: 0.8889 - val_loss: 0.4685 - val_accuracy: 0.7800\n",
            "Epoch 3/70\n",
            "23/23 [==============================] - 0s 20ms/step - loss: 0.3489 - accuracy: 0.8986 - val_loss: 0.3354 - val_accuracy: 0.8589\n",
            "Epoch 4/70\n",
            "23/23 [==============================] - 0s 18ms/step - loss: 0.2756 - accuracy: 0.9139 - val_loss: 0.0999 - val_accuracy: 0.9805\n",
            "Epoch 5/70\n",
            "23/23 [==============================] - 0s 17ms/step - loss: 0.2607 - accuracy: 0.9477 - val_loss: 0.1198 - val_accuracy: 0.9708\n",
            "Epoch 6/70\n",
            "23/23 [==============================] - 0s 17ms/step - loss: 0.1950 - accuracy: 0.9549 - val_loss: 0.1287 - val_accuracy: 0.9692\n",
            "Epoch 7/70\n",
            "23/23 [==============================] - 0s 16ms/step - loss: 0.1609 - accuracy: 0.9721 - val_loss: 0.0681 - val_accuracy: 0.9919\n",
            "Epoch 8/70\n",
            "23/23 [==============================] - 0s 17ms/step - loss: 0.1711 - accuracy: 0.9503 - val_loss: 0.0877 - val_accuracy: 0.9741\n",
            "Epoch 9/70\n",
            "23/23 [==============================] - 0s 16ms/step - loss: 0.2074 - accuracy: 0.9543 - val_loss: 0.1043 - val_accuracy: 0.9784\n",
            "Epoch 10/70\n",
            "23/23 [==============================] - 0s 17ms/step - loss: 0.1888 - accuracy: 0.9474 - val_loss: 0.2101 - val_accuracy: 0.9405\n",
            "Epoch 11/70\n",
            "23/23 [==============================] - 0s 16ms/step - loss: 0.1557 - accuracy: 0.9546 - val_loss: 0.0651 - val_accuracy: 0.9811\n",
            "Epoch 12/70\n",
            "23/23 [==============================] - 0s 16ms/step - loss: 0.1289 - accuracy: 0.9707 - val_loss: 0.0944 - val_accuracy: 0.9832\n",
            "Epoch 13/70\n",
            "23/23 [==============================] - 0s 16ms/step - loss: 0.1241 - accuracy: 0.9673 - val_loss: 0.1255 - val_accuracy: 0.9459\n",
            "Epoch 14/70\n",
            "23/23 [==============================] - 0s 17ms/step - loss: 0.1325 - accuracy: 0.9697 - val_loss: 0.0723 - val_accuracy: 0.9789\n",
            "Epoch 15/70\n",
            "23/23 [==============================] - 0s 17ms/step - loss: 0.1061 - accuracy: 0.9774 - val_loss: 0.0730 - val_accuracy: 0.9773\n",
            "Epoch 16/70\n",
            "23/23 [==============================] - 0s 16ms/step - loss: 0.0910 - accuracy: 0.9764 - val_loss: 0.0525 - val_accuracy: 0.9876\n",
            "Epoch 17/70\n",
            "23/23 [==============================] - 0s 17ms/step - loss: 0.1093 - accuracy: 0.9738 - val_loss: 0.0663 - val_accuracy: 0.9838\n",
            "Epoch 18/70\n",
            "23/23 [==============================] - 0s 18ms/step - loss: 0.0853 - accuracy: 0.9827 - val_loss: 0.2081 - val_accuracy: 0.9362\n",
            "Epoch 19/70\n",
            "23/23 [==============================] - 0s 18ms/step - loss: 0.0928 - accuracy: 0.9745 - val_loss: 0.1010 - val_accuracy: 0.9595\n",
            "Epoch 20/70\n",
            "23/23 [==============================] - 0s 16ms/step - loss: 0.0812 - accuracy: 0.9772 - val_loss: 0.0417 - val_accuracy: 0.9870\n",
            "Epoch 21/70\n",
            "23/23 [==============================] - 1s 23ms/step - loss: 0.0620 - accuracy: 0.9810 - val_loss: 0.0489 - val_accuracy: 0.9827\n",
            "Epoch 22/70\n",
            "23/23 [==============================] - 1s 24ms/step - loss: 0.0593 - accuracy: 0.9803 - val_loss: 0.0482 - val_accuracy: 0.9859\n",
            "Epoch 23/70\n",
            "23/23 [==============================] - 1s 22ms/step - loss: 0.0519 - accuracy: 0.9867 - val_loss: 0.0664 - val_accuracy: 0.9757\n",
            "Epoch 24/70\n",
            "23/23 [==============================] - 1s 22ms/step - loss: 0.0430 - accuracy: 0.9852 - val_loss: 0.0404 - val_accuracy: 0.9876\n",
            "Epoch 25/70\n",
            "23/23 [==============================] - 1s 23ms/step - loss: 0.0351 - accuracy: 0.9870 - val_loss: 0.0591 - val_accuracy: 0.9843\n",
            "Epoch 26/70\n",
            "23/23 [==============================] - 1s 22ms/step - loss: 0.0333 - accuracy: 0.9894 - val_loss: 0.0817 - val_accuracy: 0.9697\n",
            "Epoch 27/70\n",
            "23/23 [==============================] - 1s 23ms/step - loss: 0.0379 - accuracy: 0.9879 - val_loss: 0.1574 - val_accuracy: 0.9470\n",
            "Epoch 28/70\n",
            "23/23 [==============================] - 1s 22ms/step - loss: 0.0558 - accuracy: 0.9800 - val_loss: 0.0910 - val_accuracy: 0.9649\n",
            "Epoch 29/70\n",
            "23/23 [==============================] - 1s 22ms/step - loss: 0.0663 - accuracy: 0.9883 - val_loss: 0.0837 - val_accuracy: 0.9724\n",
            "Epoch 30/70\n",
            "23/23 [==============================] - 1s 22ms/step - loss: 0.2090 - accuracy: 0.9505 - val_loss: 0.0818 - val_accuracy: 0.9724\n",
            "Epoch 31/70\n",
            "23/23 [==============================] - 1s 22ms/step - loss: 0.1083 - accuracy: 0.9694 - val_loss: 0.0767 - val_accuracy: 0.9724\n",
            "Epoch 32/70\n",
            "23/23 [==============================] - 1s 22ms/step - loss: 0.0563 - accuracy: 0.9827 - val_loss: 0.0433 - val_accuracy: 0.9827\n",
            "Epoch 33/70\n",
            "23/23 [==============================] - 1s 23ms/step - loss: 0.0435 - accuracy: 0.9872 - val_loss: 0.0522 - val_accuracy: 0.9838\n",
            "Epoch 34/70\n",
            "23/23 [==============================] - 1s 23ms/step - loss: 0.0406 - accuracy: 0.9863 - val_loss: 0.0757 - val_accuracy: 0.9735\n",
            "Epoch 35/70\n",
            "23/23 [==============================] - 1s 22ms/step - loss: 0.0513 - accuracy: 0.9819 - val_loss: 0.0460 - val_accuracy: 0.9870\n",
            "Epoch 36/70\n",
            "23/23 [==============================] - 1s 23ms/step - loss: 0.0308 - accuracy: 0.9909 - val_loss: 0.0476 - val_accuracy: 0.9832\n",
            "Epoch 37/70\n",
            "23/23 [==============================] - 1s 23ms/step - loss: 0.0269 - accuracy: 0.9885 - val_loss: 0.0496 - val_accuracy: 0.9832\n",
            "Epoch 38/70\n",
            "23/23 [==============================] - 1s 22ms/step - loss: 0.0207 - accuracy: 0.9931 - val_loss: 0.0435 - val_accuracy: 0.9865\n",
            "Epoch 39/70\n",
            "23/23 [==============================] - 0s 22ms/step - loss: 0.0171 - accuracy: 0.9951 - val_loss: 0.0516 - val_accuracy: 0.9822\n",
            "Epoch 40/70\n",
            "23/23 [==============================] - 1s 23ms/step - loss: 0.0142 - accuracy: 0.9950 - val_loss: 0.0511 - val_accuracy: 0.9870\n",
            "Epoch 41/70\n",
            "23/23 [==============================] - 1s 22ms/step - loss: 0.0162 - accuracy: 0.9936 - val_loss: 0.0699 - val_accuracy: 0.9805\n",
            "Epoch 42/70\n",
            "23/23 [==============================] - 0s 22ms/step - loss: 0.0567 - accuracy: 0.9867 - val_loss: 0.0897 - val_accuracy: 0.9686\n",
            "Epoch 43/70\n",
            "23/23 [==============================] - 0s 22ms/step - loss: 0.0384 - accuracy: 0.9825 - val_loss: 0.0664 - val_accuracy: 0.9800\n",
            "Epoch 44/70\n",
            "23/23 [==============================] - 1s 22ms/step - loss: 0.0349 - accuracy: 0.9894 - val_loss: 0.0517 - val_accuracy: 0.9843\n",
            "Epoch 45/70\n",
            "23/23 [==============================] - 1s 23ms/step - loss: 0.0269 - accuracy: 0.9906 - val_loss: 0.0559 - val_accuracy: 0.9827\n",
            "Epoch 46/70\n",
            "23/23 [==============================] - 1s 23ms/step - loss: 0.0144 - accuracy: 0.9962 - val_loss: 0.0522 - val_accuracy: 0.9849\n",
            "Epoch 47/70\n",
            "23/23 [==============================] - 0s 22ms/step - loss: 0.0120 - accuracy: 0.9950 - val_loss: 0.0499 - val_accuracy: 0.9870\n",
            "Epoch 48/70\n",
            "23/23 [==============================] - 0s 22ms/step - loss: 0.0084 - accuracy: 0.9966 - val_loss: 0.0562 - val_accuracy: 0.9859\n",
            "Epoch 49/70\n",
            "23/23 [==============================] - 0s 22ms/step - loss: 0.0066 - accuracy: 0.9981 - val_loss: 0.0540 - val_accuracy: 0.9854\n",
            "Epoch 50/70\n",
            "23/23 [==============================] - 0s 22ms/step - loss: 0.0051 - accuracy: 0.9988 - val_loss: 0.0598 - val_accuracy: 0.9865\n",
            "Epoch 51/70\n",
            "23/23 [==============================] - 1s 22ms/step - loss: 0.0046 - accuracy: 0.9984 - val_loss: 0.0618 - val_accuracy: 0.9849\n",
            "Epoch 52/70\n",
            "23/23 [==============================] - 1s 24ms/step - loss: 0.0031 - accuracy: 0.9993 - val_loss: 0.0641 - val_accuracy: 0.9843\n",
            "Epoch 53/70\n",
            "23/23 [==============================] - 1s 23ms/step - loss: 0.0026 - accuracy: 0.9992 - val_loss: 0.0673 - val_accuracy: 0.9843\n",
            "Epoch 54/70\n",
            "23/23 [==============================] - 1s 22ms/step - loss: 0.0024 - accuracy: 0.9997 - val_loss: 0.0638 - val_accuracy: 0.9854\n",
            "Epoch 55/70\n",
            "23/23 [==============================] - 1s 23ms/step - loss: 0.0032 - accuracy: 0.9988 - val_loss: 0.0663 - val_accuracy: 0.9854\n",
            "Epoch 56/70\n",
            "23/23 [==============================] - 1s 23ms/step - loss: 0.0028 - accuracy: 0.9992 - val_loss: 0.0732 - val_accuracy: 0.9832\n",
            "Epoch 57/70\n",
            "23/23 [==============================] - 1s 28ms/step - loss: 0.0033 - accuracy: 0.9992 - val_loss: 0.0657 - val_accuracy: 0.9854\n",
            "Epoch 58/70\n",
            "23/23 [==============================] - 1s 26ms/step - loss: 0.0030 - accuracy: 0.9995 - val_loss: 0.0672 - val_accuracy: 0.9849\n",
            "Epoch 59/70\n",
            "23/23 [==============================] - 1s 28ms/step - loss: 0.0052 - accuracy: 0.9982 - val_loss: 0.0792 - val_accuracy: 0.9843\n",
            "Epoch 60/70\n",
            "23/23 [==============================] - 1s 23ms/step - loss: 0.0224 - accuracy: 0.9943 - val_loss: 0.0580 - val_accuracy: 0.9849\n",
            "Epoch 61/70\n",
            "23/23 [==============================] - 1s 26ms/step - loss: 0.1020 - accuracy: 0.9736 - val_loss: 0.1554 - val_accuracy: 0.9659\n",
            "Epoch 62/70\n",
            "23/23 [==============================] - 1s 24ms/step - loss: 0.0459 - accuracy: 0.9832 - val_loss: 0.1042 - val_accuracy: 0.9746\n",
            "Epoch 63/70\n",
            "23/23 [==============================] - 1s 24ms/step - loss: 0.0467 - accuracy: 0.9837 - val_loss: 0.0876 - val_accuracy: 0.9681\n",
            "Epoch 64/70\n",
            "23/23 [==============================] - 1s 25ms/step - loss: 0.0309 - accuracy: 0.9897 - val_loss: 0.0798 - val_accuracy: 0.9822\n",
            "Epoch 65/70\n",
            "23/23 [==============================] - 1s 23ms/step - loss: 0.0147 - accuracy: 0.9946 - val_loss: 0.0784 - val_accuracy: 0.9832\n",
            "Epoch 66/70\n",
            "23/23 [==============================] - 1s 23ms/step - loss: 0.0142 - accuracy: 0.9951 - val_loss: 0.0984 - val_accuracy: 0.9757\n",
            "Epoch 67/70\n",
            "23/23 [==============================] - 1s 22ms/step - loss: 0.0113 - accuracy: 0.9959 - val_loss: 0.0803 - val_accuracy: 0.9822\n",
            "Epoch 68/70\n",
            "23/23 [==============================] - 1s 23ms/step - loss: 0.0057 - accuracy: 0.9986 - val_loss: 0.0854 - val_accuracy: 0.9838\n",
            "Epoch 69/70\n",
            "23/23 [==============================] - 1s 22ms/step - loss: 0.0035 - accuracy: 0.9995 - val_loss: 0.0878 - val_accuracy: 0.9816\n",
            "Epoch 70/70\n",
            "23/23 [==============================] - 1s 22ms/step - loss: 0.0035 - accuracy: 0.9980 - val_loss: 0.0876 - val_accuracy: 0.9849\n"
          ]
        }
      ],
      "source": [
        "\n",
        "\n",
        "model3 = define_convTransformer(segment_size=64, sequence_length=10, nfeatures=8, nclasses=3)\n",
        "\n",
        "\n",
        "model3.summary()\n",
        "\n",
        "model3.compile(\n",
        "    optimizer=tf.keras.optimizers.Adam(learning_rate=0.001),\n",
        "    loss='categorical_crossentropy',\n",
        "    metrics=['accuracy']\n",
        ")\n",
        "\n",
        "\n",
        "\n",
        "# # fit3 = model3.fit(\n",
        "# #     x=x_train_convT,\n",
        "# #     y=y_train_convT,\n",
        "# #     batch_size=32,\n",
        "# #     epochs=50,\n",
        "# #     validation_split=0.2,\n",
        "# #     shuffle=True,\n",
        "# #     class_weight=class_weights_dict\n",
        "# # )\n",
        "\n",
        "\n",
        "\n",
        "fit5 = model3.fit(\n",
        "    x=x_train,\n",
        "    y=y_train,\n",
        "    batch_size=32,\n",
        "    epochs=70,\n",
        "    validation_data=(x_val, y_val),\n",
        "    class_weight=class_weights_dict\n",
        ")\n",
        "\n",
        "\n"
      ]
    },
    {
      "cell_type": "code",
      "execution_count": 146,
      "metadata": {},
      "outputs": [
        {
          "data": {
            "application/vnd.plotly.v1+json": {
              "config": {
                "plotlyServerURL": "https://plot.ly"
              },
              "data": [
                {
                  "hovertemplate": "Epoch: %{x}<br>Value: %{y:.4f}<extra></extra>",
                  "marker": {
                    "color": "red"
                  },
                  "mode": "lines+markers",
                  "name": "Training Loss",
                  "type": "scatter",
                  "x": [
                    1,
                    2,
                    3,
                    4,
                    5,
                    6,
                    7,
                    8,
                    9,
                    10,
                    11,
                    12,
                    13,
                    14,
                    15,
                    16,
                    17,
                    18,
                    19,
                    20,
                    21,
                    22,
                    23,
                    24,
                    25,
                    26,
                    27,
                    28,
                    29,
                    30,
                    31,
                    32,
                    33,
                    34,
                    35,
                    36,
                    37,
                    38,
                    39,
                    40,
                    41,
                    42,
                    43,
                    44,
                    45,
                    46,
                    47,
                    48,
                    49,
                    50,
                    51,
                    52,
                    53,
                    54,
                    55,
                    56,
                    57,
                    58,
                    59,
                    60,
                    61,
                    62,
                    63,
                    64,
                    65,
                    66,
                    67,
                    68,
                    69,
                    70
                  ],
                  "xaxis": "x",
                  "y": [
                    0.6661065816879272,
                    0.4007423520088196,
                    0.3488573431968689,
                    0.2756308317184448,
                    0.2607244849205017,
                    0.19499683380126953,
                    0.16086415946483612,
                    0.17113731801509857,
                    0.20741941034793854,
                    0.18875296413898468,
                    0.15572357177734375,
                    0.12887267768383026,
                    0.12411179393529892,
                    0.13252204656600952,
                    0.10611464828252792,
                    0.09104803204536438,
                    0.1093330904841423,
                    0.08525882661342621,
                    0.09281280636787415,
                    0.08118850737810135,
                    0.061983104795217514,
                    0.05925266072154045,
                    0.05188341811299324,
                    0.04302698001265526,
                    0.03512067347764969,
                    0.033268339931964874,
                    0.037938058376312256,
                    0.055827897042036057,
                    0.06629291921854019,
                    0.2090086042881012,
                    0.10833925753831863,
                    0.05633912235498428,
                    0.04353136941790581,
                    0.04061608389019966,
                    0.05128777399659157,
                    0.030829481780529022,
                    0.026933841407299042,
                    0.02068432979285717,
                    0.017077378928661346,
                    0.01424060296267271,
                    0.016190940514206886,
                    0.0567341223359108,
                    0.03839430585503578,
                    0.034931838512420654,
                    0.02692532353103161,
                    0.014427798800170422,
                    0.012005838565528393,
                    0.008369842544198036,
                    0.006640917621552944,
                    0.005088228266686201,
                    0.004570223856717348,
                    0.0030990391969680786,
                    0.0025932753924280405,
                    0.0023697330616414547,
                    0.0032467625569552183,
                    0.002789343474432826,
                    0.003328094258904457,
                    0.003039690898731351,
                    0.005194788333028555,
                    0.022369978949427605,
                    0.10197538137435913,
                    0.04589129984378815,
                    0.046670328825712204,
                    0.03085877001285553,
                    0.014696210622787476,
                    0.0142098693177104,
                    0.01130172610282898,
                    0.005651633255183697,
                    0.0034870991948992014,
                    0.0035231667570769787
                  ],
                  "yaxis": "y"
                },
                {
                  "hovertemplate": "Epoch: %{x}<br>Value: %{y:.4f}<extra></extra>",
                  "marker": {
                    "color": "green"
                  },
                  "mode": "lines+markers",
                  "name": "Validation Loss",
                  "type": "scatter",
                  "x": [
                    1,
                    2,
                    3,
                    4,
                    5,
                    6,
                    7,
                    8,
                    9,
                    10,
                    11,
                    12,
                    13,
                    14,
                    15,
                    16,
                    17,
                    18,
                    19,
                    20,
                    21,
                    22,
                    23,
                    24,
                    25,
                    26,
                    27,
                    28,
                    29,
                    30,
                    31,
                    32,
                    33,
                    34,
                    35,
                    36,
                    37,
                    38,
                    39,
                    40,
                    41,
                    42,
                    43,
                    44,
                    45,
                    46,
                    47,
                    48,
                    49,
                    50,
                    51,
                    52,
                    53,
                    54,
                    55,
                    56,
                    57,
                    58,
                    59,
                    60,
                    61,
                    62,
                    63,
                    64,
                    65,
                    66,
                    67,
                    68,
                    69,
                    70
                  ],
                  "xaxis": "x",
                  "y": [
                    0.4178488552570343,
                    0.46850693225860596,
                    0.3354409337043762,
                    0.09992553293704987,
                    0.11977122724056244,
                    0.12869776785373688,
                    0.06806110590696335,
                    0.08772513270378113,
                    0.10433688014745712,
                    0.21005092561244965,
                    0.0650835782289505,
                    0.0944385752081871,
                    0.12554490566253662,
                    0.07227755337953568,
                    0.07304426282644272,
                    0.052452199161052704,
                    0.06631042063236237,
                    0.20806509256362915,
                    0.10097278654575348,
                    0.0417313277721405,
                    0.04885012283921242,
                    0.048247434198856354,
                    0.0663767009973526,
                    0.04043484106659889,
                    0.05913793668150902,
                    0.08165090531110764,
                    0.15737684071063995,
                    0.09101560711860657,
                    0.08373518288135529,
                    0.08180707693099976,
                    0.07668589055538177,
                    0.0432695634663105,
                    0.0522279366850853,
                    0.07567760348320007,
                    0.04599764570593834,
                    0.04763383790850639,
                    0.04959362745285034,
                    0.043503373861312866,
                    0.051592934876680374,
                    0.05107150226831436,
                    0.06994722783565521,
                    0.08969233930110931,
                    0.06640555709600449,
                    0.05173858255147934,
                    0.055895667523145676,
                    0.05224082991480827,
                    0.04992009326815605,
                    0.056173715740442276,
                    0.05402586609125137,
                    0.05976026505231857,
                    0.06181361898779869,
                    0.06412291526794434,
                    0.06732547283172607,
                    0.06381642818450928,
                    0.06629228591918945,
                    0.07321926951408386,
                    0.06567846983671188,
                    0.06720680743455887,
                    0.07918581366539001,
                    0.05797385796904564,
                    0.15537433326244354,
                    0.10419576615095139,
                    0.08764468878507614,
                    0.07978921383619308,
                    0.07837770134210587,
                    0.09839877486228943,
                    0.08032272011041641,
                    0.08544778823852539,
                    0.0878337025642395,
                    0.08761411160230637
                  ],
                  "yaxis": "y"
                },
                {
                  "hovertemplate": "Epoch: %{x}<br>Value: %{y:.4f}<extra></extra>",
                  "marker": {
                    "color": "red"
                  },
                  "mode": "lines+markers",
                  "name": "Training Accuracy",
                  "type": "scatter",
                  "x": [
                    1,
                    2,
                    3,
                    4,
                    5,
                    6,
                    7,
                    8,
                    9,
                    10,
                    11,
                    12,
                    13,
                    14,
                    15,
                    16,
                    17,
                    18,
                    19,
                    20,
                    21,
                    22,
                    23,
                    24,
                    25,
                    26,
                    27,
                    28,
                    29,
                    30,
                    31,
                    32,
                    33,
                    34,
                    35,
                    36,
                    37,
                    38,
                    39,
                    40,
                    41,
                    42,
                    43,
                    44,
                    45,
                    46,
                    47,
                    48,
                    49,
                    50,
                    51,
                    52,
                    53,
                    54,
                    55,
                    56,
                    57,
                    58,
                    59,
                    60,
                    61,
                    62,
                    63,
                    64,
                    65,
                    66,
                    67,
                    68,
                    69,
                    70
                  ],
                  "xaxis": "x2",
                  "y": [
                    0.8335598111152649,
                    0.8888586759567261,
                    0.8986412882804871,
                    0.9138587117195129,
                    0.9476901888847351,
                    0.9548913240432739,
                    0.97214674949646,
                    0.950271725654602,
                    0.9543478488922119,
                    0.9474184513092041,
                    0.9546195864677429,
                    0.970652163028717,
                    0.9672554135322571,
                    0.9697011113166809,
                    0.977445662021637,
                    0.9763587117195129,
                    0.973777174949646,
                    0.982744574546814,
                    0.9744565486907959,
                    0.977173924446106,
                    0.98097825050354,
                    0.9802989363670349,
                    0.9866847991943359,
                    0.985190212726593,
                    0.9869565367698669,
                    0.989402174949646,
                    0.9879075884819031,
                    0.9800271987915039,
                    0.988315224647522,
                    0.9505434632301331,
                    0.9694293737411499,
                    0.982744574546814,
                    0.987228274345398,
                    0.986277163028717,
                    0.981929361820221,
                    0.9908967614173889,
                    0.9884510636329651,
                    0.993070662021637,
                    0.9951087236404419,
                    0.994972825050354,
                    0.993614137172699,
                    0.9866847991943359,
                    0.982472836971283,
                    0.989402174949646,
                    0.9906250238418579,
                    0.9961956739425659,
                    0.994972825050354,
                    0.99660325050354,
                    0.998097836971283,
                    0.9987771511077881,
                    0.998369574546814,
                    0.9993206262588501,
                    0.999184787273407,
                    0.999728262424469,
                    0.9987771511077881,
                    0.999184787273407,
                    0.999184787273407,
                    0.999456524848938,
                    0.9982336759567261,
                    0.9942934513092041,
                    0.9736412763595581,
                    0.9831521511077881,
                    0.9836956262588501,
                    0.989673912525177,
                    0.9945651888847351,
                    0.9951087236404419,
                    0.9959239363670349,
                    0.998641312122345,
                    0.999456524848938,
                    0.9979619383811951
                  ],
                  "yaxis": "y2"
                },
                {
                  "hovertemplate": "Epoch: %{x}<br>Value: %{y:.4f}<extra></extra>",
                  "marker": {
                    "color": "green"
                  },
                  "mode": "lines+markers",
                  "name": "Validation Accuracy",
                  "type": "scatter",
                  "x": [
                    1,
                    2,
                    3,
                    4,
                    5,
                    6,
                    7,
                    8,
                    9,
                    10,
                    11,
                    12,
                    13,
                    14,
                    15,
                    16,
                    17,
                    18,
                    19,
                    20,
                    21,
                    22,
                    23,
                    24,
                    25,
                    26,
                    27,
                    28,
                    29,
                    30,
                    31,
                    32,
                    33,
                    34,
                    35,
                    36,
                    37,
                    38,
                    39,
                    40,
                    41,
                    42,
                    43,
                    44,
                    45,
                    46,
                    47,
                    48,
                    49,
                    50,
                    51,
                    52,
                    53,
                    54,
                    55,
                    56,
                    57,
                    58,
                    59,
                    60,
                    61,
                    62,
                    63,
                    64,
                    65,
                    66,
                    67,
                    68,
                    69,
                    70
                  ],
                  "xaxis": "x2",
                  "y": [
                    0.8481081128120422,
                    0.7799999713897705,
                    0.8589189052581787,
                    0.9805405139923096,
                    0.9708108305931091,
                    0.9691891670227051,
                    0.9918919205665588,
                    0.9740540385246277,
                    0.9783783555030823,
                    0.9405405521392822,
                    0.9810810685157776,
                    0.9832432270050049,
                    0.9459459185600281,
                    0.9789189100265503,
                    0.977297306060791,
                    0.9875675439834595,
                    0.9837837815284729,
                    0.9362162351608276,
                    0.9594594836235046,
                    0.9870270490646362,
                    0.9827027320861816,
                    0.9859459400177002,
                    0.9756757020950317,
                    0.9875675439834595,
                    0.9843243360519409,
                    0.9697297215461731,
                    0.9470270276069641,
                    0.9648648500442505,
                    0.9724324345588684,
                    0.9724324345588684,
                    0.9724324345588684,
                    0.9827027320861816,
                    0.9837837815284729,
                    0.9735134840011597,
                    0.9870270490646362,
                    0.9832432270050049,
                    0.9832432270050049,
                    0.9864864945411682,
                    0.9821621775627136,
                    0.9870270490646362,
                    0.9805405139923096,
                    0.9686486721038818,
                    0.9800000190734863,
                    0.9843243360519409,
                    0.9827027320861816,
                    0.9848648905754089,
                    0.9870270490646362,
                    0.9859459400177002,
                    0.9854053854942322,
                    0.9864864945411682,
                    0.9848648905754089,
                    0.9843243360519409,
                    0.9843243360519409,
                    0.9854053854942322,
                    0.9854053854942322,
                    0.9832432270050049,
                    0.9854053854942322,
                    0.9848648905754089,
                    0.9843243360519409,
                    0.9848648905754089,
                    0.9659459590911865,
                    0.9745945930480957,
                    0.9681081175804138,
                    0.9821621775627136,
                    0.9832432270050049,
                    0.9756757020950317,
                    0.9821621775627136,
                    0.9837837815284729,
                    0.9816216230392456,
                    0.9848648905754089
                  ],
                  "yaxis": "y2"
                }
              ],
              "layout": {
                "annotations": [
                  {
                    "font": {
                      "size": 16
                    },
                    "showarrow": false,
                    "text": "Training and Validation Loss",
                    "x": 0.225,
                    "xanchor": "center",
                    "xref": "paper",
                    "y": 1,
                    "yanchor": "bottom",
                    "yref": "paper"
                  },
                  {
                    "font": {
                      "size": 16
                    },
                    "showarrow": false,
                    "text": "Training and Validation Accuracy",
                    "x": 0.775,
                    "xanchor": "center",
                    "xref": "paper",
                    "y": 1,
                    "yanchor": "bottom",
                    "yref": "paper"
                  }
                ],
                "showlegend": true,
                "template": {
                  "data": {
                    "bar": [
                      {
                        "error_x": {
                          "color": "#2a3f5f"
                        },
                        "error_y": {
                          "color": "#2a3f5f"
                        },
                        "marker": {
                          "line": {
                            "color": "#E5ECF6",
                            "width": 0.5
                          },
                          "pattern": {
                            "fillmode": "overlay",
                            "size": 10,
                            "solidity": 0.2
                          }
                        },
                        "type": "bar"
                      }
                    ],
                    "barpolar": [
                      {
                        "marker": {
                          "line": {
                            "color": "#E5ECF6",
                            "width": 0.5
                          },
                          "pattern": {
                            "fillmode": "overlay",
                            "size": 10,
                            "solidity": 0.2
                          }
                        },
                        "type": "barpolar"
                      }
                    ],
                    "carpet": [
                      {
                        "aaxis": {
                          "endlinecolor": "#2a3f5f",
                          "gridcolor": "white",
                          "linecolor": "white",
                          "minorgridcolor": "white",
                          "startlinecolor": "#2a3f5f"
                        },
                        "baxis": {
                          "endlinecolor": "#2a3f5f",
                          "gridcolor": "white",
                          "linecolor": "white",
                          "minorgridcolor": "white",
                          "startlinecolor": "#2a3f5f"
                        },
                        "type": "carpet"
                      }
                    ],
                    "choropleth": [
                      {
                        "colorbar": {
                          "outlinewidth": 0,
                          "ticks": ""
                        },
                        "type": "choropleth"
                      }
                    ],
                    "contour": [
                      {
                        "colorbar": {
                          "outlinewidth": 0,
                          "ticks": ""
                        },
                        "colorscale": [
                          [
                            0,
                            "#0d0887"
                          ],
                          [
                            0.1111111111111111,
                            "#46039f"
                          ],
                          [
                            0.2222222222222222,
                            "#7201a8"
                          ],
                          [
                            0.3333333333333333,
                            "#9c179e"
                          ],
                          [
                            0.4444444444444444,
                            "#bd3786"
                          ],
                          [
                            0.5555555555555556,
                            "#d8576b"
                          ],
                          [
                            0.6666666666666666,
                            "#ed7953"
                          ],
                          [
                            0.7777777777777778,
                            "#fb9f3a"
                          ],
                          [
                            0.8888888888888888,
                            "#fdca26"
                          ],
                          [
                            1,
                            "#f0f921"
                          ]
                        ],
                        "type": "contour"
                      }
                    ],
                    "contourcarpet": [
                      {
                        "colorbar": {
                          "outlinewidth": 0,
                          "ticks": ""
                        },
                        "type": "contourcarpet"
                      }
                    ],
                    "heatmap": [
                      {
                        "colorbar": {
                          "outlinewidth": 0,
                          "ticks": ""
                        },
                        "colorscale": [
                          [
                            0,
                            "#0d0887"
                          ],
                          [
                            0.1111111111111111,
                            "#46039f"
                          ],
                          [
                            0.2222222222222222,
                            "#7201a8"
                          ],
                          [
                            0.3333333333333333,
                            "#9c179e"
                          ],
                          [
                            0.4444444444444444,
                            "#bd3786"
                          ],
                          [
                            0.5555555555555556,
                            "#d8576b"
                          ],
                          [
                            0.6666666666666666,
                            "#ed7953"
                          ],
                          [
                            0.7777777777777778,
                            "#fb9f3a"
                          ],
                          [
                            0.8888888888888888,
                            "#fdca26"
                          ],
                          [
                            1,
                            "#f0f921"
                          ]
                        ],
                        "type": "heatmap"
                      }
                    ],
                    "heatmapgl": [
                      {
                        "colorbar": {
                          "outlinewidth": 0,
                          "ticks": ""
                        },
                        "colorscale": [
                          [
                            0,
                            "#0d0887"
                          ],
                          [
                            0.1111111111111111,
                            "#46039f"
                          ],
                          [
                            0.2222222222222222,
                            "#7201a8"
                          ],
                          [
                            0.3333333333333333,
                            "#9c179e"
                          ],
                          [
                            0.4444444444444444,
                            "#bd3786"
                          ],
                          [
                            0.5555555555555556,
                            "#d8576b"
                          ],
                          [
                            0.6666666666666666,
                            "#ed7953"
                          ],
                          [
                            0.7777777777777778,
                            "#fb9f3a"
                          ],
                          [
                            0.8888888888888888,
                            "#fdca26"
                          ],
                          [
                            1,
                            "#f0f921"
                          ]
                        ],
                        "type": "heatmapgl"
                      }
                    ],
                    "histogram": [
                      {
                        "marker": {
                          "pattern": {
                            "fillmode": "overlay",
                            "size": 10,
                            "solidity": 0.2
                          }
                        },
                        "type": "histogram"
                      }
                    ],
                    "histogram2d": [
                      {
                        "colorbar": {
                          "outlinewidth": 0,
                          "ticks": ""
                        },
                        "colorscale": [
                          [
                            0,
                            "#0d0887"
                          ],
                          [
                            0.1111111111111111,
                            "#46039f"
                          ],
                          [
                            0.2222222222222222,
                            "#7201a8"
                          ],
                          [
                            0.3333333333333333,
                            "#9c179e"
                          ],
                          [
                            0.4444444444444444,
                            "#bd3786"
                          ],
                          [
                            0.5555555555555556,
                            "#d8576b"
                          ],
                          [
                            0.6666666666666666,
                            "#ed7953"
                          ],
                          [
                            0.7777777777777778,
                            "#fb9f3a"
                          ],
                          [
                            0.8888888888888888,
                            "#fdca26"
                          ],
                          [
                            1,
                            "#f0f921"
                          ]
                        ],
                        "type": "histogram2d"
                      }
                    ],
                    "histogram2dcontour": [
                      {
                        "colorbar": {
                          "outlinewidth": 0,
                          "ticks": ""
                        },
                        "colorscale": [
                          [
                            0,
                            "#0d0887"
                          ],
                          [
                            0.1111111111111111,
                            "#46039f"
                          ],
                          [
                            0.2222222222222222,
                            "#7201a8"
                          ],
                          [
                            0.3333333333333333,
                            "#9c179e"
                          ],
                          [
                            0.4444444444444444,
                            "#bd3786"
                          ],
                          [
                            0.5555555555555556,
                            "#d8576b"
                          ],
                          [
                            0.6666666666666666,
                            "#ed7953"
                          ],
                          [
                            0.7777777777777778,
                            "#fb9f3a"
                          ],
                          [
                            0.8888888888888888,
                            "#fdca26"
                          ],
                          [
                            1,
                            "#f0f921"
                          ]
                        ],
                        "type": "histogram2dcontour"
                      }
                    ],
                    "mesh3d": [
                      {
                        "colorbar": {
                          "outlinewidth": 0,
                          "ticks": ""
                        },
                        "type": "mesh3d"
                      }
                    ],
                    "parcoords": [
                      {
                        "line": {
                          "colorbar": {
                            "outlinewidth": 0,
                            "ticks": ""
                          }
                        },
                        "type": "parcoords"
                      }
                    ],
                    "pie": [
                      {
                        "automargin": true,
                        "type": "pie"
                      }
                    ],
                    "scatter": [
                      {
                        "fillpattern": {
                          "fillmode": "overlay",
                          "size": 10,
                          "solidity": 0.2
                        },
                        "type": "scatter"
                      }
                    ],
                    "scatter3d": [
                      {
                        "line": {
                          "colorbar": {
                            "outlinewidth": 0,
                            "ticks": ""
                          }
                        },
                        "marker": {
                          "colorbar": {
                            "outlinewidth": 0,
                            "ticks": ""
                          }
                        },
                        "type": "scatter3d"
                      }
                    ],
                    "scattercarpet": [
                      {
                        "marker": {
                          "colorbar": {
                            "outlinewidth": 0,
                            "ticks": ""
                          }
                        },
                        "type": "scattercarpet"
                      }
                    ],
                    "scattergeo": [
                      {
                        "marker": {
                          "colorbar": {
                            "outlinewidth": 0,
                            "ticks": ""
                          }
                        },
                        "type": "scattergeo"
                      }
                    ],
                    "scattergl": [
                      {
                        "marker": {
                          "colorbar": {
                            "outlinewidth": 0,
                            "ticks": ""
                          }
                        },
                        "type": "scattergl"
                      }
                    ],
                    "scattermapbox": [
                      {
                        "marker": {
                          "colorbar": {
                            "outlinewidth": 0,
                            "ticks": ""
                          }
                        },
                        "type": "scattermapbox"
                      }
                    ],
                    "scatterpolar": [
                      {
                        "marker": {
                          "colorbar": {
                            "outlinewidth": 0,
                            "ticks": ""
                          }
                        },
                        "type": "scatterpolar"
                      }
                    ],
                    "scatterpolargl": [
                      {
                        "marker": {
                          "colorbar": {
                            "outlinewidth": 0,
                            "ticks": ""
                          }
                        },
                        "type": "scatterpolargl"
                      }
                    ],
                    "scatterternary": [
                      {
                        "marker": {
                          "colorbar": {
                            "outlinewidth": 0,
                            "ticks": ""
                          }
                        },
                        "type": "scatterternary"
                      }
                    ],
                    "surface": [
                      {
                        "colorbar": {
                          "outlinewidth": 0,
                          "ticks": ""
                        },
                        "colorscale": [
                          [
                            0,
                            "#0d0887"
                          ],
                          [
                            0.1111111111111111,
                            "#46039f"
                          ],
                          [
                            0.2222222222222222,
                            "#7201a8"
                          ],
                          [
                            0.3333333333333333,
                            "#9c179e"
                          ],
                          [
                            0.4444444444444444,
                            "#bd3786"
                          ],
                          [
                            0.5555555555555556,
                            "#d8576b"
                          ],
                          [
                            0.6666666666666666,
                            "#ed7953"
                          ],
                          [
                            0.7777777777777778,
                            "#fb9f3a"
                          ],
                          [
                            0.8888888888888888,
                            "#fdca26"
                          ],
                          [
                            1,
                            "#f0f921"
                          ]
                        ],
                        "type": "surface"
                      }
                    ],
                    "table": [
                      {
                        "cells": {
                          "fill": {
                            "color": "#EBF0F8"
                          },
                          "line": {
                            "color": "white"
                          }
                        },
                        "header": {
                          "fill": {
                            "color": "#C8D4E3"
                          },
                          "line": {
                            "color": "white"
                          }
                        },
                        "type": "table"
                      }
                    ]
                  },
                  "layout": {
                    "annotationdefaults": {
                      "arrowcolor": "#2a3f5f",
                      "arrowhead": 0,
                      "arrowwidth": 1
                    },
                    "autotypenumbers": "strict",
                    "coloraxis": {
                      "colorbar": {
                        "outlinewidth": 0,
                        "ticks": ""
                      }
                    },
                    "colorscale": {
                      "diverging": [
                        [
                          0,
                          "#8e0152"
                        ],
                        [
                          0.1,
                          "#c51b7d"
                        ],
                        [
                          0.2,
                          "#de77ae"
                        ],
                        [
                          0.3,
                          "#f1b6da"
                        ],
                        [
                          0.4,
                          "#fde0ef"
                        ],
                        [
                          0.5,
                          "#f7f7f7"
                        ],
                        [
                          0.6,
                          "#e6f5d0"
                        ],
                        [
                          0.7,
                          "#b8e186"
                        ],
                        [
                          0.8,
                          "#7fbc41"
                        ],
                        [
                          0.9,
                          "#4d9221"
                        ],
                        [
                          1,
                          "#276419"
                        ]
                      ],
                      "sequential": [
                        [
                          0,
                          "#0d0887"
                        ],
                        [
                          0.1111111111111111,
                          "#46039f"
                        ],
                        [
                          0.2222222222222222,
                          "#7201a8"
                        ],
                        [
                          0.3333333333333333,
                          "#9c179e"
                        ],
                        [
                          0.4444444444444444,
                          "#bd3786"
                        ],
                        [
                          0.5555555555555556,
                          "#d8576b"
                        ],
                        [
                          0.6666666666666666,
                          "#ed7953"
                        ],
                        [
                          0.7777777777777778,
                          "#fb9f3a"
                        ],
                        [
                          0.8888888888888888,
                          "#fdca26"
                        ],
                        [
                          1,
                          "#f0f921"
                        ]
                      ],
                      "sequentialminus": [
                        [
                          0,
                          "#0d0887"
                        ],
                        [
                          0.1111111111111111,
                          "#46039f"
                        ],
                        [
                          0.2222222222222222,
                          "#7201a8"
                        ],
                        [
                          0.3333333333333333,
                          "#9c179e"
                        ],
                        [
                          0.4444444444444444,
                          "#bd3786"
                        ],
                        [
                          0.5555555555555556,
                          "#d8576b"
                        ],
                        [
                          0.6666666666666666,
                          "#ed7953"
                        ],
                        [
                          0.7777777777777778,
                          "#fb9f3a"
                        ],
                        [
                          0.8888888888888888,
                          "#fdca26"
                        ],
                        [
                          1,
                          "#f0f921"
                        ]
                      ]
                    },
                    "colorway": [
                      "#636efa",
                      "#EF553B",
                      "#00cc96",
                      "#ab63fa",
                      "#FFA15A",
                      "#19d3f3",
                      "#FF6692",
                      "#B6E880",
                      "#FF97FF",
                      "#FECB52"
                    ],
                    "font": {
                      "color": "#2a3f5f"
                    },
                    "geo": {
                      "bgcolor": "white",
                      "lakecolor": "white",
                      "landcolor": "#E5ECF6",
                      "showlakes": true,
                      "showland": true,
                      "subunitcolor": "white"
                    },
                    "hoverlabel": {
                      "align": "left"
                    },
                    "hovermode": "closest",
                    "mapbox": {
                      "style": "light"
                    },
                    "paper_bgcolor": "white",
                    "plot_bgcolor": "#E5ECF6",
                    "polar": {
                      "angularaxis": {
                        "gridcolor": "white",
                        "linecolor": "white",
                        "ticks": ""
                      },
                      "bgcolor": "#E5ECF6",
                      "radialaxis": {
                        "gridcolor": "white",
                        "linecolor": "white",
                        "ticks": ""
                      }
                    },
                    "scene": {
                      "xaxis": {
                        "backgroundcolor": "#E5ECF6",
                        "gridcolor": "white",
                        "gridwidth": 2,
                        "linecolor": "white",
                        "showbackground": true,
                        "ticks": "",
                        "zerolinecolor": "white"
                      },
                      "yaxis": {
                        "backgroundcolor": "#E5ECF6",
                        "gridcolor": "white",
                        "gridwidth": 2,
                        "linecolor": "white",
                        "showbackground": true,
                        "ticks": "",
                        "zerolinecolor": "white"
                      },
                      "zaxis": {
                        "backgroundcolor": "#E5ECF6",
                        "gridcolor": "white",
                        "gridwidth": 2,
                        "linecolor": "white",
                        "showbackground": true,
                        "ticks": "",
                        "zerolinecolor": "white"
                      }
                    },
                    "shapedefaults": {
                      "line": {
                        "color": "#2a3f5f"
                      }
                    },
                    "ternary": {
                      "aaxis": {
                        "gridcolor": "white",
                        "linecolor": "white",
                        "ticks": ""
                      },
                      "baxis": {
                        "gridcolor": "white",
                        "linecolor": "white",
                        "ticks": ""
                      },
                      "bgcolor": "#E5ECF6",
                      "caxis": {
                        "gridcolor": "white",
                        "linecolor": "white",
                        "ticks": ""
                      }
                    },
                    "title": {
                      "x": 0.05
                    },
                    "xaxis": {
                      "automargin": true,
                      "gridcolor": "white",
                      "linecolor": "white",
                      "ticks": "",
                      "title": {
                        "standoff": 15
                      },
                      "zerolinecolor": "white",
                      "zerolinewidth": 2
                    },
                    "yaxis": {
                      "automargin": true,
                      "gridcolor": "white",
                      "linecolor": "white",
                      "ticks": "",
                      "title": {
                        "standoff": 15
                      },
                      "zerolinecolor": "white",
                      "zerolinewidth": 2
                    }
                  }
                },
                "title": {
                  "text": "Training and Validation Metrics"
                },
                "xaxis": {
                  "anchor": "y",
                  "domain": [
                    0,
                    0.45
                  ]
                },
                "xaxis2": {
                  "anchor": "y2",
                  "domain": [
                    0.55,
                    1
                  ]
                },
                "yaxis": {
                  "anchor": "x",
                  "domain": [
                    0,
                    1
                  ],
                  "title": {
                    "text": "Loss"
                  }
                },
                "yaxis2": {
                  "anchor": "x2",
                  "domain": [
                    0,
                    1
                  ],
                  "title": {
                    "text": "Accuracy"
                  }
                }
              }
            },
            "text/html": [
              "<div>                            <div id=\"1be50524-d638-4e29-bb0b-aefb32941adf\" class=\"plotly-graph-div\" style=\"height:525px; width:100%;\"></div>            <script type=\"text/javascript\">                require([\"plotly\"], function(Plotly) {                    window.PLOTLYENV=window.PLOTLYENV || {};                                    if (document.getElementById(\"1be50524-d638-4e29-bb0b-aefb32941adf\")) {                    Plotly.newPlot(                        \"1be50524-d638-4e29-bb0b-aefb32941adf\",                        [{\"hovertemplate\":\"Epoch: %{x}\\u003cbr\\u003eValue: %{y:.4f}\\u003cextra\\u003e\\u003c\\u002fextra\\u003e\",\"marker\":{\"color\":\"red\"},\"mode\":\"lines+markers\",\"name\":\"Training Loss\",\"x\":[1,2,3,4,5,6,7,8,9,10,11,12,13,14,15,16,17,18,19,20,21,22,23,24,25,26,27,28,29,30,31,32,33,34,35,36,37,38,39,40,41,42,43,44,45,46,47,48,49,50,51,52,53,54,55,56,57,58,59,60,61,62,63,64,65,66,67,68,69,70],\"y\":[0.6661065816879272,0.4007423520088196,0.3488573431968689,0.2756308317184448,0.2607244849205017,0.19499683380126953,0.16086415946483612,0.17113731801509857,0.20741941034793854,0.18875296413898468,0.15572357177734375,0.12887267768383026,0.12411179393529892,0.13252204656600952,0.10611464828252792,0.09104803204536438,0.1093330904841423,0.08525882661342621,0.09281280636787415,0.08118850737810135,0.061983104795217514,0.05925266072154045,0.05188341811299324,0.04302698001265526,0.03512067347764969,0.033268339931964874,0.037938058376312256,0.055827897042036057,0.06629291921854019,0.2090086042881012,0.10833925753831863,0.05633912235498428,0.04353136941790581,0.04061608389019966,0.05128777399659157,0.030829481780529022,0.026933841407299042,0.02068432979285717,0.017077378928661346,0.01424060296267271,0.016190940514206886,0.0567341223359108,0.03839430585503578,0.034931838512420654,0.02692532353103161,0.014427798800170422,0.012005838565528393,0.008369842544198036,0.006640917621552944,0.005088228266686201,0.004570223856717348,0.0030990391969680786,0.0025932753924280405,0.0023697330616414547,0.0032467625569552183,0.002789343474432826,0.003328094258904457,0.003039690898731351,0.005194788333028555,0.022369978949427605,0.10197538137435913,0.04589129984378815,0.046670328825712204,0.03085877001285553,0.014696210622787476,0.0142098693177104,0.01130172610282898,0.005651633255183697,0.0034870991948992014,0.0035231667570769787],\"type\":\"scatter\",\"xaxis\":\"x\",\"yaxis\":\"y\"},{\"hovertemplate\":\"Epoch: %{x}\\u003cbr\\u003eValue: %{y:.4f}\\u003cextra\\u003e\\u003c\\u002fextra\\u003e\",\"marker\":{\"color\":\"green\"},\"mode\":\"lines+markers\",\"name\":\"Validation Loss\",\"x\":[1,2,3,4,5,6,7,8,9,10,11,12,13,14,15,16,17,18,19,20,21,22,23,24,25,26,27,28,29,30,31,32,33,34,35,36,37,38,39,40,41,42,43,44,45,46,47,48,49,50,51,52,53,54,55,56,57,58,59,60,61,62,63,64,65,66,67,68,69,70],\"y\":[0.4178488552570343,0.46850693225860596,0.3354409337043762,0.09992553293704987,0.11977122724056244,0.12869776785373688,0.06806110590696335,0.08772513270378113,0.10433688014745712,0.21005092561244965,0.0650835782289505,0.0944385752081871,0.12554490566253662,0.07227755337953568,0.07304426282644272,0.052452199161052704,0.06631042063236237,0.20806509256362915,0.10097278654575348,0.0417313277721405,0.04885012283921242,0.048247434198856354,0.0663767009973526,0.04043484106659889,0.05913793668150902,0.08165090531110764,0.15737684071063995,0.09101560711860657,0.08373518288135529,0.08180707693099976,0.07668589055538177,0.0432695634663105,0.0522279366850853,0.07567760348320007,0.04599764570593834,0.04763383790850639,0.04959362745285034,0.043503373861312866,0.051592934876680374,0.05107150226831436,0.06994722783565521,0.08969233930110931,0.06640555709600449,0.05173858255147934,0.055895667523145676,0.05224082991480827,0.04992009326815605,0.056173715740442276,0.05402586609125137,0.05976026505231857,0.06181361898779869,0.06412291526794434,0.06732547283172607,0.06381642818450928,0.06629228591918945,0.07321926951408386,0.06567846983671188,0.06720680743455887,0.07918581366539001,0.05797385796904564,0.15537433326244354,0.10419576615095139,0.08764468878507614,0.07978921383619308,0.07837770134210587,0.09839877486228943,0.08032272011041641,0.08544778823852539,0.0878337025642395,0.08761411160230637],\"type\":\"scatter\",\"xaxis\":\"x\",\"yaxis\":\"y\"},{\"hovertemplate\":\"Epoch: %{x}\\u003cbr\\u003eValue: %{y:.4f}\\u003cextra\\u003e\\u003c\\u002fextra\\u003e\",\"marker\":{\"color\":\"red\"},\"mode\":\"lines+markers\",\"name\":\"Training Accuracy\",\"x\":[1,2,3,4,5,6,7,8,9,10,11,12,13,14,15,16,17,18,19,20,21,22,23,24,25,26,27,28,29,30,31,32,33,34,35,36,37,38,39,40,41,42,43,44,45,46,47,48,49,50,51,52,53,54,55,56,57,58,59,60,61,62,63,64,65,66,67,68,69,70],\"y\":[0.8335598111152649,0.8888586759567261,0.8986412882804871,0.9138587117195129,0.9476901888847351,0.9548913240432739,0.97214674949646,0.950271725654602,0.9543478488922119,0.9474184513092041,0.9546195864677429,0.970652163028717,0.9672554135322571,0.9697011113166809,0.977445662021637,0.9763587117195129,0.973777174949646,0.982744574546814,0.9744565486907959,0.977173924446106,0.98097825050354,0.9802989363670349,0.9866847991943359,0.985190212726593,0.9869565367698669,0.989402174949646,0.9879075884819031,0.9800271987915039,0.988315224647522,0.9505434632301331,0.9694293737411499,0.982744574546814,0.987228274345398,0.986277163028717,0.981929361820221,0.9908967614173889,0.9884510636329651,0.993070662021637,0.9951087236404419,0.994972825050354,0.993614137172699,0.9866847991943359,0.982472836971283,0.989402174949646,0.9906250238418579,0.9961956739425659,0.994972825050354,0.99660325050354,0.998097836971283,0.9987771511077881,0.998369574546814,0.9993206262588501,0.999184787273407,0.999728262424469,0.9987771511077881,0.999184787273407,0.999184787273407,0.999456524848938,0.9982336759567261,0.9942934513092041,0.9736412763595581,0.9831521511077881,0.9836956262588501,0.989673912525177,0.9945651888847351,0.9951087236404419,0.9959239363670349,0.998641312122345,0.999456524848938,0.9979619383811951],\"type\":\"scatter\",\"xaxis\":\"x2\",\"yaxis\":\"y2\"},{\"hovertemplate\":\"Epoch: %{x}\\u003cbr\\u003eValue: %{y:.4f}\\u003cextra\\u003e\\u003c\\u002fextra\\u003e\",\"marker\":{\"color\":\"green\"},\"mode\":\"lines+markers\",\"name\":\"Validation Accuracy\",\"x\":[1,2,3,4,5,6,7,8,9,10,11,12,13,14,15,16,17,18,19,20,21,22,23,24,25,26,27,28,29,30,31,32,33,34,35,36,37,38,39,40,41,42,43,44,45,46,47,48,49,50,51,52,53,54,55,56,57,58,59,60,61,62,63,64,65,66,67,68,69,70],\"y\":[0.8481081128120422,0.7799999713897705,0.8589189052581787,0.9805405139923096,0.9708108305931091,0.9691891670227051,0.9918919205665588,0.9740540385246277,0.9783783555030823,0.9405405521392822,0.9810810685157776,0.9832432270050049,0.9459459185600281,0.9789189100265503,0.977297306060791,0.9875675439834595,0.9837837815284729,0.9362162351608276,0.9594594836235046,0.9870270490646362,0.9827027320861816,0.9859459400177002,0.9756757020950317,0.9875675439834595,0.9843243360519409,0.9697297215461731,0.9470270276069641,0.9648648500442505,0.9724324345588684,0.9724324345588684,0.9724324345588684,0.9827027320861816,0.9837837815284729,0.9735134840011597,0.9870270490646362,0.9832432270050049,0.9832432270050049,0.9864864945411682,0.9821621775627136,0.9870270490646362,0.9805405139923096,0.9686486721038818,0.9800000190734863,0.9843243360519409,0.9827027320861816,0.9848648905754089,0.9870270490646362,0.9859459400177002,0.9854053854942322,0.9864864945411682,0.9848648905754089,0.9843243360519409,0.9843243360519409,0.9854053854942322,0.9854053854942322,0.9832432270050049,0.9854053854942322,0.9848648905754089,0.9843243360519409,0.9848648905754089,0.9659459590911865,0.9745945930480957,0.9681081175804138,0.9821621775627136,0.9832432270050049,0.9756757020950317,0.9821621775627136,0.9837837815284729,0.9816216230392456,0.9848648905754089],\"type\":\"scatter\",\"xaxis\":\"x2\",\"yaxis\":\"y2\"}],                        {\"template\":{\"data\":{\"histogram2dcontour\":[{\"type\":\"histogram2dcontour\",\"colorbar\":{\"outlinewidth\":0,\"ticks\":\"\"},\"colorscale\":[[0.0,\"#0d0887\"],[0.1111111111111111,\"#46039f\"],[0.2222222222222222,\"#7201a8\"],[0.3333333333333333,\"#9c179e\"],[0.4444444444444444,\"#bd3786\"],[0.5555555555555556,\"#d8576b\"],[0.6666666666666666,\"#ed7953\"],[0.7777777777777778,\"#fb9f3a\"],[0.8888888888888888,\"#fdca26\"],[1.0,\"#f0f921\"]]}],\"choropleth\":[{\"type\":\"choropleth\",\"colorbar\":{\"outlinewidth\":0,\"ticks\":\"\"}}],\"histogram2d\":[{\"type\":\"histogram2d\",\"colorbar\":{\"outlinewidth\":0,\"ticks\":\"\"},\"colorscale\":[[0.0,\"#0d0887\"],[0.1111111111111111,\"#46039f\"],[0.2222222222222222,\"#7201a8\"],[0.3333333333333333,\"#9c179e\"],[0.4444444444444444,\"#bd3786\"],[0.5555555555555556,\"#d8576b\"],[0.6666666666666666,\"#ed7953\"],[0.7777777777777778,\"#fb9f3a\"],[0.8888888888888888,\"#fdca26\"],[1.0,\"#f0f921\"]]}],\"heatmap\":[{\"type\":\"heatmap\",\"colorbar\":{\"outlinewidth\":0,\"ticks\":\"\"},\"colorscale\":[[0.0,\"#0d0887\"],[0.1111111111111111,\"#46039f\"],[0.2222222222222222,\"#7201a8\"],[0.3333333333333333,\"#9c179e\"],[0.4444444444444444,\"#bd3786\"],[0.5555555555555556,\"#d8576b\"],[0.6666666666666666,\"#ed7953\"],[0.7777777777777778,\"#fb9f3a\"],[0.8888888888888888,\"#fdca26\"],[1.0,\"#f0f921\"]]}],\"heatmapgl\":[{\"type\":\"heatmapgl\",\"colorbar\":{\"outlinewidth\":0,\"ticks\":\"\"},\"colorscale\":[[0.0,\"#0d0887\"],[0.1111111111111111,\"#46039f\"],[0.2222222222222222,\"#7201a8\"],[0.3333333333333333,\"#9c179e\"],[0.4444444444444444,\"#bd3786\"],[0.5555555555555556,\"#d8576b\"],[0.6666666666666666,\"#ed7953\"],[0.7777777777777778,\"#fb9f3a\"],[0.8888888888888888,\"#fdca26\"],[1.0,\"#f0f921\"]]}],\"contourcarpet\":[{\"type\":\"contourcarpet\",\"colorbar\":{\"outlinewidth\":0,\"ticks\":\"\"}}],\"contour\":[{\"type\":\"contour\",\"colorbar\":{\"outlinewidth\":0,\"ticks\":\"\"},\"colorscale\":[[0.0,\"#0d0887\"],[0.1111111111111111,\"#46039f\"],[0.2222222222222222,\"#7201a8\"],[0.3333333333333333,\"#9c179e\"],[0.4444444444444444,\"#bd3786\"],[0.5555555555555556,\"#d8576b\"],[0.6666666666666666,\"#ed7953\"],[0.7777777777777778,\"#fb9f3a\"],[0.8888888888888888,\"#fdca26\"],[1.0,\"#f0f921\"]]}],\"surface\":[{\"type\":\"surface\",\"colorbar\":{\"outlinewidth\":0,\"ticks\":\"\"},\"colorscale\":[[0.0,\"#0d0887\"],[0.1111111111111111,\"#46039f\"],[0.2222222222222222,\"#7201a8\"],[0.3333333333333333,\"#9c179e\"],[0.4444444444444444,\"#bd3786\"],[0.5555555555555556,\"#d8576b\"],[0.6666666666666666,\"#ed7953\"],[0.7777777777777778,\"#fb9f3a\"],[0.8888888888888888,\"#fdca26\"],[1.0,\"#f0f921\"]]}],\"mesh3d\":[{\"type\":\"mesh3d\",\"colorbar\":{\"outlinewidth\":0,\"ticks\":\"\"}}],\"scatter\":[{\"fillpattern\":{\"fillmode\":\"overlay\",\"size\":10,\"solidity\":0.2},\"type\":\"scatter\"}],\"parcoords\":[{\"type\":\"parcoords\",\"line\":{\"colorbar\":{\"outlinewidth\":0,\"ticks\":\"\"}}}],\"scatterpolargl\":[{\"type\":\"scatterpolargl\",\"marker\":{\"colorbar\":{\"outlinewidth\":0,\"ticks\":\"\"}}}],\"bar\":[{\"error_x\":{\"color\":\"#2a3f5f\"},\"error_y\":{\"color\":\"#2a3f5f\"},\"marker\":{\"line\":{\"color\":\"#E5ECF6\",\"width\":0.5},\"pattern\":{\"fillmode\":\"overlay\",\"size\":10,\"solidity\":0.2}},\"type\":\"bar\"}],\"scattergeo\":[{\"type\":\"scattergeo\",\"marker\":{\"colorbar\":{\"outlinewidth\":0,\"ticks\":\"\"}}}],\"scatterpolar\":[{\"type\":\"scatterpolar\",\"marker\":{\"colorbar\":{\"outlinewidth\":0,\"ticks\":\"\"}}}],\"histogram\":[{\"marker\":{\"pattern\":{\"fillmode\":\"overlay\",\"size\":10,\"solidity\":0.2}},\"type\":\"histogram\"}],\"scattergl\":[{\"type\":\"scattergl\",\"marker\":{\"colorbar\":{\"outlinewidth\":0,\"ticks\":\"\"}}}],\"scatter3d\":[{\"type\":\"scatter3d\",\"line\":{\"colorbar\":{\"outlinewidth\":0,\"ticks\":\"\"}},\"marker\":{\"colorbar\":{\"outlinewidth\":0,\"ticks\":\"\"}}}],\"scattermapbox\":[{\"type\":\"scattermapbox\",\"marker\":{\"colorbar\":{\"outlinewidth\":0,\"ticks\":\"\"}}}],\"scatterternary\":[{\"type\":\"scatterternary\",\"marker\":{\"colorbar\":{\"outlinewidth\":0,\"ticks\":\"\"}}}],\"scattercarpet\":[{\"type\":\"scattercarpet\",\"marker\":{\"colorbar\":{\"outlinewidth\":0,\"ticks\":\"\"}}}],\"carpet\":[{\"aaxis\":{\"endlinecolor\":\"#2a3f5f\",\"gridcolor\":\"white\",\"linecolor\":\"white\",\"minorgridcolor\":\"white\",\"startlinecolor\":\"#2a3f5f\"},\"baxis\":{\"endlinecolor\":\"#2a3f5f\",\"gridcolor\":\"white\",\"linecolor\":\"white\",\"minorgridcolor\":\"white\",\"startlinecolor\":\"#2a3f5f\"},\"type\":\"carpet\"}],\"table\":[{\"cells\":{\"fill\":{\"color\":\"#EBF0F8\"},\"line\":{\"color\":\"white\"}},\"header\":{\"fill\":{\"color\":\"#C8D4E3\"},\"line\":{\"color\":\"white\"}},\"type\":\"table\"}],\"barpolar\":[{\"marker\":{\"line\":{\"color\":\"#E5ECF6\",\"width\":0.5},\"pattern\":{\"fillmode\":\"overlay\",\"size\":10,\"solidity\":0.2}},\"type\":\"barpolar\"}],\"pie\":[{\"automargin\":true,\"type\":\"pie\"}]},\"layout\":{\"autotypenumbers\":\"strict\",\"colorway\":[\"#636efa\",\"#EF553B\",\"#00cc96\",\"#ab63fa\",\"#FFA15A\",\"#19d3f3\",\"#FF6692\",\"#B6E880\",\"#FF97FF\",\"#FECB52\"],\"font\":{\"color\":\"#2a3f5f\"},\"hovermode\":\"closest\",\"hoverlabel\":{\"align\":\"left\"},\"paper_bgcolor\":\"white\",\"plot_bgcolor\":\"#E5ECF6\",\"polar\":{\"bgcolor\":\"#E5ECF6\",\"angularaxis\":{\"gridcolor\":\"white\",\"linecolor\":\"white\",\"ticks\":\"\"},\"radialaxis\":{\"gridcolor\":\"white\",\"linecolor\":\"white\",\"ticks\":\"\"}},\"ternary\":{\"bgcolor\":\"#E5ECF6\",\"aaxis\":{\"gridcolor\":\"white\",\"linecolor\":\"white\",\"ticks\":\"\"},\"baxis\":{\"gridcolor\":\"white\",\"linecolor\":\"white\",\"ticks\":\"\"},\"caxis\":{\"gridcolor\":\"white\",\"linecolor\":\"white\",\"ticks\":\"\"}},\"coloraxis\":{\"colorbar\":{\"outlinewidth\":0,\"ticks\":\"\"}},\"colorscale\":{\"sequential\":[[0.0,\"#0d0887\"],[0.1111111111111111,\"#46039f\"],[0.2222222222222222,\"#7201a8\"],[0.3333333333333333,\"#9c179e\"],[0.4444444444444444,\"#bd3786\"],[0.5555555555555556,\"#d8576b\"],[0.6666666666666666,\"#ed7953\"],[0.7777777777777778,\"#fb9f3a\"],[0.8888888888888888,\"#fdca26\"],[1.0,\"#f0f921\"]],\"sequentialminus\":[[0.0,\"#0d0887\"],[0.1111111111111111,\"#46039f\"],[0.2222222222222222,\"#7201a8\"],[0.3333333333333333,\"#9c179e\"],[0.4444444444444444,\"#bd3786\"],[0.5555555555555556,\"#d8576b\"],[0.6666666666666666,\"#ed7953\"],[0.7777777777777778,\"#fb9f3a\"],[0.8888888888888888,\"#fdca26\"],[1.0,\"#f0f921\"]],\"diverging\":[[0,\"#8e0152\"],[0.1,\"#c51b7d\"],[0.2,\"#de77ae\"],[0.3,\"#f1b6da\"],[0.4,\"#fde0ef\"],[0.5,\"#f7f7f7\"],[0.6,\"#e6f5d0\"],[0.7,\"#b8e186\"],[0.8,\"#7fbc41\"],[0.9,\"#4d9221\"],[1,\"#276419\"]]},\"xaxis\":{\"gridcolor\":\"white\",\"linecolor\":\"white\",\"ticks\":\"\",\"title\":{\"standoff\":15},\"zerolinecolor\":\"white\",\"automargin\":true,\"zerolinewidth\":2},\"yaxis\":{\"gridcolor\":\"white\",\"linecolor\":\"white\",\"ticks\":\"\",\"title\":{\"standoff\":15},\"zerolinecolor\":\"white\",\"automargin\":true,\"zerolinewidth\":2},\"scene\":{\"xaxis\":{\"backgroundcolor\":\"#E5ECF6\",\"gridcolor\":\"white\",\"linecolor\":\"white\",\"showbackground\":true,\"ticks\":\"\",\"zerolinecolor\":\"white\",\"gridwidth\":2},\"yaxis\":{\"backgroundcolor\":\"#E5ECF6\",\"gridcolor\":\"white\",\"linecolor\":\"white\",\"showbackground\":true,\"ticks\":\"\",\"zerolinecolor\":\"white\",\"gridwidth\":2},\"zaxis\":{\"backgroundcolor\":\"#E5ECF6\",\"gridcolor\":\"white\",\"linecolor\":\"white\",\"showbackground\":true,\"ticks\":\"\",\"zerolinecolor\":\"white\",\"gridwidth\":2}},\"shapedefaults\":{\"line\":{\"color\":\"#2a3f5f\"}},\"annotationdefaults\":{\"arrowcolor\":\"#2a3f5f\",\"arrowhead\":0,\"arrowwidth\":1},\"geo\":{\"bgcolor\":\"white\",\"landcolor\":\"#E5ECF6\",\"subunitcolor\":\"white\",\"showland\":true,\"showlakes\":true,\"lakecolor\":\"white\"},\"title\":{\"x\":0.05},\"mapbox\":{\"style\":\"light\"}}},\"xaxis\":{\"anchor\":\"y\",\"domain\":[0.0,0.45]},\"yaxis\":{\"anchor\":\"x\",\"domain\":[0.0,1.0],\"title\":{\"text\":\"Loss\"}},\"xaxis2\":{\"anchor\":\"y2\",\"domain\":[0.55,1.0]},\"yaxis2\":{\"anchor\":\"x2\",\"domain\":[0.0,1.0],\"title\":{\"text\":\"Accuracy\"}},\"annotations\":[{\"font\":{\"size\":16},\"showarrow\":false,\"text\":\"Training and Validation Loss\",\"x\":0.225,\"xanchor\":\"center\",\"xref\":\"paper\",\"y\":1.0,\"yanchor\":\"bottom\",\"yref\":\"paper\"},{\"font\":{\"size\":16},\"showarrow\":false,\"text\":\"Training and Validation Accuracy\",\"x\":0.775,\"xanchor\":\"center\",\"xref\":\"paper\",\"y\":1.0,\"yanchor\":\"bottom\",\"yref\":\"paper\"}],\"title\":{\"text\":\"Training and Validation Metrics\"},\"showlegend\":true},                        {\"responsive\": true}                    ).then(function(){\n",
              "                            \n",
              "var gd = document.getElementById('1be50524-d638-4e29-bb0b-aefb32941adf');\n",
              "var x = new MutationObserver(function (mutations, observer) {{\n",
              "        var display = window.getComputedStyle(gd).display;\n",
              "        if (!display || display === 'none') {{\n",
              "            console.log([gd, 'removed!']);\n",
              "            Plotly.purge(gd);\n",
              "            observer.disconnect();\n",
              "        }}\n",
              "}});\n",
              "\n",
              "// Listen for the removal of the full notebook cells\n",
              "var notebookContainer = gd.closest('#notebook-container');\n",
              "if (notebookContainer) {{\n",
              "    x.observe(notebookContainer, {childList: true});\n",
              "}}\n",
              "\n",
              "// Listen for the clearing of the current output cell\n",
              "var outputEl = gd.closest('.output');\n",
              "if (outputEl) {{\n",
              "    x.observe(outputEl, {childList: true});\n",
              "}}\n",
              "\n",
              "                        })                };                });            </script>        </div>"
            ]
          },
          "metadata": {},
          "output_type": "display_data"
        }
      ],
      "source": [
        "plot_metrics(fit5)"
      ]
    },
    {
      "cell_type": "code",
      "execution_count": 97,
      "metadata": {},
      "outputs": [
        {
          "data": {
            "text/plain": [
              "((759, 640, 8), (759, 10, 3))"
            ]
          },
          "execution_count": 97,
          "metadata": {},
          "output_type": "execute_result"
        }
      ],
      "source": [
        "x_train.shape, y_train.shape"
      ]
    },
    {
      "cell_type": "code",
      "execution_count": 147,
      "metadata": {},
      "outputs": [
        {
          "name": "stdout",
          "output_type": "stream",
          "text": [
            "6/6 [==============================] - 0s 8ms/step\n"
          ]
        },
        {
          "data": {
            "image/png": "[encoded data removed]",
            "text/plain": [
              "<Figure size 1000x1000 with 2 Axes>"
            ]
          },
          "metadata": {},
          "output_type": "display_data"
        },
        {
          "data": {
            "image/png": "[encoded data removed]",
            "text/plain": [
              "<Figure size 1000x1000 with 2 Axes>"
            ]
          },
          "metadata": {},
          "output_type": "display_data"
        }
      ],
      "source": [
        "from sklearn.metrics import confusion_matrix\n",
        "import numpy as np\n",
        "\n",
        "# Predict on the test data\n",
        "y_pred = model3.predict(x_val)\n",
        "\n",
        "# Convert predictions from probability to class labels\n",
        "y_pred_classes = np.argmax(y_pred, axis=-1)  # Assuming softmax output\n",
        "y_true_classes = np.argmax(y_val, axis=-1)  # Convert true labels\n",
        "\n",
        "# Reshape the predictions and true values to a 2D format\n",
        "y_pred_flat = y_pred_classes.flatten()\n",
        "y_true_flat = y_true_classes.flatten()\n",
        "\n",
        "# Compute the confusion matrix\n",
        "cm = confusion_matrix(y_true_flat, y_pred_flat)\n",
        "# If you want, you can also normalize the confusion matrix\n",
        "cm_normalized = cm.astype('float') / cm.sum(axis=1)[:, np.newaxis]\n",
        "\n",
        "import seaborn as sns\n",
        "import matplotlib.pyplot as plt\n",
        "\n",
        "plt.figure(figsize=(10, 10))\n",
        "sns.heatmap(cm_normalized, annot=True, fmt=\".2f\", cmap=\"Blues\")\n",
        "plt.ylabel('True Label')\n",
        "plt.xlabel('Predicted Label')\n",
        "plt.title('Confusion Matrix')\n",
        "plt.show()\n",
        "\n",
        "\n",
        "# Define your label names corresponding to the integers\n",
        "label_names = ['eating', 'resting', 'walking']  # Replace with your actual label names\n",
        "\n",
        "# Create the confusion matrix plot\n",
        "plt.figure(figsize=(10, 10))\n",
        "sns.heatmap(cm_normalized, annot=True, fmt=\".2f\", cmap=\"Blues\", \n",
        "            xticklabels=label_names, yticklabels=label_names)  # Set custom labels\n",
        "plt.ylabel('True Label')\n",
        "plt.xlabel('Predicted Label')\n",
        "plt.title('Confusion Matrix')\n",
        "plt.show()"
      ]
    },
    {
      "cell_type": "code",
      "execution_count": null,
      "metadata": {},
      "outputs": [],
      "source": []
    },
    {
      "cell_type": "code",
      "execution_count": null,
      "metadata": {},
      "outputs": [],
      "source": [
        "https://www.tensorflow.org/tutorials/structured_data/imbalanced_data\n",
        "\n"
      ]
    },
    {
      "cell_type": "code",
      "execution_count": 30,
      "metadata": {},
      "outputs": [
        {
          "name": "stdout",
          "output_type": "stream",
          "text": [
            "Model: \"model_4\"\n",
            "__________________________________________________________________________________________________\n",
            " Layer (type)                Output Shape                 Param #   Connected to                  \n",
            "==================================================================================================\n",
            " input_5 (InputLayer)        [(None, 1280, 8)]            0         []                            \n",
            "                                                                                                  \n",
            " conv1d_40 (Conv1D)          (None, 1280, 64)             1600      ['input_5[0][0]']             \n",
            "                                                                                                  \n",
            " max_pooling1d_32 (MaxPooli  (None, 640, 64)              0         ['conv1d_40[0][0]']           \n",
            " ng1D)                                                                                            \n",
            "                                                                                                  \n",
            " conv1d_41 (Conv1D)          (None, 640, 64)              12352     ['max_pooling1d_32[0][0]']    \n",
            "                                                                                                  \n",
            " max_pooling1d_33 (MaxPooli  (None, 320, 64)              0         ['conv1d_41[0][0]']           \n",
            " ng1D)                                                                                            \n",
            "                                                                                                  \n",
            " conv1d_42 (Conv1D)          (None, 320, 64)              12352     ['max_pooling1d_33[0][0]']    \n",
            "                                                                                                  \n",
            " max_pooling1d_34 (MaxPooli  (None, 160, 64)              0         ['conv1d_42[0][0]']           \n",
            " ng1D)                                                                                            \n",
            "                                                                                                  \n",
            " conv1d_43 (Conv1D)          (None, 160, 64)              12352     ['max_pooling1d_34[0][0]']    \n",
            "                                                                                                  \n",
            " max_pooling1d_35 (MaxPooli  (None, 80, 64)               0         ['conv1d_43[0][0]']           \n",
            " ng1D)                                                                                            \n",
            "                                                                                                  \n",
            " conv1d_44 (Conv1D)          (None, 80, 64)               12352     ['max_pooling1d_35[0][0]']    \n",
            "                                                                                                  \n",
            " max_pooling1d_36 (MaxPooli  (None, 40, 64)               0         ['conv1d_44[0][0]']           \n",
            " ng1D)                                                                                            \n",
            "                                                                                                  \n",
            " conv1d_45 (Conv1D)          (None, 40, 64)               12352     ['max_pooling1d_36[0][0]']    \n",
            "                                                                                                  \n",
            " max_pooling1d_37 (MaxPooli  (None, 20, 64)               0         ['conv1d_45[0][0]']           \n",
            " ng1D)                                                                                            \n",
            "                                                                                                  \n",
            " conv1d_46 (Conv1D)          (None, 20, 64)               12352     ['max_pooling1d_37[0][0]']    \n",
            "                                                                                                  \n",
            " max_pooling1d_38 (MaxPooli  (None, 10, 64)               0         ['conv1d_46[0][0]']           \n",
            " ng1D)                                                                                            \n",
            "                                                                                                  \n",
            " conv1d_47 (Conv1D)          (None, 10, 64)               12352     ['max_pooling1d_38[0][0]']    \n",
            "                                                                                                  \n",
            " max_pooling1d_39 (MaxPooli  (None, 5, 64)                0         ['conv1d_47[0][0]']           \n",
            " ng1D)                                                                                            \n",
            "                                                                                                  \n",
            " multi_head_attention_4 (Mu  (None, 5, 64)                1100      ['max_pooling1d_39[0][0]',    \n",
            " ltiHeadAttention)                                                   'max_pooling1d_39[0][0]']    \n",
            "                                                                                                  \n",
            " add_8 (Add)                 (None, 5, 64)                0         ['max_pooling1d_39[0][0]',    \n",
            "                                                                     'multi_head_attention_4[0][0]\n",
            "                                                                    ']                            \n",
            "                                                                                                  \n",
            " layer_normalization_8 (Lay  (None, 5, 64)                128       ['add_8[0][0]']               \n",
            " erNormalization)                                                                                 \n",
            "                                                                                                  \n",
            " conv1d_48 (Conv1D)          (None, 5, 128)               8320      ['layer_normalization_8[0][0]'\n",
            "                                                                    ]                             \n",
            "                                                                                                  \n",
            " conv1d_49 (Conv1D)          (None, 5, 64)                8256      ['conv1d_48[0][0]']           \n",
            "                                                                                                  \n",
            " add_9 (Add)                 (None, 5, 64)                0         ['conv1d_49[0][0]',           \n",
            "                                                                     'multi_head_attention_4[0][0]\n",
            "                                                                    ']                            \n",
            "                                                                                                  \n",
            " layer_normalization_9 (Lay  (None, 5, 64)                128       ['add_9[0][0]']               \n",
            " erNormalization)                                                                                 \n",
            "                                                                                                  \n",
            " time_distributed_8 (TimeDi  (None, 5, 5)                 325       ['layer_normalization_9[0][0]'\n",
            " stributed)                                                         ]                             \n",
            "                                                                                                  \n",
            " time_distributed_9 (TimeDi  (None, 5, 3)                 18        ['time_distributed_8[0][0]']  \n",
            " stributed)                                                                                       \n",
            "                                                                                                  \n",
            "==================================================================================================\n",
            "Total params: 106339 (415.39 KB)\n",
            "Trainable params: 106339 (415.39 KB)\n",
            "Non-trainable params: 0 (0.00 Byte)\n",
            "__________________________________________________________________________________________________\n"
          ]
        }
      ],
      "source": [
        "model3.summary()"
      ]
    },
    {
      "cell_type": "code",
      "execution_count": 24,
      "metadata": {},
      "outputs": [
        {
          "data": {
            "text/plain": [
              "0.9494736790657043"
            ]
          },
          "execution_count": 24,
          "metadata": {},
          "output_type": "execute_result"
        }
      ],
      "source": [
        "val_acc[10]"
      ]
    },
    {
      "cell_type": "code",
      "execution_count": 53,
      "metadata": {},
      "outputs": [
        {
          "data": {
            "application/vnd.plotly.v1+json": {
              "config": {
                "plotlyServerURL": "https://plot.ly"
              },
              "data": [
                {
                  "hovertemplate": "Epoch: %{x}<br>Value: %{y:.4f}<extra></extra>",
                  "marker": {
                    "color": "red"
                  },
                  "mode": "lines+markers",
                  "name": "Training Loss",
                  "type": "scatter",
                  "x": [
                    1,
                    2,
                    3,
                    4,
                    5,
                    6,
                    7,
                    8,
                    9,
                    10,
                    11,
                    12,
                    13,
                    14,
                    15,
                    16,
                    17,
                    18,
                    19,
                    20,
                    21,
                    22,
                    23,
                    24,
                    25,
                    26,
                    27,
                    28,
                    29,
                    30,
                    31,
                    32,
                    33,
                    34,
                    35,
                    36,
                    37,
                    38,
                    39,
                    40,
                    41,
                    42,
                    43,
                    44,
                    45,
                    46,
                    47,
                    48,
                    49,
                    50,
                    51,
                    52,
                    53,
                    54,
                    55,
                    56,
                    57,
                    58,
                    59,
                    60,
                    61,
                    62,
                    63,
                    64,
                    65,
                    66,
                    67,
                    68,
                    69,
                    70
                  ],
                  "xaxis": "x",
                  "y": [
                    0.9245688319206238,
                    0.616095244884491,
                    0.5632547736167908,
                    0.5294764041900635,
                    0.5023446679115295,
                    0.4918553829193115,
                    0.4984879493713379,
                    0.4800112843513489,
                    0.47057607769966125,
                    0.4606386125087738,
                    0.42826658487319946,
                    0.4029100239276886,
                    0.3403598368167877,
                    0.34101924300193787,
                    0.36220601201057434,
                    0.31177031993865967,
                    0.2635596990585327,
                    0.2682682275772095,
                    0.24989408254623413,
                    0.30376526713371277,
                    0.22269994020462036,
                    0.24579297006130219,
                    0.1600131243467331,
                    0.13007521629333496,
                    0.12421374768018723,
                    0.11763425171375275,
                    0.1134609580039978,
                    0.10386423766613007,
                    0.09829547256231308,
                    0.09715159982442856,
                    0.0796278566122055,
                    0.10591934621334076,
                    0.12156279385089874,
                    0.07267918437719345,
                    0.0553363636136055,
                    0.037745483219623566,
                    0.03833814337849617,
                    0.04909377917647362,
                    0.04523644223809242,
                    0.033265575766563416,
                    0.03407835587859154,
                    0.05133287236094475,
                    0.19203634560108185,
                    0.22787176072597504,
                    0.19864659011363983,
                    0.1599751114845276,
                    0.16378992795944214,
                    0.10292227566242218,
                    0.06193277984857559,
                    0.042423687875270844,
                    0.03232961148023605,
                    0.028683604672551155,
                    0.027356240898370743,
                    0.017096469178795815,
                    0.014338165521621704,
                    0.011889033950865269,
                    0.009807407855987549,
                    0.008436756208539009,
                    0.007166535593569279,
                    0.006150440312922001,
                    0.005251359660178423,
                    0.004382971674203873,
                    0.0037192832678556442,
                    0.003416958497837186,
                    0.002970867557451129,
                    0.002711027394980192,
                    0.0024913481902331114,
                    0.0022744149900972843,
                    0.002144833793863654,
                    0.0020130453631281853
                  ],
                  "yaxis": "y"
                },
                {
                  "hovertemplate": "Epoch: %{x}<br>Value: %{y:.4f}<extra></extra>",
                  "marker": {
                    "color": "green"
                  },
                  "mode": "lines+markers",
                  "name": "Validation Loss",
                  "type": "scatter",
                  "x": [
                    1,
                    2,
                    3,
                    4,
                    5,
                    6,
                    7,
                    8,
                    9,
                    10,
                    11,
                    12,
                    13,
                    14,
                    15,
                    16,
                    17,
                    18,
                    19,
                    20,
                    21,
                    22,
                    23,
                    24,
                    25,
                    26,
                    27,
                    28,
                    29,
                    30,
                    31,
                    32,
                    33,
                    34,
                    35,
                    36,
                    37,
                    38,
                    39,
                    40,
                    41,
                    42,
                    43,
                    44,
                    45,
                    46,
                    47,
                    48,
                    49,
                    50,
                    51,
                    52,
                    53,
                    54,
                    55,
                    56,
                    57,
                    58,
                    59,
                    60,
                    61,
                    62,
                    63,
                    64,
                    65,
                    66,
                    67,
                    68,
                    69,
                    70
                  ],
                  "xaxis": "x",
                  "y": [
                    0.7287963032722473,
                    0.647826611995697,
                    0.5871443748474121,
                    0.5771327018737793,
                    0.5142028331756592,
                    0.48265236616134644,
                    0.5046988725662231,
                    0.46793749928474426,
                    0.45579516887664795,
                    0.4283577799797058,
                    0.3812545835971832,
                    0.3438681364059448,
                    0.41516441106796265,
                    0.29658666253089905,
                    0.3045085370540619,
                    0.34570974111557007,
                    0.3104168176651001,
                    0.22397387027740479,
                    0.24663998186588287,
                    0.2819100022315979,
                    0.19360285997390747,
                    0.1677636057138443,
                    0.1744265854358673,
                    0.17948207259178162,
                    0.16289964318275452,
                    0.15311621129512787,
                    0.19459716975688934,
                    0.22163257002830505,
                    0.15919797122478485,
                    0.2073032408952713,
                    0.14651598036289215,
                    0.2909938395023346,
                    0.15221664309501648,
                    0.16171136498451233,
                    0.17360647022724152,
                    0.17588073015213013,
                    0.22469183802604675,
                    0.16133061051368713,
                    0.15792569518089294,
                    0.17400681972503662,
                    0.1769132912158966,
                    0.4365581274032593,
                    0.5576884746551514,
                    0.43936216831207275,
                    0.21925248205661774,
                    0.17698970437049866,
                    0.22090080380439758,
                    0.14463026821613312,
                    0.14319221675395966,
                    0.16564027965068817,
                    0.1799488663673401,
                    0.17305907607078552,
                    0.17796795070171356,
                    0.17987164855003357,
                    0.18320509791374207,
                    0.19485284388065338,
                    0.19084276258945465,
                    0.2017597258090973,
                    0.19985723495483398,
                    0.21851927042007446,
                    0.2158554345369339,
                    0.22584529221057892,
                    0.22707810997962952,
                    0.2394581288099289,
                    0.22798730432987213,
                    0.24213184416294098,
                    0.24298404157161713,
                    0.2388845682144165,
                    0.24345675110816956,
                    0.2491680532693863
                  ],
                  "yaxis": "y"
                },
                {
                  "hovertemplate": "Epoch: %{x}<br>Value: %{y:.4f}<extra></extra>",
                  "marker": {
                    "color": "red"
                  },
                  "mode": "lines+markers",
                  "name": "Training Accuracy",
                  "type": "scatter",
                  "x": [
                    1,
                    2,
                    3,
                    4,
                    5,
                    6,
                    7,
                    8,
                    9,
                    10,
                    11,
                    12,
                    13,
                    14,
                    15,
                    16,
                    17,
                    18,
                    19,
                    20,
                    21,
                    22,
                    23,
                    24,
                    25,
                    26,
                    27,
                    28,
                    29,
                    30,
                    31,
                    32,
                    33,
                    34,
                    35,
                    36,
                    37,
                    38,
                    39,
                    40,
                    41,
                    42,
                    43,
                    44,
                    45,
                    46,
                    47,
                    48,
                    49,
                    50,
                    51,
                    52,
                    53,
                    54,
                    55,
                    56,
                    57,
                    58,
                    59,
                    60,
                    61,
                    62,
                    63,
                    64,
                    65,
                    66,
                    67,
                    68,
                    69,
                    70
                  ],
                  "xaxis": "x2",
                  "y": [
                    0.3803713619709015,
                    0.5135278701782227,
                    0.517241358757019,
                    0.5209549069404602,
                    0.5225464105606079,
                    0.5214853882789612,
                    0.5241379141807556,
                    0.5251989364624023,
                    0.5257294178009033,
                    0.6122015714645386,
                    0.8228116631507874,
                    0.892307698726654,
                    0.9352785348892212,
                    0.9034482836723328,
                    0.9225464463233948,
                    0.9193633794784546,
                    0.9363394975662231,
                    0.9273209571838379,
                    0.9533156752586365,
                    0.911936342716217,
                    0.9336870312690735,
                    0.9649867415428162,
                    0.9740052819252014,
                    0.980371356010437,
                    0.9814323782920837,
                    0.9766578078269958,
                    0.9745358228683472,
                    0.9782493114471436,
                    0.9814323782920837,
                    0.9755968451499939,
                    0.9755968451499939,
                    0.9718832969665527,
                    0.980901837348938,
                    0.980371356010437,
                    0.9888594150543213,
                    0.9883289337158203,
                    0.9941644668579102,
                    0.9856764078140259,
                    0.9872679114341736,
                    0.9936339259147644,
                    0.9931034445762634,
                    0.9824933409690857,
                    0.9458885788917542,
                    0.9432360529899597,
                    0.9421750903129578,
                    0.9368700385093689,
                    0.961273193359375,
                    0.9724137783050537,
                    0.979840874671936,
                    0.989920437335968,
                    0.9893898963928223,
                    0.9941644668579102,
                    0.9909814596176147,
                    0.9962864518165588,
                    0.9973474740982056,
                    0.9973474740982056,
                    0.9978779554367065,
                    0.9984084963798523,
                    0.9984084963798523,
                    0.9989389777183533,
                    0.9989389777183533,
                    0.999469518661499,
                    1,
                    1,
                    1,
                    1,
                    1,
                    1,
                    1,
                    1
                  ],
                  "yaxis": "y2"
                },
                {
                  "hovertemplate": "Epoch: %{x}<br>Value: %{y:.4f}<extra></extra>",
                  "marker": {
                    "color": "green"
                  },
                  "mode": "lines+markers",
                  "name": "Validation Accuracy",
                  "type": "scatter",
                  "x": [
                    1,
                    2,
                    3,
                    4,
                    5,
                    6,
                    7,
                    8,
                    9,
                    10,
                    11,
                    12,
                    13,
                    14,
                    15,
                    16,
                    17,
                    18,
                    19,
                    20,
                    21,
                    22,
                    23,
                    24,
                    25,
                    26,
                    27,
                    28,
                    29,
                    30,
                    31,
                    32,
                    33,
                    34,
                    35,
                    36,
                    37,
                    38,
                    39,
                    40,
                    41,
                    42,
                    43,
                    44,
                    45,
                    46,
                    47,
                    48,
                    49,
                    50,
                    51,
                    52,
                    53,
                    54,
                    55,
                    56,
                    57,
                    58,
                    59,
                    60,
                    61,
                    62,
                    63,
                    64,
                    65,
                    66,
                    67,
                    68,
                    69,
                    70
                  ],
                  "xaxis": "x2",
                  "y": [
                    0.437894731760025,
                    0.47789472341537476,
                    0.5178947448730469,
                    0.5010526180267334,
                    0.5199999809265137,
                    0.524210512638092,
                    0.5199999809265137,
                    0.5199999809265137,
                    0.5221052765846252,
                    0.8252631425857544,
                    0.88210529088974,
                    0.8842105269432068,
                    0.7894737124443054,
                    0.9031578898429871,
                    0.8947368264198303,
                    0.8610526323318481,
                    0.890526294708252,
                    0.9284210801124573,
                    0.917894721031189,
                    0.9200000166893005,
                    0.9410526156425476,
                    0.9578947424888611,
                    0.9473684430122375,
                    0.9473684430122375,
                    0.9599999785423279,
                    0.9578947424888611,
                    0.9368420839309692,
                    0.9389473795890808,
                    0.9515789747238159,
                    0.9242105484008789,
                    0.9578947424888611,
                    0.9094736576080322,
                    0.9578947424888611,
                    0.9515789747238159,
                    0.9515789747238159,
                    0.9515789747238159,
                    0.9326315522193909,
                    0.9473684430122375,
                    0.9578947424888611,
                    0.9515789747238159,
                    0.9578947424888611,
                    0.8778947591781616,
                    0.8252631425857544,
                    0.8631578683853149,
                    0.9305263161659241,
                    0.9515789747238159,
                    0.917894721031189,
                    0.9515789747238159,
                    0.9515789747238159,
                    0.9494736790657043,
                    0.9557894468307495,
                    0.9473684430122375,
                    0.9599999785423279,
                    0.9557894468307495,
                    0.9621052742004395,
                    0.9515789747238159,
                    0.9621052742004395,
                    0.9536842107772827,
                    0.9557894468307495,
                    0.9494736790657043,
                    0.9494736790657043,
                    0.9494736790657043,
                    0.9494736790657043,
                    0.9494736790657043,
                    0.9494736790657043,
                    0.9494736790657043,
                    0.9494736790657043,
                    0.9494736790657043,
                    0.9494736790657043,
                    0.9494736790657043
                  ],
                  "yaxis": "y2"
                }
              ],
              "layout": {
                "annotations": [
                  {
                    "font": {
                      "size": 16
                    },
                    "showarrow": false,
                    "text": "Training and Validation Loss",
                    "x": 0.225,
                    "xanchor": "center",
                    "xref": "paper",
                    "y": 1,
                    "yanchor": "bottom",
                    "yref": "paper"
                  },
                  {
                    "font": {
                      "size": 16
                    },
                    "showarrow": false,
                    "text": "Training and Validation Accuracy",
                    "x": 0.775,
                    "xanchor": "center",
                    "xref": "paper",
                    "y": 1,
                    "yanchor": "bottom",
                    "yref": "paper"
                  }
                ],
                "showlegend": true,
                "template": {
                  "data": {
                    "bar": [
                      {
                        "error_x": {
                          "color": "#2a3f5f"
                        },
                        "error_y": {
                          "color": "#2a3f5f"
                        },
                        "marker": {
                          "line": {
                            "color": "#E5ECF6",
                            "width": 0.5
                          },
                          "pattern": {
                            "fillmode": "overlay",
                            "size": 10,
                            "solidity": 0.2
                          }
                        },
                        "type": "bar"
                      }
                    ],
                    "barpolar": [
                      {
                        "marker": {
                          "line": {
                            "color": "#E5ECF6",
                            "width": 0.5
                          },
                          "pattern": {
                            "fillmode": "overlay",
                            "size": 10,
                            "solidity": 0.2
                          }
                        },
                        "type": "barpolar"
                      }
                    ],
                    "carpet": [
                      {
                        "aaxis": {
                          "endlinecolor": "#2a3f5f",
                          "gridcolor": "white",
                          "linecolor": "white",
                          "minorgridcolor": "white",
                          "startlinecolor": "#2a3f5f"
                        },
                        "baxis": {
                          "endlinecolor": "#2a3f5f",
                          "gridcolor": "white",
                          "linecolor": "white",
                          "minorgridcolor": "white",
                          "startlinecolor": "#2a3f5f"
                        },
                        "type": "carpet"
                      }
                    ],
                    "choropleth": [
                      {
                        "colorbar": {
                          "outlinewidth": 0,
                          "ticks": ""
                        },
                        "type": "choropleth"
                      }
                    ],
                    "contour": [
                      {
                        "colorbar": {
                          "outlinewidth": 0,
                          "ticks": ""
                        },
                        "colorscale": [
                          [
                            0,
                            "#0d0887"
                          ],
                          [
                            0.1111111111111111,
                            "#46039f"
                          ],
                          [
                            0.2222222222222222,
                            "#7201a8"
                          ],
                          [
                            0.3333333333333333,
                            "#9c179e"
                          ],
                          [
                            0.4444444444444444,
                            "#bd3786"
                          ],
                          [
                            0.5555555555555556,
                            "#d8576b"
                          ],
                          [
                            0.6666666666666666,
                            "#ed7953"
                          ],
                          [
                            0.7777777777777778,
                            "#fb9f3a"
                          ],
                          [
                            0.8888888888888888,
                            "#fdca26"
                          ],
                          [
                            1,
                            "#f0f921"
                          ]
                        ],
                        "type": "contour"
                      }
                    ],
                    "contourcarpet": [
                      {
                        "colorbar": {
                          "outlinewidth": 0,
                          "ticks": ""
                        },
                        "type": "contourcarpet"
                      }
                    ],
                    "heatmap": [
                      {
                        "colorbar": {
                          "outlinewidth": 0,
                          "ticks": ""
                        },
                        "colorscale": [
                          [
                            0,
                            "#0d0887"
                          ],
                          [
                            0.1111111111111111,
                            "#46039f"
                          ],
                          [
                            0.2222222222222222,
                            "#7201a8"
                          ],
                          [
                            0.3333333333333333,
                            "#9c179e"
                          ],
                          [
                            0.4444444444444444,
                            "#bd3786"
                          ],
                          [
                            0.5555555555555556,
                            "#d8576b"
                          ],
                          [
                            0.6666666666666666,
                            "#ed7953"
                          ],
                          [
                            0.7777777777777778,
                            "#fb9f3a"
                          ],
                          [
                            0.8888888888888888,
                            "#fdca26"
                          ],
                          [
                            1,
                            "#f0f921"
                          ]
                        ],
                        "type": "heatmap"
                      }
                    ],
                    "heatmapgl": [
                      {
                        "colorbar": {
                          "outlinewidth": 0,
                          "ticks": ""
                        },
                        "colorscale": [
                          [
                            0,
                            "#0d0887"
                          ],
                          [
                            0.1111111111111111,
                            "#46039f"
                          ],
                          [
                            0.2222222222222222,
                            "#7201a8"
                          ],
                          [
                            0.3333333333333333,
                            "#9c179e"
                          ],
                          [
                            0.4444444444444444,
                            "#bd3786"
                          ],
                          [
                            0.5555555555555556,
                            "#d8576b"
                          ],
                          [
                            0.6666666666666666,
                            "#ed7953"
                          ],
                          [
                            0.7777777777777778,
                            "#fb9f3a"
                          ],
                          [
                            0.8888888888888888,
                            "#fdca26"
                          ],
                          [
                            1,
                            "#f0f921"
                          ]
                        ],
                        "type": "heatmapgl"
                      }
                    ],
                    "histogram": [
                      {
                        "marker": {
                          "pattern": {
                            "fillmode": "overlay",
                            "size": 10,
                            "solidity": 0.2
                          }
                        },
                        "type": "histogram"
                      }
                    ],
                    "histogram2d": [
                      {
                        "colorbar": {
                          "outlinewidth": 0,
                          "ticks": ""
                        },
                        "colorscale": [
                          [
                            0,
                            "#0d0887"
                          ],
                          [
                            0.1111111111111111,
                            "#46039f"
                          ],
                          [
                            0.2222222222222222,
                            "#7201a8"
                          ],
                          [
                            0.3333333333333333,
                            "#9c179e"
                          ],
                          [
                            0.4444444444444444,
                            "#bd3786"
                          ],
                          [
                            0.5555555555555556,
                            "#d8576b"
                          ],
                          [
                            0.6666666666666666,
                            "#ed7953"
                          ],
                          [
                            0.7777777777777778,
                            "#fb9f3a"
                          ],
                          [
                            0.8888888888888888,
                            "#fdca26"
                          ],
                          [
                            1,
                            "#f0f921"
                          ]
                        ],
                        "type": "histogram2d"
                      }
                    ],
                    "histogram2dcontour": [
                      {
                        "colorbar": {
                          "outlinewidth": 0,
                          "ticks": ""
                        },
                        "colorscale": [
                          [
                            0,
                            "#0d0887"
                          ],
                          [
                            0.1111111111111111,
                            "#46039f"
                          ],
                          [
                            0.2222222222222222,
                            "#7201a8"
                          ],
                          [
                            0.3333333333333333,
                            "#9c179e"
                          ],
                          [
                            0.4444444444444444,
                            "#bd3786"
                          ],
                          [
                            0.5555555555555556,
                            "#d8576b"
                          ],
                          [
                            0.6666666666666666,
                            "#ed7953"
                          ],
                          [
                            0.7777777777777778,
                            "#fb9f3a"
                          ],
                          [
                            0.8888888888888888,
                            "#fdca26"
                          ],
                          [
                            1,
                            "#f0f921"
                          ]
                        ],
                        "type": "histogram2dcontour"
                      }
                    ],
                    "mesh3d": [
                      {
                        "colorbar": {
                          "outlinewidth": 0,
                          "ticks": ""
                        },
                        "type": "mesh3d"
                      }
                    ],
                    "parcoords": [
                      {
                        "line": {
                          "colorbar": {
                            "outlinewidth": 0,
                            "ticks": ""
                          }
                        },
                        "type": "parcoords"
                      }
                    ],
                    "pie": [
                      {
                        "automargin": true,
                        "type": "pie"
                      }
                    ],
                    "scatter": [
                      {
                        "fillpattern": {
                          "fillmode": "overlay",
                          "size": 10,
                          "solidity": 0.2
                        },
                        "type": "scatter"
                      }
                    ],
                    "scatter3d": [
                      {
                        "line": {
                          "colorbar": {
                            "outlinewidth": 0,
                            "ticks": ""
                          }
                        },
                        "marker": {
                          "colorbar": {
                            "outlinewidth": 0,
                            "ticks": ""
                          }
                        },
                        "type": "scatter3d"
                      }
                    ],
                    "scattercarpet": [
                      {
                        "marker": {
                          "colorbar": {
                            "outlinewidth": 0,
                            "ticks": ""
                          }
                        },
                        "type": "scattercarpet"
                      }
                    ],
                    "scattergeo": [
                      {
                        "marker": {
                          "colorbar": {
                            "outlinewidth": 0,
                            "ticks": ""
                          }
                        },
                        "type": "scattergeo"
                      }
                    ],
                    "scattergl": [
                      {
                        "marker": {
                          "colorbar": {
                            "outlinewidth": 0,
                            "ticks": ""
                          }
                        },
                        "type": "scattergl"
                      }
                    ],
                    "scattermapbox": [
                      {
                        "marker": {
                          "colorbar": {
                            "outlinewidth": 0,
                            "ticks": ""
                          }
                        },
                        "type": "scattermapbox"
                      }
                    ],
                    "scatterpolar": [
                      {
                        "marker": {
                          "colorbar": {
                            "outlinewidth": 0,
                            "ticks": ""
                          }
                        },
                        "type": "scatterpolar"
                      }
                    ],
                    "scatterpolargl": [
                      {
                        "marker": {
                          "colorbar": {
                            "outlinewidth": 0,
                            "ticks": ""
                          }
                        },
                        "type": "scatterpolargl"
                      }
                    ],
                    "scatterternary": [
                      {
                        "marker": {
                          "colorbar": {
                            "outlinewidth": 0,
                            "ticks": ""
                          }
                        },
                        "type": "scatterternary"
                      }
                    ],
                    "surface": [
                      {
                        "colorbar": {
                          "outlinewidth": 0,
                          "ticks": ""
                        },
                        "colorscale": [
                          [
                            0,
                            "#0d0887"
                          ],
                          [
                            0.1111111111111111,
                            "#46039f"
                          ],
                          [
                            0.2222222222222222,
                            "#7201a8"
                          ],
                          [
                            0.3333333333333333,
                            "#9c179e"
                          ],
                          [
                            0.4444444444444444,
                            "#bd3786"
                          ],
                          [
                            0.5555555555555556,
                            "#d8576b"
                          ],
                          [
                            0.6666666666666666,
                            "#ed7953"
                          ],
                          [
                            0.7777777777777778,
                            "#fb9f3a"
                          ],
                          [
                            0.8888888888888888,
                            "#fdca26"
                          ],
                          [
                            1,
                            "#f0f921"
                          ]
                        ],
                        "type": "surface"
                      }
                    ],
                    "table": [
                      {
                        "cells": {
                          "fill": {
                            "color": "#EBF0F8"
                          },
                          "line": {
                            "color": "white"
                          }
                        },
                        "header": {
                          "fill": {
                            "color": "#C8D4E3"
                          },
                          "line": {
                            "color": "white"
                          }
                        },
                        "type": "table"
                      }
                    ]
                  },
                  "layout": {
                    "annotationdefaults": {
                      "arrowcolor": "#2a3f5f",
                      "arrowhead": 0,
                      "arrowwidth": 1
                    },
                    "autotypenumbers": "strict",
                    "coloraxis": {
                      "colorbar": {
                        "outlinewidth": 0,
                        "ticks": ""
                      }
                    },
                    "colorscale": {
                      "diverging": [
                        [
                          0,
                          "#8e0152"
                        ],
                        [
                          0.1,
                          "#c51b7d"
                        ],
                        [
                          0.2,
                          "#de77ae"
                        ],
                        [
                          0.3,
                          "#f1b6da"
                        ],
                        [
                          0.4,
                          "#fde0ef"
                        ],
                        [
                          0.5,
                          "#f7f7f7"
                        ],
                        [
                          0.6,
                          "#e6f5d0"
                        ],
                        [
                          0.7,
                          "#b8e186"
                        ],
                        [
                          0.8,
                          "#7fbc41"
                        ],
                        [
                          0.9,
                          "#4d9221"
                        ],
                        [
                          1,
                          "#276419"
                        ]
                      ],
                      "sequential": [
                        [
                          0,
                          "#0d0887"
                        ],
                        [
                          0.1111111111111111,
                          "#46039f"
                        ],
                        [
                          0.2222222222222222,
                          "#7201a8"
                        ],
                        [
                          0.3333333333333333,
                          "#9c179e"
                        ],
                        [
                          0.4444444444444444,
                          "#bd3786"
                        ],
                        [
                          0.5555555555555556,
                          "#d8576b"
                        ],
                        [
                          0.6666666666666666,
                          "#ed7953"
                        ],
                        [
                          0.7777777777777778,
                          "#fb9f3a"
                        ],
                        [
                          0.8888888888888888,
                          "#fdca26"
                        ],
                        [
                          1,
                          "#f0f921"
                        ]
                      ],
                      "sequentialminus": [
                        [
                          0,
                          "#0d0887"
                        ],
                        [
                          0.1111111111111111,
                          "#46039f"
                        ],
                        [
                          0.2222222222222222,
                          "#7201a8"
                        ],
                        [
                          0.3333333333333333,
                          "#9c179e"
                        ],
                        [
                          0.4444444444444444,
                          "#bd3786"
                        ],
                        [
                          0.5555555555555556,
                          "#d8576b"
                        ],
                        [
                          0.6666666666666666,
                          "#ed7953"
                        ],
                        [
                          0.7777777777777778,
                          "#fb9f3a"
                        ],
                        [
                          0.8888888888888888,
                          "#fdca26"
                        ],
                        [
                          1,
                          "#f0f921"
                        ]
                      ]
                    },
                    "colorway": [
                      "#636efa",
                      "#EF553B",
                      "#00cc96",
                      "#ab63fa",
                      "#FFA15A",
                      "#19d3f3",
                      "#FF6692",
                      "#B6E880",
                      "#FF97FF",
                      "#FECB52"
                    ],
                    "font": {
                      "color": "#2a3f5f"
                    },
                    "geo": {
                      "bgcolor": "white",
                      "lakecolor": "white",
                      "landcolor": "#E5ECF6",
                      "showlakes": true,
                      "showland": true,
                      "subunitcolor": "white"
                    },
                    "hoverlabel": {
                      "align": "left"
                    },
                    "hovermode": "closest",
                    "mapbox": {
                      "style": "light"
                    },
                    "paper_bgcolor": "white",
                    "plot_bgcolor": "#E5ECF6",
                    "polar": {
                      "angularaxis": {
                        "gridcolor": "white",
                        "linecolor": "white",
                        "ticks": ""
                      },
                      "bgcolor": "#E5ECF6",
                      "radialaxis": {
                        "gridcolor": "white",
                        "linecolor": "white",
                        "ticks": ""
                      }
                    },
                    "scene": {
                      "xaxis": {
                        "backgroundcolor": "#E5ECF6",
                        "gridcolor": "white",
                        "gridwidth": 2,
                        "linecolor": "white",
                        "showbackground": true,
                        "ticks": "",
                        "zerolinecolor": "white"
                      },
                      "yaxis": {
                        "backgroundcolor": "#E5ECF6",
                        "gridcolor": "white",
                        "gridwidth": 2,
                        "linecolor": "white",
                        "showbackground": true,
                        "ticks": "",
                        "zerolinecolor": "white"
                      },
                      "zaxis": {
                        "backgroundcolor": "#E5ECF6",
                        "gridcolor": "white",
                        "gridwidth": 2,
                        "linecolor": "white",
                        "showbackground": true,
                        "ticks": "",
                        "zerolinecolor": "white"
                      }
                    },
                    "shapedefaults": {
                      "line": {
                        "color": "#2a3f5f"
                      }
                    },
                    "ternary": {
                      "aaxis": {
                        "gridcolor": "white",
                        "linecolor": "white",
                        "ticks": ""
                      },
                      "baxis": {
                        "gridcolor": "white",
                        "linecolor": "white",
                        "ticks": ""
                      },
                      "bgcolor": "#E5ECF6",
                      "caxis": {
                        "gridcolor": "white",
                        "linecolor": "white",
                        "ticks": ""
                      }
                    },
                    "title": {
                      "x": 0.05
                    },
                    "xaxis": {
                      "automargin": true,
                      "gridcolor": "white",
                      "linecolor": "white",
                      "ticks": "",
                      "title": {
                        "standoff": 15
                      },
                      "zerolinecolor": "white",
                      "zerolinewidth": 2
                    },
                    "yaxis": {
                      "automargin": true,
                      "gridcolor": "white",
                      "linecolor": "white",
                      "ticks": "",
                      "title": {
                        "standoff": 15
                      },
                      "zerolinecolor": "white",
                      "zerolinewidth": 2
                    }
                  }
                },
                "title": {
                  "text": "Training and Validation Metrics"
                },
                "xaxis": {
                  "anchor": "y",
                  "domain": [
                    0,
                    0.45
                  ]
                },
                "xaxis2": {
                  "anchor": "y2",
                  "domain": [
                    0.55,
                    1
                  ]
                },
                "yaxis": {
                  "anchor": "x",
                  "domain": [
                    0,
                    1
                  ],
                  "title": {
                    "text": "Loss"
                  }
                },
                "yaxis2": {
                  "anchor": "x2",
                  "domain": [
                    0,
                    1
                  ],
                  "title": {
                    "text": "Accuracy"
                  }
                }
              }
            },
            "text/html": [
              "<div>                            <div id=\"e4affc1f-8c17-46f8-b3bf-79aeed48f4ca\" class=\"plotly-graph-div\" style=\"height:525px; width:100%;\"></div>            <script type=\"text/javascript\">                require([\"plotly\"], function(Plotly) {                    window.PLOTLYENV=window.PLOTLYENV || {};                                    if (document.getElementById(\"e4affc1f-8c17-46f8-b3bf-79aeed48f4ca\")) {                    Plotly.newPlot(                        \"e4affc1f-8c17-46f8-b3bf-79aeed48f4ca\",                        [{\"hovertemplate\":\"Epoch: %{x}\\u003cbr\\u003eValue: %{y:.4f}\\u003cextra\\u003e\\u003c\\u002fextra\\u003e\",\"marker\":{\"color\":\"red\"},\"mode\":\"lines+markers\",\"name\":\"Training Loss\",\"x\":[1,2,3,4,5,6,7,8,9,10,11,12,13,14,15,16,17,18,19,20,21,22,23,24,25,26,27,28,29,30,31,32,33,34,35,36,37,38,39,40,41,42,43,44,45,46,47,48,49,50,51,52,53,54,55,56,57,58,59,60,61,62,63,64,65,66,67,68,69,70],\"y\":[0.9245688319206238,0.616095244884491,0.5632547736167908,0.5294764041900635,0.5023446679115295,0.4918553829193115,0.4984879493713379,0.4800112843513489,0.47057607769966125,0.4606386125087738,0.42826658487319946,0.4029100239276886,0.3403598368167877,0.34101924300193787,0.36220601201057434,0.31177031993865967,0.2635596990585327,0.2682682275772095,0.24989408254623413,0.30376526713371277,0.22269994020462036,0.24579297006130219,0.1600131243467331,0.13007521629333496,0.12421374768018723,0.11763425171375275,0.1134609580039978,0.10386423766613007,0.09829547256231308,0.09715159982442856,0.0796278566122055,0.10591934621334076,0.12156279385089874,0.07267918437719345,0.0553363636136055,0.037745483219623566,0.03833814337849617,0.04909377917647362,0.04523644223809242,0.033265575766563416,0.03407835587859154,0.05133287236094475,0.19203634560108185,0.22787176072597504,0.19864659011363983,0.1599751114845276,0.16378992795944214,0.10292227566242218,0.06193277984857559,0.042423687875270844,0.03232961148023605,0.028683604672551155,0.027356240898370743,0.017096469178795815,0.014338165521621704,0.011889033950865269,0.009807407855987549,0.008436756208539009,0.007166535593569279,0.006150440312922001,0.005251359660178423,0.004382971674203873,0.0037192832678556442,0.003416958497837186,0.002970867557451129,0.002711027394980192,0.0024913481902331114,0.0022744149900972843,0.002144833793863654,0.0020130453631281853],\"type\":\"scatter\",\"xaxis\":\"x\",\"yaxis\":\"y\"},{\"hovertemplate\":\"Epoch: %{x}\\u003cbr\\u003eValue: %{y:.4f}\\u003cextra\\u003e\\u003c\\u002fextra\\u003e\",\"marker\":{\"color\":\"green\"},\"mode\":\"lines+markers\",\"name\":\"Validation Loss\",\"x\":[1,2,3,4,5,6,7,8,9,10,11,12,13,14,15,16,17,18,19,20,21,22,23,24,25,26,27,28,29,30,31,32,33,34,35,36,37,38,39,40,41,42,43,44,45,46,47,48,49,50,51,52,53,54,55,56,57,58,59,60,61,62,63,64,65,66,67,68,69,70],\"y\":[0.7287963032722473,0.647826611995697,0.5871443748474121,0.5771327018737793,0.5142028331756592,0.48265236616134644,0.5046988725662231,0.46793749928474426,0.45579516887664795,0.4283577799797058,0.3812545835971832,0.3438681364059448,0.41516441106796265,0.29658666253089905,0.3045085370540619,0.34570974111557007,0.3104168176651001,0.22397387027740479,0.24663998186588287,0.2819100022315979,0.19360285997390747,0.1677636057138443,0.1744265854358673,0.17948207259178162,0.16289964318275452,0.15311621129512787,0.19459716975688934,0.22163257002830505,0.15919797122478485,0.2073032408952713,0.14651598036289215,0.2909938395023346,0.15221664309501648,0.16171136498451233,0.17360647022724152,0.17588073015213013,0.22469183802604675,0.16133061051368713,0.15792569518089294,0.17400681972503662,0.1769132912158966,0.4365581274032593,0.5576884746551514,0.43936216831207275,0.21925248205661774,0.17698970437049866,0.22090080380439758,0.14463026821613312,0.14319221675395966,0.16564027965068817,0.1799488663673401,0.17305907607078552,0.17796795070171356,0.17987164855003357,0.18320509791374207,0.19485284388065338,0.19084276258945465,0.2017597258090973,0.19985723495483398,0.21851927042007446,0.2158554345369339,0.22584529221057892,0.22707810997962952,0.2394581288099289,0.22798730432987213,0.24213184416294098,0.24298404157161713,0.2388845682144165,0.24345675110816956,0.2491680532693863],\"type\":\"scatter\",\"xaxis\":\"x\",\"yaxis\":\"y\"},{\"hovertemplate\":\"Epoch: %{x}\\u003cbr\\u003eValue: %{y:.4f}\\u003cextra\\u003e\\u003c\\u002fextra\\u003e\",\"marker\":{\"color\":\"red\"},\"mode\":\"lines+markers\",\"name\":\"Training Accuracy\",\"x\":[1,2,3,4,5,6,7,8,9,10,11,12,13,14,15,16,17,18,19,20,21,22,23,24,25,26,27,28,29,30,31,32,33,34,35,36,37,38,39,40,41,42,43,44,45,46,47,48,49,50,51,52,53,54,55,56,57,58,59,60,61,62,63,64,65,66,67,68,69,70],\"y\":[0.3803713619709015,0.5135278701782227,0.517241358757019,0.5209549069404602,0.5225464105606079,0.5214853882789612,0.5241379141807556,0.5251989364624023,0.5257294178009033,0.6122015714645386,0.8228116631507874,0.892307698726654,0.9352785348892212,0.9034482836723328,0.9225464463233948,0.9193633794784546,0.9363394975662231,0.9273209571838379,0.9533156752586365,0.911936342716217,0.9336870312690735,0.9649867415428162,0.9740052819252014,0.980371356010437,0.9814323782920837,0.9766578078269958,0.9745358228683472,0.9782493114471436,0.9814323782920837,0.9755968451499939,0.9755968451499939,0.9718832969665527,0.980901837348938,0.980371356010437,0.9888594150543213,0.9883289337158203,0.9941644668579102,0.9856764078140259,0.9872679114341736,0.9936339259147644,0.9931034445762634,0.9824933409690857,0.9458885788917542,0.9432360529899597,0.9421750903129578,0.9368700385093689,0.961273193359375,0.9724137783050537,0.979840874671936,0.989920437335968,0.9893898963928223,0.9941644668579102,0.9909814596176147,0.9962864518165588,0.9973474740982056,0.9973474740982056,0.9978779554367065,0.9984084963798523,0.9984084963798523,0.9989389777183533,0.9989389777183533,0.999469518661499,1.0,1.0,1.0,1.0,1.0,1.0,1.0,1.0],\"type\":\"scatter\",\"xaxis\":\"x2\",\"yaxis\":\"y2\"},{\"hovertemplate\":\"Epoch: %{x}\\u003cbr\\u003eValue: %{y:.4f}\\u003cextra\\u003e\\u003c\\u002fextra\\u003e\",\"marker\":{\"color\":\"green\"},\"mode\":\"lines+markers\",\"name\":\"Validation Accuracy\",\"x\":[1,2,3,4,5,6,7,8,9,10,11,12,13,14,15,16,17,18,19,20,21,22,23,24,25,26,27,28,29,30,31,32,33,34,35,36,37,38,39,40,41,42,43,44,45,46,47,48,49,50,51,52,53,54,55,56,57,58,59,60,61,62,63,64,65,66,67,68,69,70],\"y\":[0.437894731760025,0.47789472341537476,0.5178947448730469,0.5010526180267334,0.5199999809265137,0.524210512638092,0.5199999809265137,0.5199999809265137,0.5221052765846252,0.8252631425857544,0.88210529088974,0.8842105269432068,0.7894737124443054,0.9031578898429871,0.8947368264198303,0.8610526323318481,0.890526294708252,0.9284210801124573,0.917894721031189,0.9200000166893005,0.9410526156425476,0.9578947424888611,0.9473684430122375,0.9473684430122375,0.9599999785423279,0.9578947424888611,0.9368420839309692,0.9389473795890808,0.9515789747238159,0.9242105484008789,0.9578947424888611,0.9094736576080322,0.9578947424888611,0.9515789747238159,0.9515789747238159,0.9515789747238159,0.9326315522193909,0.9473684430122375,0.9578947424888611,0.9515789747238159,0.9578947424888611,0.8778947591781616,0.8252631425857544,0.8631578683853149,0.9305263161659241,0.9515789747238159,0.917894721031189,0.9515789747238159,0.9515789747238159,0.9494736790657043,0.9557894468307495,0.9473684430122375,0.9599999785423279,0.9557894468307495,0.9621052742004395,0.9515789747238159,0.9621052742004395,0.9536842107772827,0.9557894468307495,0.9494736790657043,0.9494736790657043,0.9494736790657043,0.9494736790657043,0.9494736790657043,0.9494736790657043,0.9494736790657043,0.9494736790657043,0.9494736790657043,0.9494736790657043,0.9494736790657043],\"type\":\"scatter\",\"xaxis\":\"x2\",\"yaxis\":\"y2\"}],                        {\"template\":{\"data\":{\"histogram2dcontour\":[{\"type\":\"histogram2dcontour\",\"colorbar\":{\"outlinewidth\":0,\"ticks\":\"\"},\"colorscale\":[[0.0,\"#0d0887\"],[0.1111111111111111,\"#46039f\"],[0.2222222222222222,\"#7201a8\"],[0.3333333333333333,\"#9c179e\"],[0.4444444444444444,\"#bd3786\"],[0.5555555555555556,\"#d8576b\"],[0.6666666666666666,\"#ed7953\"],[0.7777777777777778,\"#fb9f3a\"],[0.8888888888888888,\"#fdca26\"],[1.0,\"#f0f921\"]]}],\"choropleth\":[{\"type\":\"choropleth\",\"colorbar\":{\"outlinewidth\":0,\"ticks\":\"\"}}],\"histogram2d\":[{\"type\":\"histogram2d\",\"colorbar\":{\"outlinewidth\":0,\"ticks\":\"\"},\"colorscale\":[[0.0,\"#0d0887\"],[0.1111111111111111,\"#46039f\"],[0.2222222222222222,\"#7201a8\"],[0.3333333333333333,\"#9c179e\"],[0.4444444444444444,\"#bd3786\"],[0.5555555555555556,\"#d8576b\"],[0.6666666666666666,\"#ed7953\"],[0.7777777777777778,\"#fb9f3a\"],[0.8888888888888888,\"#fdca26\"],[1.0,\"#f0f921\"]]}],\"heatmap\":[{\"type\":\"heatmap\",\"colorbar\":{\"outlinewidth\":0,\"ticks\":\"\"},\"colorscale\":[[0.0,\"#0d0887\"],[0.1111111111111111,\"#46039f\"],[0.2222222222222222,\"#7201a8\"],[0.3333333333333333,\"#9c179e\"],[0.4444444444444444,\"#bd3786\"],[0.5555555555555556,\"#d8576b\"],[0.6666666666666666,\"#ed7953\"],[0.7777777777777778,\"#fb9f3a\"],[0.8888888888888888,\"#fdca26\"],[1.0,\"#f0f921\"]]}],\"heatmapgl\":[{\"type\":\"heatmapgl\",\"colorbar\":{\"outlinewidth\":0,\"ticks\":\"\"},\"colorscale\":[[0.0,\"#0d0887\"],[0.1111111111111111,\"#46039f\"],[0.2222222222222222,\"#7201a8\"],[0.3333333333333333,\"#9c179e\"],[0.4444444444444444,\"#bd3786\"],[0.5555555555555556,\"#d8576b\"],[0.6666666666666666,\"#ed7953\"],[0.7777777777777778,\"#fb9f3a\"],[0.8888888888888888,\"#fdca26\"],[1.0,\"#f0f921\"]]}],\"contourcarpet\":[{\"type\":\"contourcarpet\",\"colorbar\":{\"outlinewidth\":0,\"ticks\":\"\"}}],\"contour\":[{\"type\":\"contour\",\"colorbar\":{\"outlinewidth\":0,\"ticks\":\"\"},\"colorscale\":[[0.0,\"#0d0887\"],[0.1111111111111111,\"#46039f\"],[0.2222222222222222,\"#7201a8\"],[0.3333333333333333,\"#9c179e\"],[0.4444444444444444,\"#bd3786\"],[0.5555555555555556,\"#d8576b\"],[0.6666666666666666,\"#ed7953\"],[0.7777777777777778,\"#fb9f3a\"],[0.8888888888888888,\"#fdca26\"],[1.0,\"#f0f921\"]]}],\"surface\":[{\"type\":\"surface\",\"colorbar\":{\"outlinewidth\":0,\"ticks\":\"\"},\"colorscale\":[[0.0,\"#0d0887\"],[0.1111111111111111,\"#46039f\"],[0.2222222222222222,\"#7201a8\"],[0.3333333333333333,\"#9c179e\"],[0.4444444444444444,\"#bd3786\"],[0.5555555555555556,\"#d8576b\"],[0.6666666666666666,\"#ed7953\"],[0.7777777777777778,\"#fb9f3a\"],[0.8888888888888888,\"#fdca26\"],[1.0,\"#f0f921\"]]}],\"mesh3d\":[{\"type\":\"mesh3d\",\"colorbar\":{\"outlinewidth\":0,\"ticks\":\"\"}}],\"scatter\":[{\"fillpattern\":{\"fillmode\":\"overlay\",\"size\":10,\"solidity\":0.2},\"type\":\"scatter\"}],\"parcoords\":[{\"type\":\"parcoords\",\"line\":{\"colorbar\":{\"outlinewidth\":0,\"ticks\":\"\"}}}],\"scatterpolargl\":[{\"type\":\"scatterpolargl\",\"marker\":{\"colorbar\":{\"outlinewidth\":0,\"ticks\":\"\"}}}],\"bar\":[{\"error_x\":{\"color\":\"#2a3f5f\"},\"error_y\":{\"color\":\"#2a3f5f\"},\"marker\":{\"line\":{\"color\":\"#E5ECF6\",\"width\":0.5},\"pattern\":{\"fillmode\":\"overlay\",\"size\":10,\"solidity\":0.2}},\"type\":\"bar\"}],\"scattergeo\":[{\"type\":\"scattergeo\",\"marker\":{\"colorbar\":{\"outlinewidth\":0,\"ticks\":\"\"}}}],\"scatterpolar\":[{\"type\":\"scatterpolar\",\"marker\":{\"colorbar\":{\"outlinewidth\":0,\"ticks\":\"\"}}}],\"histogram\":[{\"marker\":{\"pattern\":{\"fillmode\":\"overlay\",\"size\":10,\"solidity\":0.2}},\"type\":\"histogram\"}],\"scattergl\":[{\"type\":\"scattergl\",\"marker\":{\"colorbar\":{\"outlinewidth\":0,\"ticks\":\"\"}}}],\"scatter3d\":[{\"type\":\"scatter3d\",\"line\":{\"colorbar\":{\"outlinewidth\":0,\"ticks\":\"\"}},\"marker\":{\"colorbar\":{\"outlinewidth\":0,\"ticks\":\"\"}}}],\"scattermapbox\":[{\"type\":\"scattermapbox\",\"marker\":{\"colorbar\":{\"outlinewidth\":0,\"ticks\":\"\"}}}],\"scatterternary\":[{\"type\":\"scatterternary\",\"marker\":{\"colorbar\":{\"outlinewidth\":0,\"ticks\":\"\"}}}],\"scattercarpet\":[{\"type\":\"scattercarpet\",\"marker\":{\"colorbar\":{\"outlinewidth\":0,\"ticks\":\"\"}}}],\"carpet\":[{\"aaxis\":{\"endlinecolor\":\"#2a3f5f\",\"gridcolor\":\"white\",\"linecolor\":\"white\",\"minorgridcolor\":\"white\",\"startlinecolor\":\"#2a3f5f\"},\"baxis\":{\"endlinecolor\":\"#2a3f5f\",\"gridcolor\":\"white\",\"linecolor\":\"white\",\"minorgridcolor\":\"white\",\"startlinecolor\":\"#2a3f5f\"},\"type\":\"carpet\"}],\"table\":[{\"cells\":{\"fill\":{\"color\":\"#EBF0F8\"},\"line\":{\"color\":\"white\"}},\"header\":{\"fill\":{\"color\":\"#C8D4E3\"},\"line\":{\"color\":\"white\"}},\"type\":\"table\"}],\"barpolar\":[{\"marker\":{\"line\":{\"color\":\"#E5ECF6\",\"width\":0.5},\"pattern\":{\"fillmode\":\"overlay\",\"size\":10,\"solidity\":0.2}},\"type\":\"barpolar\"}],\"pie\":[{\"automargin\":true,\"type\":\"pie\"}]},\"layout\":{\"autotypenumbers\":\"strict\",\"colorway\":[\"#636efa\",\"#EF553B\",\"#00cc96\",\"#ab63fa\",\"#FFA15A\",\"#19d3f3\",\"#FF6692\",\"#B6E880\",\"#FF97FF\",\"#FECB52\"],\"font\":{\"color\":\"#2a3f5f\"},\"hovermode\":\"closest\",\"hoverlabel\":{\"align\":\"left\"},\"paper_bgcolor\":\"white\",\"plot_bgcolor\":\"#E5ECF6\",\"polar\":{\"bgcolor\":\"#E5ECF6\",\"angularaxis\":{\"gridcolor\":\"white\",\"linecolor\":\"white\",\"ticks\":\"\"},\"radialaxis\":{\"gridcolor\":\"white\",\"linecolor\":\"white\",\"ticks\":\"\"}},\"ternary\":{\"bgcolor\":\"#E5ECF6\",\"aaxis\":{\"gridcolor\":\"white\",\"linecolor\":\"white\",\"ticks\":\"\"},\"baxis\":{\"gridcolor\":\"white\",\"linecolor\":\"white\",\"ticks\":\"\"},\"caxis\":{\"gridcolor\":\"white\",\"linecolor\":\"white\",\"ticks\":\"\"}},\"coloraxis\":{\"colorbar\":{\"outlinewidth\":0,\"ticks\":\"\"}},\"colorscale\":{\"sequential\":[[0.0,\"#0d0887\"],[0.1111111111111111,\"#46039f\"],[0.2222222222222222,\"#7201a8\"],[0.3333333333333333,\"#9c179e\"],[0.4444444444444444,\"#bd3786\"],[0.5555555555555556,\"#d8576b\"],[0.6666666666666666,\"#ed7953\"],[0.7777777777777778,\"#fb9f3a\"],[0.8888888888888888,\"#fdca26\"],[1.0,\"#f0f921\"]],\"sequentialminus\":[[0.0,\"#0d0887\"],[0.1111111111111111,\"#46039f\"],[0.2222222222222222,\"#7201a8\"],[0.3333333333333333,\"#9c179e\"],[0.4444444444444444,\"#bd3786\"],[0.5555555555555556,\"#d8576b\"],[0.6666666666666666,\"#ed7953\"],[0.7777777777777778,\"#fb9f3a\"],[0.8888888888888888,\"#fdca26\"],[1.0,\"#f0f921\"]],\"diverging\":[[0,\"#8e0152\"],[0.1,\"#c51b7d\"],[0.2,\"#de77ae\"],[0.3,\"#f1b6da\"],[0.4,\"#fde0ef\"],[0.5,\"#f7f7f7\"],[0.6,\"#e6f5d0\"],[0.7,\"#b8e186\"],[0.8,\"#7fbc41\"],[0.9,\"#4d9221\"],[1,\"#276419\"]]},\"xaxis\":{\"gridcolor\":\"white\",\"linecolor\":\"white\",\"ticks\":\"\",\"title\":{\"standoff\":15},\"zerolinecolor\":\"white\",\"automargin\":true,\"zerolinewidth\":2},\"yaxis\":{\"gridcolor\":\"white\",\"linecolor\":\"white\",\"ticks\":\"\",\"title\":{\"standoff\":15},\"zerolinecolor\":\"white\",\"automargin\":true,\"zerolinewidth\":2},\"scene\":{\"xaxis\":{\"backgroundcolor\":\"#E5ECF6\",\"gridcolor\":\"white\",\"linecolor\":\"white\",\"showbackground\":true,\"ticks\":\"\",\"zerolinecolor\":\"white\",\"gridwidth\":2},\"yaxis\":{\"backgroundcolor\":\"#E5ECF6\",\"gridcolor\":\"white\",\"linecolor\":\"white\",\"showbackground\":true,\"ticks\":\"\",\"zerolinecolor\":\"white\",\"gridwidth\":2},\"zaxis\":{\"backgroundcolor\":\"#E5ECF6\",\"gridcolor\":\"white\",\"linecolor\":\"white\",\"showbackground\":true,\"ticks\":\"\",\"zerolinecolor\":\"white\",\"gridwidth\":2}},\"shapedefaults\":{\"line\":{\"color\":\"#2a3f5f\"}},\"annotationdefaults\":{\"arrowcolor\":\"#2a3f5f\",\"arrowhead\":0,\"arrowwidth\":1},\"geo\":{\"bgcolor\":\"white\",\"landcolor\":\"#E5ECF6\",\"subunitcolor\":\"white\",\"showland\":true,\"showlakes\":true,\"lakecolor\":\"white\"},\"title\":{\"x\":0.05},\"mapbox\":{\"style\":\"light\"}}},\"xaxis\":{\"anchor\":\"y\",\"domain\":[0.0,0.45]},\"yaxis\":{\"anchor\":\"x\",\"domain\":[0.0,1.0],\"title\":{\"text\":\"Loss\"}},\"xaxis2\":{\"anchor\":\"y2\",\"domain\":[0.55,1.0]},\"yaxis2\":{\"anchor\":\"x2\",\"domain\":[0.0,1.0],\"title\":{\"text\":\"Accuracy\"}},\"annotations\":[{\"font\":{\"size\":16},\"showarrow\":false,\"text\":\"Training and Validation Loss\",\"x\":0.225,\"xanchor\":\"center\",\"xref\":\"paper\",\"y\":1.0,\"yanchor\":\"bottom\",\"yref\":\"paper\"},{\"font\":{\"size\":16},\"showarrow\":false,\"text\":\"Training and Validation Accuracy\",\"x\":0.775,\"xanchor\":\"center\",\"xref\":\"paper\",\"y\":1.0,\"yanchor\":\"bottom\",\"yref\":\"paper\"}],\"title\":{\"text\":\"Training and Validation Metrics\"},\"showlegend\":true},                        {\"responsive\": true}                    ).then(function(){\n",
              "                            \n",
              "var gd = document.getElementById('e4affc1f-8c17-46f8-b3bf-79aeed48f4ca');\n",
              "var x = new MutationObserver(function (mutations, observer) {{\n",
              "        var display = window.getComputedStyle(gd).display;\n",
              "        if (!display || display === 'none') {{\n",
              "            console.log([gd, 'removed!']);\n",
              "            Plotly.purge(gd);\n",
              "            observer.disconnect();\n",
              "        }}\n",
              "}});\n",
              "\n",
              "// Listen for the removal of the full notebook cells\n",
              "var notebookContainer = gd.closest('#notebook-container');\n",
              "if (notebookContainer) {{\n",
              "    x.observe(notebookContainer, {childList: true});\n",
              "}}\n",
              "\n",
              "// Listen for the clearing of the current output cell\n",
              "var outputEl = gd.closest('.output');\n",
              "if (outputEl) {{\n",
              "    x.observe(outputEl, {childList: true});\n",
              "}}\n",
              "\n",
              "                        })                };                });            </script>        </div>"
            ]
          },
          "metadata": {},
          "output_type": "display_data"
        }
      ],
      "source": [
        "import plotly.graph_objs as go\n",
        "from plotly.subplots import make_subplots\n",
        "\n",
        "\n",
        "\n",
        "def plot_metrics(fit):\n",
        "\n",
        "    history = fit.history\n",
        "    train_loss = history['loss']\n",
        "    val_loss = history['val_loss']\n",
        "    train_acc = history['accuracy']  # Or 'acc' based on your TensorFlow version\n",
        "    val_acc = history['val_accuracy']  # Or 'val_acc' based on your TensorFlow version\n",
        "    epochs = list(range(1, len(train_loss) + 1))\n",
        "\n",
        "    # Create subplots: one row, two columns\n",
        "    fig = make_subplots(rows=1, cols=2, subplot_titles=('Training and Validation Loss', 'Training and Validation Accuracy'))\n",
        "\n",
        "    # Define hover template\n",
        "    hovertemplate = 'Epoch: %{x}<br>Value: %{y:.4f}<extra></extra>'\n",
        "\n",
        "    # First subplot for loss\n",
        "    fig.add_trace(go.Scatter(x=epochs, y=train_loss, mode='lines+markers', name='Training Loss', \n",
        "                            marker_color='red', hovertemplate=hovertemplate), row=1, col=1)\n",
        "    fig.add_trace(go.Scatter(x=epochs, y=val_loss, mode='lines+markers', name='Validation Loss', \n",
        "                            marker_color='green', hovertemplate=hovertemplate), row=1, col=1)\n",
        "\n",
        "    # Second subplot for accuracy\n",
        "    fig.add_trace(go.Scatter(x=epochs, y=train_acc, mode='lines+markers', name='Training Accuracy', \n",
        "                            marker_color='red', hovertemplate=hovertemplate), row=1, col=2)\n",
        "    fig.add_trace(go.Scatter(x=epochs, y=val_acc, mode='lines+markers', name='Validation Accuracy', \n",
        "                            marker_color='green', hovertemplate=hovertemplate), row=1, col=2)\n",
        "\n",
        "    # Update xaxis properties\n",
        "    # fig.update_xaxes(title_text='Epochs', tickmode='linear', row=1, col=1)\n",
        "    # fig.update_xaxes(title_text='Epochs', tickmode='linear', row=1, col=2)\n",
        "\n",
        "    # Update yaxis properties\n",
        "    fig.update_yaxes(title_text='Loss', row=1, col=1)\n",
        "    fig.update_yaxes(title_text='Accuracy', row=1, col=2)\n",
        "\n",
        "    # Update layout and show plot\n",
        "    fig.update_layout(title_text='Training and Validation Metrics', showlegend=True)\n",
        "    fig.show()\n",
        "    \n",
        "plot_metrics(fit4)"
      ]
    },
    {
      "cell_type": "code",
      "execution_count": 74,
      "metadata": {},
      "outputs": [
        {
          "name": "stdout",
          "output_type": "stream",
          "text": [
            "3/3 [==============================] - 0s 20ms/step\n"
          ]
        },
        {
          "data": {
            "image/png": "[encoded data removed]",
            "text/plain": [
              "<Figure size 1000x1000 with 2 Axes>"
            ]
          },
          "metadata": {},
          "output_type": "display_data"
        },
        {
          "data": {
            "image/png": "[encoded data removed]",
            "text/plain": [
              "<Figure size 1000x1000 with 2 Axes>"
            ]
          },
          "metadata": {},
          "output_type": "display_data"
        }
      ],
      "source": [
        "from sklearn.metrics import confusion_matrix\n",
        "import numpy as np\n",
        "\n",
        "# Predict on the test data\n",
        "y_pred = model3.predict(x_val)\n",
        "\n",
        "# Convert predictions from probability to class labels\n",
        "y_pred_classes = np.argmax(y_pred, axis=-1)  # Assuming softmax output\n",
        "y_true_classes = np.argmax(y_val, axis=-1)  # Convert true labels\n",
        "\n",
        "# Reshape the predictions and true values to a 2D format\n",
        "y_pred_flat = y_pred_classes.flatten()\n",
        "y_true_flat = y_true_classes.flatten()\n",
        "\n",
        "# Compute the confusion matrix\n",
        "cm = confusion_matrix(y_true_flat, y_pred_flat)\n",
        "# If you want, you can also normalize the confusion matrix\n",
        "cm_normalized = cm.astype('float') / cm.sum(axis=1)[:, np.newaxis]\n",
        "\n",
        "import seaborn as sns\n",
        "import matplotlib.pyplot as plt\n",
        "\n",
        "plt.figure(figsize=(10, 10))\n",
        "sns.heatmap(cm_normalized, annot=True, fmt=\".2f\", cmap=\"Blues\")\n",
        "plt.ylabel('True Label')\n",
        "plt.xlabel('Predicted Label')\n",
        "plt.title('Confusion Matrix')\n",
        "plt.show()\n",
        "\n",
        "\n",
        "# Define your label names corresponding to the integers\n",
        "label_names = ['eating', 'resting', 'walking']  # Replace with your actual label names\n",
        "\n",
        "# Create the confusion matrix plot\n",
        "plt.figure(figsize=(10, 10))\n",
        "sns.heatmap(cm_normalized, annot=True, fmt=\".2f\", cmap=\"Blues\", \n",
        "            xticklabels=label_names, yticklabels=label_names)  # Set custom labels\n",
        "plt.ylabel('True Label')\n",
        "plt.xlabel('Predicted Label')\n",
        "plt.title('Confusion Matrix')\n",
        "plt.show()"
      ]
    },
    {
      "cell_type": "code",
      "execution_count": 65,
      "metadata": {},
      "outputs": [
        {
          "data": {
            "text/plain": [
              "(95, 5, 3)"
            ]
          },
          "execution_count": 65,
          "metadata": {},
          "output_type": "execute_result"
        }
      ],
      "source": [
        "y_pred.shape"
      ]
    },
    {
      "cell_type": "code",
      "execution_count": 58,
      "metadata": {},
      "outputs": [],
      "source": [
        "import json\n",
        "def save_model_run(fit, name: str):\n",
        "\n",
        "    # Convert the history's values to lists\n",
        "    history_dict = {key: value for key, value in fit.history.items()}\n",
        "\n",
        "    # Save as JSON\n",
        "    with open(f'history_{name}.json', 'w') as f:\n",
        "        json.dump(history_dict, f)"
      ]
    },
    {
      "cell_type": "code",
      "execution_count": 59,
      "metadata": {},
      "outputs": [],
      "source": [
        "save_model_run(fit4, 'conv_transformer')"
      ]
    },
    {
      "cell_type": "code",
      "execution_count": 61,
      "metadata": {},
      "outputs": [],
      "source": [
        "with open('history_conv_transformer_goodfit.json', 'r') as f:\n",
        "    test = json.load(f)"
      ]
    },
    {
      "cell_type": "code",
      "execution_count": 62,
      "metadata": {},
      "outputs": [
        {
          "data": {
            "text/plain": [
              "{'loss': [0.9245688319206238,\n",
              "  0.616095244884491,\n",
              "  0.5632547736167908,\n",
              "  0.5294764041900635,\n",
              "  0.5023446679115295,\n",
              "  0.4918553829193115,\n",
              "  0.4984879493713379,\n",
              "  0.4800112843513489,\n",
              "  0.47057607769966125,\n",
              "  0.4606386125087738,\n",
              "  0.42826658487319946,\n",
              "  0.4029100239276886,\n",
              "  0.3403598368167877,\n",
              "  0.34101924300193787,\n",
              "  0.36220601201057434,\n",
              "  0.31177031993865967,\n",
              "  0.2635596990585327,\n",
              "  0.2682682275772095,\n",
              "  0.24989408254623413,\n",
              "  0.30376526713371277,\n",
              "  0.22269994020462036,\n",
              "  0.24579297006130219,\n",
              "  0.1600131243467331,\n",
              "  0.13007521629333496,\n",
              "  0.12421374768018723,\n",
              "  0.11763425171375275,\n",
              "  0.1134609580039978,\n",
              "  0.10386423766613007,\n",
              "  0.09829547256231308,\n",
              "  0.09715159982442856,\n",
              "  0.0796278566122055,\n",
              "  0.10591934621334076,\n",
              "  0.12156279385089874,\n",
              "  0.07267918437719345,\n",
              "  0.0553363636136055,\n",
              "  0.037745483219623566,\n",
              "  0.03833814337849617,\n",
              "  0.04909377917647362,\n",
              "  0.04523644223809242,\n",
              "  0.033265575766563416,\n",
              "  0.03407835587859154,\n",
              "  0.05133287236094475,\n",
              "  0.19203634560108185,\n",
              "  0.22787176072597504,\n",
              "  0.19864659011363983,\n",
              "  0.1599751114845276,\n",
              "  0.16378992795944214,\n",
              "  0.10292227566242218,\n",
              "  0.06193277984857559,\n",
              "  0.042423687875270844,\n",
              "  0.03232961148023605,\n",
              "  0.028683604672551155,\n",
              "  0.027356240898370743,\n",
              "  0.017096469178795815,\n",
              "  0.014338165521621704,\n",
              "  0.011889033950865269,\n",
              "  0.009807407855987549,\n",
              "  0.008436756208539009,\n",
              "  0.007166535593569279,\n",
              "  0.006150440312922001,\n",
              "  0.005251359660178423,\n",
              "  0.004382971674203873,\n",
              "  0.0037192832678556442,\n",
              "  0.003416958497837186,\n",
              "  0.002970867557451129,\n",
              "  0.002711027394980192,\n",
              "  0.0024913481902331114,\n",
              "  0.0022744149900972843,\n",
              "  0.002144833793863654,\n",
              "  0.0020130453631281853],\n",
              " 'accuracy': [0.3803713619709015,\n",
              "  0.5135278701782227,\n",
              "  0.517241358757019,\n",
              "  0.5209549069404602,\n",
              "  0.5225464105606079,\n",
              "  0.5214853882789612,\n",
              "  0.5241379141807556,\n",
              "  0.5251989364624023,\n",
              "  0.5257294178009033,\n",
              "  0.6122015714645386,\n",
              "  0.8228116631507874,\n",
              "  0.892307698726654,\n",
              "  0.9352785348892212,\n",
              "  0.9034482836723328,\n",
              "  0.9225464463233948,\n",
              "  0.9193633794784546,\n",
              "  0.9363394975662231,\n",
              "  0.9273209571838379,\n",
              "  0.9533156752586365,\n",
              "  0.911936342716217,\n",
              "  0.9336870312690735,\n",
              "  0.9649867415428162,\n",
              "  0.9740052819252014,\n",
              "  0.980371356010437,\n",
              "  0.9814323782920837,\n",
              "  0.9766578078269958,\n",
              "  0.9745358228683472,\n",
              "  0.9782493114471436,\n",
              "  0.9814323782920837,\n",
              "  0.9755968451499939,\n",
              "  0.9755968451499939,\n",
              "  0.9718832969665527,\n",
              "  0.980901837348938,\n",
              "  0.980371356010437,\n",
              "  0.9888594150543213,\n",
              "  0.9883289337158203,\n",
              "  0.9941644668579102,\n",
              "  0.9856764078140259,\n",
              "  0.9872679114341736,\n",
              "  0.9936339259147644,\n",
              "  0.9931034445762634,\n",
              "  0.9824933409690857,\n",
              "  0.9458885788917542,\n",
              "  0.9432360529899597,\n",
              "  0.9421750903129578,\n",
              "  0.9368700385093689,\n",
              "  0.961273193359375,\n",
              "  0.9724137783050537,\n",
              "  0.979840874671936,\n",
              "  0.989920437335968,\n",
              "  0.9893898963928223,\n",
              "  0.9941644668579102,\n",
              "  0.9909814596176147,\n",
              "  0.9962864518165588,\n",
              "  0.9973474740982056,\n",
              "  0.9973474740982056,\n",
              "  0.9978779554367065,\n",
              "  0.9984084963798523,\n",
              "  0.9984084963798523,\n",
              "  0.9989389777183533,\n",
              "  0.9989389777183533,\n",
              "  0.999469518661499,\n",
              "  1.0,\n",
              "  1.0,\n",
              "  1.0,\n",
              "  1.0,\n",
              "  1.0,\n",
              "  1.0,\n",
              "  1.0,\n",
              "  1.0],\n",
              " 'val_loss': [0.7287963032722473,\n",
              "  0.647826611995697,\n",
              "  0.5871443748474121,\n",
              "  0.5771327018737793,\n",
              "  0.5142028331756592,\n",
              "  0.48265236616134644,\n",
              "  0.5046988725662231,\n",
              "  0.46793749928474426,\n",
              "  0.45579516887664795,\n",
              "  0.4283577799797058,\n",
              "  0.3812545835971832,\n",
              "  0.3438681364059448,\n",
              "  0.41516441106796265,\n",
              "  0.29658666253089905,\n",
              "  0.3045085370540619,\n",
              "  0.34570974111557007,\n",
              "  0.3104168176651001,\n",
              "  0.22397387027740479,\n",
              "  0.24663998186588287,\n",
              "  0.2819100022315979,\n",
              "  0.19360285997390747,\n",
              "  0.1677636057138443,\n",
              "  0.1744265854358673,\n",
              "  0.17948207259178162,\n",
              "  0.16289964318275452,\n",
              "  0.15311621129512787,\n",
              "  0.19459716975688934,\n",
              "  0.22163257002830505,\n",
              "  0.15919797122478485,\n",
              "  0.2073032408952713,\n",
              "  0.14651598036289215,\n",
              "  0.2909938395023346,\n",
              "  0.15221664309501648,\n",
              "  0.16171136498451233,\n",
              "  0.17360647022724152,\n",
              "  0.17588073015213013,\n",
              "  0.22469183802604675,\n",
              "  0.16133061051368713,\n",
              "  0.15792569518089294,\n",
              "  0.17400681972503662,\n",
              "  0.1769132912158966,\n",
              "  0.4365581274032593,\n",
              "  0.5576884746551514,\n",
              "  0.43936216831207275,\n",
              "  0.21925248205661774,\n",
              "  0.17698970437049866,\n",
              "  0.22090080380439758,\n",
              "  0.14463026821613312,\n",
              "  0.14319221675395966,\n",
              "  0.16564027965068817,\n",
              "  0.1799488663673401,\n",
              "  0.17305907607078552,\n",
              "  0.17796795070171356,\n",
              "  0.17987164855003357,\n",
              "  0.18320509791374207,\n",
              "  0.19485284388065338,\n",
              "  0.19084276258945465,\n",
              "  0.2017597258090973,\n",
              "  0.19985723495483398,\n",
              "  0.21851927042007446,\n",
              "  0.2158554345369339,\n",
              "  0.22584529221057892,\n",
              "  0.22707810997962952,\n",
              "  0.2394581288099289,\n",
              "  0.22798730432987213,\n",
              "  0.24213184416294098,\n",
              "  0.24298404157161713,\n",
              "  0.2388845682144165,\n",
              "  0.24345675110816956,\n",
              "  0.2491680532693863],\n",
              " 'val_accuracy': [0.437894731760025,\n",
              "  0.47789472341537476,\n",
              "  0.5178947448730469,\n",
              "  0.5010526180267334,\n",
              "  0.5199999809265137,\n",
              "  0.524210512638092,\n",
              "  0.5199999809265137,\n",
              "  0.5199999809265137,\n",
              "  0.5221052765846252,\n",
              "  0.8252631425857544,\n",
              "  0.88210529088974,\n",
              "  0.8842105269432068,\n",
              "  0.7894737124443054,\n",
              "  0.9031578898429871,\n",
              "  0.8947368264198303,\n",
              "  0.8610526323318481,\n",
              "  0.890526294708252,\n",
              "  0.9284210801124573,\n",
              "  0.917894721031189,\n",
              "  0.9200000166893005,\n",
              "  0.9410526156425476,\n",
              "  0.9578947424888611,\n",
              "  0.9473684430122375,\n",
              "  0.9473684430122375,\n",
              "  0.9599999785423279,\n",
              "  0.9578947424888611,\n",
              "  0.9368420839309692,\n",
              "  0.9389473795890808,\n",
              "  0.9515789747238159,\n",
              "  0.9242105484008789,\n",
              "  0.9578947424888611,\n",
              "  0.9094736576080322,\n",
              "  0.9578947424888611,\n",
              "  0.9515789747238159,\n",
              "  0.9515789747238159,\n",
              "  0.9515789747238159,\n",
              "  0.9326315522193909,\n",
              "  0.9473684430122375,\n",
              "  0.9578947424888611,\n",
              "  0.9515789747238159,\n",
              "  0.9578947424888611,\n",
              "  0.8778947591781616,\n",
              "  0.8252631425857544,\n",
              "  0.8631578683853149,\n",
              "  0.9305263161659241,\n",
              "  0.9515789747238159,\n",
              "  0.917894721031189,\n",
              "  0.9515789747238159,\n",
              "  0.9515789747238159,\n",
              "  0.9494736790657043,\n",
              "  0.9557894468307495,\n",
              "  0.9473684430122375,\n",
              "  0.9599999785423279,\n",
              "  0.9557894468307495,\n",
              "  0.9621052742004395,\n",
              "  0.9515789747238159,\n",
              "  0.9621052742004395,\n",
              "  0.9536842107772827,\n",
              "  0.9557894468307495,\n",
              "  0.9494736790657043,\n",
              "  0.9494736790657043,\n",
              "  0.9494736790657043,\n",
              "  0.9494736790657043,\n",
              "  0.9494736790657043,\n",
              "  0.9494736790657043,\n",
              "  0.9494736790657043,\n",
              "  0.9494736790657043,\n",
              "  0.9494736790657043,\n",
              "  0.9494736790657043,\n",
              "  0.9494736790657043]}"
            ]
          },
          "execution_count": 62,
          "metadata": {},
          "output_type": "execute_result"
        }
      ],
      "source": [
        "test"
      ]
    },
    {
      "cell_type": "code",
      "execution_count": 44,
      "metadata": {},
      "outputs": [
        {
          "name": "stdout",
          "output_type": "stream",
          "text": [
            "Validation accuracy before model starts overfitting: 0.973%\n"
          ]
        }
      ],
      "source": [
        "print(f\"Validation accuracy before model starts overfitting: {round(val_acc[17], 3)}%\")"
      ]
    },
    {
      "cell_type": "code",
      "execution_count": null,
      "metadata": {},
      "outputs": [],
      "source": []
    },
    {
      "cell_type": "code",
      "execution_count": null,
      "metadata": {},
      "outputs": [],
      "source": []
    },
    {
      "cell_type": "code",
      "execution_count": null,
      "metadata": {},
      "outputs": [],
      "source": []
    },
    {
      "cell_type": "code",
      "execution_count": null,
      "metadata": {},
      "outputs": [],
      "source": []
    },
    {
      "cell_type": "code",
      "execution_count": null,
      "metadata": {},
      "outputs": [],
      "source": []
    },
    {
      "cell_type": "code",
      "execution_count": null,
      "metadata": {},
      "outputs": [],
      "source": [
        "https://stackoverflow.com/questions/60475162/why-is-my-neural-network-validation-accuracy-higher-than-my-training-accuracy-an\n",
        "\n",
        "\n",
        "CHECK"
      ]
    },
    {
      "cell_type": "code",
      "execution_count": null,
      "metadata": {},
      "outputs": [],
      "source": []
    },
    {
      "cell_type": "code",
      "execution_count": 44,
      "metadata": {},
      "outputs": [
        {
          "name": "stdout",
          "output_type": "stream",
          "text": [
            "Epoch 1/200\n",
            "12/12 [==============================] - 1s 36ms/step - loss: 1.0855 - accuracy: 0.6859 - val_loss: 0.8954 - val_accuracy: 0.9116\n",
            "Epoch 2/200\n",
            "12/12 [==============================] - 0s 23ms/step - loss: 0.8676 - accuracy: 0.8727 - val_loss: 0.4097 - val_accuracy: 0.9474\n",
            "Epoch 3/200\n",
            "12/12 [==============================] - 0s 23ms/step - loss: 0.7126 - accuracy: 0.9119 - val_loss: 0.4089 - val_accuracy: 0.9474\n",
            "Epoch 4/200\n",
            "12/12 [==============================] - 0s 23ms/step - loss: 0.6605 - accuracy: 0.9210 - val_loss: 0.3765 - val_accuracy: 0.9474\n",
            "Epoch 5/200\n",
            "12/12 [==============================] - 0s 24ms/step - loss: 0.6419 - accuracy: 0.9236 - val_loss: 0.3674 - val_accuracy: 0.9453\n",
            "Epoch 6/200\n",
            "12/12 [==============================] - 0s 23ms/step - loss: 0.6309 - accuracy: 0.9252 - val_loss: 0.3646 - val_accuracy: 0.9474\n",
            "Epoch 7/200\n",
            "12/12 [==============================] - 0s 22ms/step - loss: 0.6193 - accuracy: 0.9247 - val_loss: 0.3601 - val_accuracy: 0.9474\n",
            "Epoch 8/200\n",
            "12/12 [==============================] - 0s 22ms/step - loss: 0.6178 - accuracy: 0.9236 - val_loss: 0.3713 - val_accuracy: 0.9432\n",
            "Epoch 9/200\n",
            "12/12 [==============================] - 0s 21ms/step - loss: 0.6048 - accuracy: 0.9231 - val_loss: 0.3477 - val_accuracy: 0.9474\n",
            "Epoch 10/200\n",
            "12/12 [==============================] - 0s 22ms/step - loss: 0.6097 - accuracy: 0.9257 - val_loss: 0.3446 - val_accuracy: 0.9474\n",
            "Epoch 11/200\n",
            "12/12 [==============================] - 0s 21ms/step - loss: 0.5882 - accuracy: 0.9252 - val_loss: 0.3450 - val_accuracy: 0.9432\n",
            "Epoch 12/200\n",
            "12/12 [==============================] - 0s 22ms/step - loss: 0.5853 - accuracy: 0.9247 - val_loss: 0.3350 - val_accuracy: 0.9474\n",
            "Epoch 13/200\n",
            "12/12 [==============================] - 0s 23ms/step - loss: 0.5715 - accuracy: 0.9268 - val_loss: 0.3311 - val_accuracy: 0.9474\n",
            "Epoch 14/200\n",
            "12/12 [==============================] - 0s 24ms/step - loss: 0.5665 - accuracy: 0.9268 - val_loss: 0.3267 - val_accuracy: 0.9474\n",
            "Epoch 15/200\n",
            "12/12 [==============================] - 0s 23ms/step - loss: 0.5588 - accuracy: 0.9263 - val_loss: 0.3378 - val_accuracy: 0.9432\n",
            "Epoch 16/200\n",
            "12/12 [==============================] - 0s 25ms/step - loss: 0.5571 - accuracy: 0.9241 - val_loss: 0.3199 - val_accuracy: 0.9474\n",
            "Epoch 17/200\n",
            "12/12 [==============================] - 0s 23ms/step - loss: 0.5452 - accuracy: 0.9268 - val_loss: 0.3216 - val_accuracy: 0.9453\n",
            "Epoch 18/200\n",
            "12/12 [==============================] - 0s 23ms/step - loss: 0.5396 - accuracy: 0.9263 - val_loss: 0.3213 - val_accuracy: 0.9453\n",
            "Epoch 19/200\n",
            "12/12 [==============================] - 0s 24ms/step - loss: 0.5387 - accuracy: 0.9263 - val_loss: 0.3094 - val_accuracy: 0.9474\n",
            "Epoch 20/200\n",
            "12/12 [==============================] - 0s 24ms/step - loss: 0.5325 - accuracy: 0.9247 - val_loss: 0.3067 - val_accuracy: 0.9474\n",
            "Epoch 21/200\n",
            "12/12 [==============================] - 0s 28ms/step - loss: 0.5230 - accuracy: 0.9268 - val_loss: 0.3053 - val_accuracy: 0.9474\n",
            "Epoch 22/200\n",
            "12/12 [==============================] - 0s 37ms/step - loss: 0.5188 - accuracy: 0.9252 - val_loss: 0.3068 - val_accuracy: 0.9453\n",
            "Epoch 23/200\n",
            "12/12 [==============================] - 0s 39ms/step - loss: 0.5108 - accuracy: 0.9268 - val_loss: 0.2976 - val_accuracy: 0.9474\n",
            "Epoch 24/200\n",
            "12/12 [==============================] - 0s 38ms/step - loss: 0.5043 - accuracy: 0.9268 - val_loss: 0.2952 - val_accuracy: 0.9474\n",
            "Epoch 25/200\n",
            "12/12 [==============================] - 0s 40ms/step - loss: 0.4993 - accuracy: 0.9268 - val_loss: 0.2920 - val_accuracy: 0.9474\n",
            "Epoch 26/200\n",
            "12/12 [==============================] - 0s 37ms/step - loss: 0.4939 - accuracy: 0.9268 - val_loss: 0.2892 - val_accuracy: 0.9474\n",
            "Epoch 27/200\n",
            "12/12 [==============================] - 0s 37ms/step - loss: 0.4889 - accuracy: 0.9268 - val_loss: 0.2864 - val_accuracy: 0.9474\n",
            "Epoch 28/200\n",
            "12/12 [==============================] - 0s 35ms/step - loss: 0.4839 - accuracy: 0.9268 - val_loss: 0.2838 - val_accuracy: 0.9474\n",
            "Epoch 29/200\n",
            "12/12 [==============================] - 0s 40ms/step - loss: 0.4790 - accuracy: 0.9268 - val_loss: 0.2812 - val_accuracy: 0.9474\n",
            "Epoch 30/200\n",
            "12/12 [==============================] - 0s 41ms/step - loss: 0.4742 - accuracy: 0.9268 - val_loss: 0.2788 - val_accuracy: 0.9474\n",
            "Epoch 31/200\n",
            "12/12 [==============================] - 0s 40ms/step - loss: 0.4696 - accuracy: 0.9268 - val_loss: 0.2762 - val_accuracy: 0.9474\n",
            "Epoch 32/200\n",
            "12/12 [==============================] - 0s 43ms/step - loss: 0.4651 - accuracy: 0.9268 - val_loss: 0.2738 - val_accuracy: 0.9474\n",
            "Epoch 33/200\n",
            "12/12 [==============================] - 0s 37ms/step - loss: 0.4605 - accuracy: 0.9268 - val_loss: 0.2714 - val_accuracy: 0.9474\n",
            "Epoch 34/200\n",
            "12/12 [==============================] - 0s 37ms/step - loss: 0.4562 - accuracy: 0.9268 - val_loss: 0.2693 - val_accuracy: 0.9474\n",
            "Epoch 35/200\n",
            "12/12 [==============================] - 0s 34ms/step - loss: 0.4522 - accuracy: 0.9268 - val_loss: 0.2669 - val_accuracy: 0.9474\n",
            "Epoch 36/200\n",
            "12/12 [==============================] - 0s 36ms/step - loss: 0.4480 - accuracy: 0.9268 - val_loss: 0.2647 - val_accuracy: 0.9474\n",
            "Epoch 37/200\n",
            "12/12 [==============================] - 0s 34ms/step - loss: 0.4438 - accuracy: 0.9268 - val_loss: 0.2626 - val_accuracy: 0.9474\n",
            "Epoch 38/200\n",
            "12/12 [==============================] - 0s 32ms/step - loss: 0.4391 - accuracy: 0.9273 - val_loss: 0.2603 - val_accuracy: 0.9474\n",
            "Epoch 39/200\n",
            "12/12 [==============================] - 0s 37ms/step - loss: 0.4449 - accuracy: 0.9252 - val_loss: 0.2647 - val_accuracy: 0.9432\n",
            "Epoch 40/200\n",
            "12/12 [==============================] - 0s 37ms/step - loss: 0.4324 - accuracy: 0.9300 - val_loss: 0.2689 - val_accuracy: 0.9474\n",
            "Epoch 41/200\n",
            "12/12 [==============================] - 0s 35ms/step - loss: 0.4757 - accuracy: 0.9241 - val_loss: 0.2727 - val_accuracy: 0.9411\n",
            "Epoch 42/200\n",
            "12/12 [==============================] - 0s 34ms/step - loss: 0.4479 - accuracy: 0.9273 - val_loss: 0.2560 - val_accuracy: 0.9453\n",
            "Epoch 43/200\n",
            "12/12 [==============================] - 0s 37ms/step - loss: 0.4306 - accuracy: 0.9284 - val_loss: 0.2607 - val_accuracy: 0.9474\n",
            "Epoch 44/200\n",
            "12/12 [==============================] - 0s 38ms/step - loss: 0.4143 - accuracy: 0.9332 - val_loss: 0.2543 - val_accuracy: 0.9453\n",
            "Epoch 45/200\n",
            "12/12 [==============================] - 0s 35ms/step - loss: 0.4098 - accuracy: 0.9332 - val_loss: 0.2497 - val_accuracy: 0.9474\n",
            "Epoch 46/200\n",
            "12/12 [==============================] - 0s 32ms/step - loss: 0.4036 - accuracy: 0.9342 - val_loss: 0.2483 - val_accuracy: 0.9453\n",
            "Epoch 47/200\n",
            "12/12 [==============================] - 0s 32ms/step - loss: 0.4001 - accuracy: 0.9342 - val_loss: 0.2459 - val_accuracy: 0.9474\n",
            "Epoch 48/200\n",
            "12/12 [==============================] - 0s 34ms/step - loss: 0.3956 - accuracy: 0.9342 - val_loss: 0.2450 - val_accuracy: 0.9474\n",
            "Epoch 49/200\n",
            "12/12 [==============================] - 0s 35ms/step - loss: 0.3920 - accuracy: 0.9342 - val_loss: 0.2427 - val_accuracy: 0.9474\n",
            "Epoch 50/200\n",
            "12/12 [==============================] - 0s 34ms/step - loss: 0.3879 - accuracy: 0.9342 - val_loss: 0.2412 - val_accuracy: 0.9474\n",
            "Epoch 51/200\n",
            "12/12 [==============================] - 0s 35ms/step - loss: 0.3845 - accuracy: 0.9342 - val_loss: 0.2394 - val_accuracy: 0.9474\n",
            "Epoch 52/200\n",
            "12/12 [==============================] - 0s 35ms/step - loss: 0.3815 - accuracy: 0.9342 - val_loss: 0.2369 - val_accuracy: 0.9474\n",
            "Epoch 53/200\n",
            "12/12 [==============================] - 0s 37ms/step - loss: 0.3785 - accuracy: 0.9342 - val_loss: 0.2361 - val_accuracy: 0.9474\n",
            "Epoch 54/200\n",
            "12/12 [==============================] - 0s 36ms/step - loss: 0.3755 - accuracy: 0.9342 - val_loss: 0.2332 - val_accuracy: 0.9474\n",
            "Epoch 55/200\n",
            "12/12 [==============================] - 0s 34ms/step - loss: 0.3726 - accuracy: 0.9342 - val_loss: 0.2333 - val_accuracy: 0.9474\n",
            "Epoch 56/200\n",
            "12/12 [==============================] - 0s 33ms/step - loss: 0.3683 - accuracy: 0.9342 - val_loss: 0.2308 - val_accuracy: 0.9474\n",
            "Epoch 57/200\n",
            "12/12 [==============================] - 0s 32ms/step - loss: 0.3653 - accuracy: 0.9342 - val_loss: 0.2282 - val_accuracy: 0.9474\n",
            "Epoch 58/200\n",
            "12/12 [==============================] - 0s 38ms/step - loss: 0.3608 - accuracy: 0.9342 - val_loss: 0.2272 - val_accuracy: 0.9474\n",
            "Epoch 59/200\n",
            "12/12 [==============================] - 0s 36ms/step - loss: 0.3579 - accuracy: 0.9337 - val_loss: 0.2266 - val_accuracy: 0.9474\n",
            "Epoch 60/200\n",
            "12/12 [==============================] - 0s 39ms/step - loss: 0.3544 - accuracy: 0.9342 - val_loss: 0.2235 - val_accuracy: 0.9474\n",
            "Epoch 61/200\n",
            "12/12 [==============================] - 0s 36ms/step - loss: 0.3521 - accuracy: 0.9342 - val_loss: 0.2220 - val_accuracy: 0.9474\n",
            "Epoch 62/200\n",
            "12/12 [==============================] - 0s 37ms/step - loss: 0.3498 - accuracy: 0.9342 - val_loss: 0.2184 - val_accuracy: 0.9474\n",
            "Epoch 63/200\n",
            "12/12 [==============================] - 0s 35ms/step - loss: 0.3446 - accuracy: 0.9347 - val_loss: 0.2186 - val_accuracy: 0.9474\n",
            "Epoch 64/200\n",
            "12/12 [==============================] - 0s 35ms/step - loss: 0.3420 - accuracy: 0.9347 - val_loss: 0.2168 - val_accuracy: 0.9453\n",
            "Epoch 65/200\n",
            "12/12 [==============================] - 0s 35ms/step - loss: 0.3388 - accuracy: 0.9347 - val_loss: 0.2140 - val_accuracy: 0.9474\n",
            "Epoch 66/200\n",
            "12/12 [==============================] - 0s 33ms/step - loss: 0.3359 - accuracy: 0.9353 - val_loss: 0.2108 - val_accuracy: 0.9516\n",
            "Epoch 67/200\n",
            "12/12 [==============================] - 0s 34ms/step - loss: 0.3328 - accuracy: 0.9379 - val_loss: 0.2108 - val_accuracy: 0.9495\n",
            "Epoch 68/200\n",
            "12/12 [==============================] - 0s 37ms/step - loss: 0.3282 - accuracy: 0.9385 - val_loss: 0.2081 - val_accuracy: 0.9516\n",
            "Epoch 69/200\n",
            "12/12 [==============================] - 0s 36ms/step - loss: 0.3218 - accuracy: 0.9422 - val_loss: 0.2013 - val_accuracy: 0.9558\n",
            "Epoch 70/200\n",
            "12/12 [==============================] - 0s 36ms/step - loss: 0.3194 - accuracy: 0.9475 - val_loss: 0.2015 - val_accuracy: 0.9558\n",
            "Epoch 71/200\n",
            "12/12 [==============================] - 0s 35ms/step - loss: 0.3197 - accuracy: 0.9416 - val_loss: 0.2012 - val_accuracy: 0.9516\n",
            "Epoch 72/200\n",
            "12/12 [==============================] - 0s 35ms/step - loss: 0.3173 - accuracy: 0.9454 - val_loss: 0.1963 - val_accuracy: 0.9558\n",
            "Epoch 73/200\n",
            "12/12 [==============================] - 0s 37ms/step - loss: 0.3075 - accuracy: 0.9469 - val_loss: 0.1951 - val_accuracy: 0.9537\n",
            "Epoch 74/200\n",
            "12/12 [==============================] - 0s 35ms/step - loss: 0.2964 - accuracy: 0.9533 - val_loss: 0.1821 - val_accuracy: 0.9684\n",
            "Epoch 75/200\n",
            "12/12 [==============================] - 0s 35ms/step - loss: 0.2835 - accuracy: 0.9602 - val_loss: 0.1829 - val_accuracy: 0.9642\n",
            "Epoch 76/200\n",
            "12/12 [==============================] - 0s 35ms/step - loss: 0.2773 - accuracy: 0.9623 - val_loss: 0.1872 - val_accuracy: 0.9663\n",
            "Epoch 77/200\n",
            "12/12 [==============================] - 0s 34ms/step - loss: 0.2729 - accuracy: 0.9629 - val_loss: 0.1761 - val_accuracy: 0.9705\n",
            "Epoch 78/200\n",
            "12/12 [==============================] - 0s 37ms/step - loss: 0.2734 - accuracy: 0.9613 - val_loss: 0.1774 - val_accuracy: 0.9705\n",
            "Epoch 79/200\n",
            "12/12 [==============================] - 0s 36ms/step - loss: 0.2761 - accuracy: 0.9570 - val_loss: 0.1726 - val_accuracy: 0.9684\n",
            "Epoch 80/200\n",
            "12/12 [==============================] - 0s 35ms/step - loss: 0.2707 - accuracy: 0.9613 - val_loss: 0.1770 - val_accuracy: 0.9684\n",
            "Epoch 81/200\n",
            "12/12 [==============================] - 0s 35ms/step - loss: 0.2736 - accuracy: 0.9565 - val_loss: 0.1740 - val_accuracy: 0.9642\n",
            "Epoch 82/200\n",
            "12/12 [==============================] - 0s 35ms/step - loss: 0.2710 - accuracy: 0.9560 - val_loss: 0.1677 - val_accuracy: 0.9684\n",
            "Epoch 83/200\n",
            "12/12 [==============================] - 0s 34ms/step - loss: 0.2621 - accuracy: 0.9597 - val_loss: 0.1704 - val_accuracy: 0.9705\n",
            "Epoch 84/200\n",
            "12/12 [==============================] - 0s 34ms/step - loss: 0.2579 - accuracy: 0.9623 - val_loss: 0.1693 - val_accuracy: 0.9663\n",
            "Epoch 85/200\n",
            "12/12 [==============================] - 0s 33ms/step - loss: 0.2681 - accuracy: 0.9544 - val_loss: 0.1697 - val_accuracy: 0.9684\n",
            "Epoch 86/200\n",
            "12/12 [==============================] - 0s 34ms/step - loss: 0.2551 - accuracy: 0.9602 - val_loss: 0.1832 - val_accuracy: 0.9663\n",
            "Epoch 87/200\n",
            "12/12 [==============================] - 0s 35ms/step - loss: 0.2504 - accuracy: 0.9623 - val_loss: 0.1804 - val_accuracy: 0.9663\n",
            "Epoch 88/200\n",
            "12/12 [==============================] - 0s 36ms/step - loss: 0.2529 - accuracy: 0.9602 - val_loss: 0.1813 - val_accuracy: 0.9621\n",
            "Epoch 89/200\n",
            "12/12 [==============================] - 0s 34ms/step - loss: 0.2381 - accuracy: 0.9666 - val_loss: 0.1861 - val_accuracy: 0.9642\n",
            "Epoch 90/200\n",
            "12/12 [==============================] - 0s 37ms/step - loss: 0.2341 - accuracy: 0.9671 - val_loss: 0.1877 - val_accuracy: 0.9642\n",
            "Epoch 91/200\n",
            "12/12 [==============================] - 0s 37ms/step - loss: 0.2290 - accuracy: 0.9698 - val_loss: 0.1780 - val_accuracy: 0.9663\n",
            "Epoch 92/200\n",
            "12/12 [==============================] - 0s 36ms/step - loss: 0.2281 - accuracy: 0.9687 - val_loss: 0.1761 - val_accuracy: 0.9684\n",
            "Epoch 93/200\n",
            "12/12 [==============================] - 0s 34ms/step - loss: 0.2249 - accuracy: 0.9703 - val_loss: 0.1988 - val_accuracy: 0.9600\n",
            "Epoch 94/200\n",
            "12/12 [==============================] - 0s 34ms/step - loss: 0.2232 - accuracy: 0.9708 - val_loss: 0.1729 - val_accuracy: 0.9663\n",
            "Epoch 95/200\n",
            "12/12 [==============================] - 0s 35ms/step - loss: 0.2209 - accuracy: 0.9708 - val_loss: 0.1812 - val_accuracy: 0.9684\n",
            "Epoch 96/200\n",
            "12/12 [==============================] - 0s 36ms/step - loss: 0.2173 - accuracy: 0.9708 - val_loss: 0.2264 - val_accuracy: 0.9537\n",
            "Epoch 97/200\n",
            "12/12 [==============================] - 0s 35ms/step - loss: 0.2435 - accuracy: 0.9607 - val_loss: 0.1714 - val_accuracy: 0.9642\n",
            "Epoch 98/200\n",
            "12/12 [==============================] - 0s 36ms/step - loss: 0.2341 - accuracy: 0.9639 - val_loss: 0.1716 - val_accuracy: 0.9684\n",
            "Epoch 99/200\n",
            "12/12 [==============================] - 0s 37ms/step - loss: 0.2284 - accuracy: 0.9655 - val_loss: 0.1674 - val_accuracy: 0.9663\n",
            "Epoch 100/200\n",
            "12/12 [==============================] - 0s 36ms/step - loss: 0.2209 - accuracy: 0.9682 - val_loss: 0.1638 - val_accuracy: 0.9663\n",
            "Epoch 101/200\n",
            "12/12 [==============================] - 0s 34ms/step - loss: 0.2104 - accuracy: 0.9719 - val_loss: 0.1846 - val_accuracy: 0.9621\n",
            "Epoch 102/200\n",
            "12/12 [==============================] - 0s 36ms/step - loss: 0.2069 - accuracy: 0.9708 - val_loss: 0.1721 - val_accuracy: 0.9663\n",
            "Epoch 103/200\n",
            "12/12 [==============================] - 0s 34ms/step - loss: 0.2081 - accuracy: 0.9724 - val_loss: 0.1624 - val_accuracy: 0.9663\n",
            "Epoch 104/200\n",
            "12/12 [==============================] - 0s 34ms/step - loss: 0.1969 - accuracy: 0.9745 - val_loss: 0.1607 - val_accuracy: 0.9663\n",
            "Epoch 105/200\n",
            "12/12 [==============================] - 0s 34ms/step - loss: 0.1875 - accuracy: 0.9782 - val_loss: 0.1816 - val_accuracy: 0.9579\n",
            "Epoch 106/200\n",
            "12/12 [==============================] - 0s 37ms/step - loss: 0.1835 - accuracy: 0.9788 - val_loss: 0.1846 - val_accuracy: 0.9537\n",
            "Epoch 107/200\n",
            "12/12 [==============================] - 0s 36ms/step - loss: 0.1768 - accuracy: 0.9820 - val_loss: 0.1788 - val_accuracy: 0.9621\n",
            "Epoch 108/200\n",
            "12/12 [==============================] - 0s 37ms/step - loss: 0.1702 - accuracy: 0.9846 - val_loss: 0.1975 - val_accuracy: 0.9558\n",
            "Epoch 109/200\n",
            "12/12 [==============================] - 0s 35ms/step - loss: 0.1690 - accuracy: 0.9836 - val_loss: 0.1951 - val_accuracy: 0.9558\n",
            "Epoch 110/200\n",
            "12/12 [==============================] - 0s 36ms/step - loss: 0.1701 - accuracy: 0.9830 - val_loss: 0.1762 - val_accuracy: 0.9642\n",
            "Epoch 111/200\n",
            "12/12 [==============================] - 0s 36ms/step - loss: 0.1626 - accuracy: 0.9873 - val_loss: 0.2140 - val_accuracy: 0.9558\n",
            "Epoch 112/200\n",
            "12/12 [==============================] - 0s 37ms/step - loss: 0.1696 - accuracy: 0.9830 - val_loss: 0.2429 - val_accuracy: 0.9516\n",
            "Epoch 113/200\n",
            "12/12 [==============================] - 0s 35ms/step - loss: 0.1598 - accuracy: 0.9867 - val_loss: 0.2169 - val_accuracy: 0.9558\n",
            "Epoch 114/200\n",
            "12/12 [==============================] - 0s 35ms/step - loss: 0.1571 - accuracy: 0.9862 - val_loss: 0.2090 - val_accuracy: 0.9558\n",
            "Epoch 115/200\n",
            "12/12 [==============================] - 0s 34ms/step - loss: 0.1537 - accuracy: 0.9873 - val_loss: 0.1911 - val_accuracy: 0.9621\n",
            "Epoch 116/200\n",
            "12/12 [==============================] - 0s 38ms/step - loss: 0.1494 - accuracy: 0.9889 - val_loss: 0.1964 - val_accuracy: 0.9558\n",
            "Epoch 117/200\n",
            "12/12 [==============================] - 0s 39ms/step - loss: 0.1435 - accuracy: 0.9915 - val_loss: 0.2214 - val_accuracy: 0.9579\n",
            "Epoch 118/200\n",
            "12/12 [==============================] - 0s 38ms/step - loss: 0.1403 - accuracy: 0.9920 - val_loss: 0.2870 - val_accuracy: 0.9558\n",
            "Epoch 119/200\n",
            "12/12 [==============================] - 0s 36ms/step - loss: 0.1370 - accuracy: 0.9920 - val_loss: 0.2177 - val_accuracy: 0.9558\n",
            "Epoch 120/200\n",
            "12/12 [==============================] - 0s 37ms/step - loss: 0.1359 - accuracy: 0.9920 - val_loss: 0.2056 - val_accuracy: 0.9579\n",
            "Epoch 121/200\n",
            "12/12 [==============================] - 0s 36ms/step - loss: 0.1375 - accuracy: 0.9910 - val_loss: 0.2265 - val_accuracy: 0.9537\n",
            "Epoch 122/200\n",
            "12/12 [==============================] - 0s 35ms/step - loss: 0.1310 - accuracy: 0.9936 - val_loss: 0.2131 - val_accuracy: 0.9558\n",
            "Epoch 123/200\n",
            "12/12 [==============================] - 0s 34ms/step - loss: 0.1280 - accuracy: 0.9936 - val_loss: 0.2288 - val_accuracy: 0.9579\n",
            "Epoch 124/200\n",
            "12/12 [==============================] - 0s 33ms/step - loss: 0.1262 - accuracy: 0.9936 - val_loss: 0.2578 - val_accuracy: 0.9579\n",
            "Epoch 125/200\n",
            "12/12 [==============================] - 0s 34ms/step - loss: 0.1248 - accuracy: 0.9942 - val_loss: 0.2535 - val_accuracy: 0.9579\n",
            "Epoch 126/200\n",
            "12/12 [==============================] - 0s 36ms/step - loss: 0.1229 - accuracy: 0.9942 - val_loss: 0.3296 - val_accuracy: 0.9558\n",
            "Epoch 127/200\n",
            "12/12 [==============================] - 0s 36ms/step - loss: 0.1250 - accuracy: 0.9931 - val_loss: 0.2601 - val_accuracy: 0.9537\n",
            "Epoch 128/200\n",
            "12/12 [==============================] - 0s 36ms/step - loss: 0.1237 - accuracy: 0.9926 - val_loss: 0.2209 - val_accuracy: 0.9558\n",
            "Epoch 129/200\n",
            "12/12 [==============================] - 0s 35ms/step - loss: 0.1198 - accuracy: 0.9942 - val_loss: 0.1600 - val_accuracy: 0.9663\n",
            "Epoch 130/200\n",
            "12/12 [==============================] - 0s 37ms/step - loss: 0.1246 - accuracy: 0.9910 - val_loss: 0.1801 - val_accuracy: 0.9621\n",
            "Epoch 131/200\n",
            "12/12 [==============================] - 0s 36ms/step - loss: 0.1445 - accuracy: 0.9820 - val_loss: 0.3691 - val_accuracy: 0.9411\n",
            "Epoch 132/200\n",
            "12/12 [==============================] - 0s 36ms/step - loss: 0.1383 - accuracy: 0.9825 - val_loss: 0.1831 - val_accuracy: 0.9663\n",
            "Epoch 133/200\n",
            "12/12 [==============================] - 0s 35ms/step - loss: 0.1281 - accuracy: 0.9873 - val_loss: 0.1545 - val_accuracy: 0.9684\n",
            "Epoch 134/200\n",
            "12/12 [==============================] - 0s 33ms/step - loss: 0.1194 - accuracy: 0.9931 - val_loss: 0.2116 - val_accuracy: 0.9537\n",
            "Epoch 135/200\n",
            "12/12 [==============================] - 0s 34ms/step - loss: 0.1201 - accuracy: 0.9926 - val_loss: 0.2131 - val_accuracy: 0.9537\n",
            "Epoch 136/200\n",
            "12/12 [==============================] - 0s 33ms/step - loss: 0.1188 - accuracy: 0.9920 - val_loss: 0.1831 - val_accuracy: 0.9579\n",
            "Epoch 137/200\n",
            "12/12 [==============================] - 0s 35ms/step - loss: 0.1223 - accuracy: 0.9910 - val_loss: 0.2164 - val_accuracy: 0.9600\n",
            "Epoch 138/200\n",
            "12/12 [==============================] - 0s 35ms/step - loss: 0.1252 - accuracy: 0.9857 - val_loss: 0.2540 - val_accuracy: 0.9516\n",
            "Epoch 139/200\n",
            "12/12 [==============================] - 0s 35ms/step - loss: 0.1462 - accuracy: 0.9867 - val_loss: 0.2240 - val_accuracy: 0.9558\n",
            "Epoch 140/200\n",
            "12/12 [==============================] - 0s 38ms/step - loss: 0.1182 - accuracy: 0.9905 - val_loss: 0.2260 - val_accuracy: 0.9495\n",
            "Epoch 141/200\n",
            "12/12 [==============================] - 0s 36ms/step - loss: 0.1123 - accuracy: 0.9899 - val_loss: 0.2558 - val_accuracy: 0.9579\n",
            "Epoch 142/200\n",
            "12/12 [==============================] - 0s 35ms/step - loss: 0.1079 - accuracy: 0.9926 - val_loss: 0.3068 - val_accuracy: 0.9579\n",
            "Epoch 143/200\n",
            "12/12 [==============================] - 0s 38ms/step - loss: 0.1041 - accuracy: 0.9942 - val_loss: 0.2363 - val_accuracy: 0.9516\n",
            "Epoch 144/200\n",
            "12/12 [==============================] - 0s 36ms/step - loss: 0.1038 - accuracy: 0.9936 - val_loss: 0.2778 - val_accuracy: 0.9537\n",
            "Epoch 145/200\n",
            "12/12 [==============================] - 0s 35ms/step - loss: 0.1007 - accuracy: 0.9947 - val_loss: 0.2604 - val_accuracy: 0.9579\n",
            "Epoch 146/200\n",
            "12/12 [==============================] - 0s 37ms/step - loss: 0.0994 - accuracy: 0.9947 - val_loss: 0.2536 - val_accuracy: 0.9600\n",
            "Epoch 147/200\n",
            "12/12 [==============================] - 0s 36ms/step - loss: 0.0984 - accuracy: 0.9947 - val_loss: 0.2663 - val_accuracy: 0.9600\n",
            "Epoch 148/200\n",
            "12/12 [==============================] - 0s 33ms/step - loss: 0.0975 - accuracy: 0.9947 - val_loss: 0.2485 - val_accuracy: 0.9621\n",
            "Epoch 149/200\n",
            "12/12 [==============================] - 0s 33ms/step - loss: 0.0965 - accuracy: 0.9947 - val_loss: 0.2796 - val_accuracy: 0.9579\n",
            "Epoch 150/200\n",
            "12/12 [==============================] - 0s 34ms/step - loss: 0.0958 - accuracy: 0.9947 - val_loss: 0.2491 - val_accuracy: 0.9621\n",
            "Epoch 151/200\n",
            "12/12 [==============================] - 0s 34ms/step - loss: 0.0948 - accuracy: 0.9947 - val_loss: 0.2907 - val_accuracy: 0.9579\n",
            "Epoch 152/200\n",
            "12/12 [==============================] - 0s 34ms/step - loss: 0.0954 - accuracy: 0.9942 - val_loss: 0.2635 - val_accuracy: 0.9600\n",
            "Epoch 153/200\n",
            "12/12 [==============================] - 0s 36ms/step - loss: 0.0936 - accuracy: 0.9947 - val_loss: 0.2507 - val_accuracy: 0.9600\n",
            "Epoch 154/200\n",
            "12/12 [==============================] - 0s 36ms/step - loss: 0.0924 - accuracy: 0.9947 - val_loss: 0.2516 - val_accuracy: 0.9579\n",
            "Epoch 155/200\n",
            "12/12 [==============================] - 0s 37ms/step - loss: 0.0915 - accuracy: 0.9947 - val_loss: 0.2599 - val_accuracy: 0.9579\n",
            "Epoch 156/200\n",
            "12/12 [==============================] - 0s 38ms/step - loss: 0.0908 - accuracy: 0.9947 - val_loss: 0.2556 - val_accuracy: 0.9579\n",
            "Epoch 157/200\n",
            "12/12 [==============================] - 0s 37ms/step - loss: 0.0900 - accuracy: 0.9947 - val_loss: 0.2671 - val_accuracy: 0.9600\n",
            "Epoch 158/200\n",
            "12/12 [==============================] - 0s 38ms/step - loss: 0.0892 - accuracy: 0.9947 - val_loss: 0.2780 - val_accuracy: 0.9642\n",
            "Epoch 159/200\n",
            "12/12 [==============================] - 0s 34ms/step - loss: 0.0884 - accuracy: 0.9947 - val_loss: 0.2744 - val_accuracy: 0.9600\n",
            "Epoch 160/200\n",
            "12/12 [==============================] - 0s 33ms/step - loss: 0.0877 - accuracy: 0.9947 - val_loss: 0.2722 - val_accuracy: 0.9600\n",
            "Epoch 161/200\n",
            "12/12 [==============================] - 0s 33ms/step - loss: 0.0870 - accuracy: 0.9947 - val_loss: 0.2716 - val_accuracy: 0.9600\n",
            "Epoch 162/200\n",
            "12/12 [==============================] - 0s 34ms/step - loss: 0.0863 - accuracy: 0.9947 - val_loss: 0.2770 - val_accuracy: 0.9600\n",
            "Epoch 163/200\n",
            "12/12 [==============================] - 0s 33ms/step - loss: 0.0856 - accuracy: 0.9947 - val_loss: 0.2527 - val_accuracy: 0.9621\n",
            "Epoch 164/200\n",
            "12/12 [==============================] - 0s 34ms/step - loss: 0.0850 - accuracy: 0.9947 - val_loss: 0.2512 - val_accuracy: 0.9621\n",
            "Epoch 165/200\n",
            "12/12 [==============================] - 0s 36ms/step - loss: 0.0843 - accuracy: 0.9947 - val_loss: 0.2582 - val_accuracy: 0.9600\n",
            "Epoch 166/200\n",
            "12/12 [==============================] - 0s 35ms/step - loss: 0.0836 - accuracy: 0.9947 - val_loss: 0.2690 - val_accuracy: 0.9600\n",
            "Epoch 167/200\n",
            "12/12 [==============================] - 0s 35ms/step - loss: 0.0829 - accuracy: 0.9947 - val_loss: 0.2679 - val_accuracy: 0.9600\n",
            "Epoch 168/200\n",
            "12/12 [==============================] - 0s 34ms/step - loss: 0.0822 - accuracy: 0.9947 - val_loss: 0.2653 - val_accuracy: 0.9600\n",
            "Epoch 169/200\n",
            "12/12 [==============================] - 0s 33ms/step - loss: 0.0816 - accuracy: 0.9947 - val_loss: 0.2691 - val_accuracy: 0.9600\n",
            "Epoch 170/200\n",
            "12/12 [==============================] - 0s 32ms/step - loss: 0.0810 - accuracy: 0.9947 - val_loss: 0.2742 - val_accuracy: 0.9600\n",
            "Epoch 171/200\n",
            "12/12 [==============================] - 0s 32ms/step - loss: 0.0804 - accuracy: 0.9947 - val_loss: 0.2797 - val_accuracy: 0.9621\n",
            "Epoch 172/200\n",
            "12/12 [==============================] - 0s 33ms/step - loss: 0.0798 - accuracy: 0.9947 - val_loss: 0.2799 - val_accuracy: 0.9621\n",
            "Epoch 173/200\n",
            "12/12 [==============================] - 0s 34ms/step - loss: 0.0792 - accuracy: 0.9947 - val_loss: 0.2860 - val_accuracy: 0.9621\n",
            "Epoch 174/200\n",
            "12/12 [==============================] - 0s 35ms/step - loss: 0.0786 - accuracy: 0.9947 - val_loss: 0.2646 - val_accuracy: 0.9600\n",
            "Epoch 175/200\n",
            "12/12 [==============================] - 0s 35ms/step - loss: 0.0781 - accuracy: 0.9947 - val_loss: 0.2476 - val_accuracy: 0.9600\n",
            "Epoch 176/200\n",
            "12/12 [==============================] - 0s 34ms/step - loss: 0.0775 - accuracy: 0.9947 - val_loss: 0.2552 - val_accuracy: 0.9621\n",
            "Epoch 177/200\n",
            "12/12 [==============================] - 0s 34ms/step - loss: 0.0769 - accuracy: 0.9947 - val_loss: 0.2691 - val_accuracy: 0.9600\n",
            "Epoch 178/200\n",
            "12/12 [==============================] - 0s 35ms/step - loss: 0.0763 - accuracy: 0.9947 - val_loss: 0.2800 - val_accuracy: 0.9600\n",
            "Epoch 179/200\n",
            "12/12 [==============================] - 0s 37ms/step - loss: 0.0758 - accuracy: 0.9947 - val_loss: 0.2868 - val_accuracy: 0.9621\n",
            "Epoch 180/200\n",
            "12/12 [==============================] - 0s 34ms/step - loss: 0.0752 - accuracy: 0.9947 - val_loss: 0.2913 - val_accuracy: 0.9642\n",
            "Epoch 181/200\n",
            "12/12 [==============================] - 0s 33ms/step - loss: 0.0747 - accuracy: 0.9947 - val_loss: 0.2889 - val_accuracy: 0.9621\n",
            "Epoch 182/200\n",
            "12/12 [==============================] - 0s 37ms/step - loss: 0.0742 - accuracy: 0.9947 - val_loss: 0.2887 - val_accuracy: 0.9600\n",
            "Epoch 183/200\n",
            "12/12 [==============================] - 0s 37ms/step - loss: 0.0736 - accuracy: 0.9947 - val_loss: 0.2962 - val_accuracy: 0.9642\n",
            "Epoch 184/200\n",
            "12/12 [==============================] - 0s 41ms/step - loss: 0.0731 - accuracy: 0.9947 - val_loss: 0.2955 - val_accuracy: 0.9642\n",
            "Epoch 185/200\n",
            "12/12 [==============================] - 0s 38ms/step - loss: 0.0726 - accuracy: 0.9947 - val_loss: 0.2952 - val_accuracy: 0.9642\n",
            "Epoch 186/200\n",
            "12/12 [==============================] - 0s 38ms/step - loss: 0.0721 - accuracy: 0.9947 - val_loss: 0.2889 - val_accuracy: 0.9600\n",
            "Epoch 187/200\n",
            "12/12 [==============================] - 0s 36ms/step - loss: 0.0717 - accuracy: 0.9947 - val_loss: 0.2934 - val_accuracy: 0.9642\n",
            "Epoch 188/200\n",
            "12/12 [==============================] - 0s 36ms/step - loss: 0.0712 - accuracy: 0.9947 - val_loss: 0.2943 - val_accuracy: 0.9600\n",
            "Epoch 189/200\n",
            "12/12 [==============================] - 0s 36ms/step - loss: 0.0712 - accuracy: 0.9947 - val_loss: 0.2508 - val_accuracy: 0.9600\n",
            "Epoch 190/200\n",
            "12/12 [==============================] - 0s 36ms/step - loss: 0.0707 - accuracy: 0.9947 - val_loss: 0.2397 - val_accuracy: 0.9621\n",
            "Epoch 191/200\n",
            "12/12 [==============================] - 0s 35ms/step - loss: 0.0702 - accuracy: 0.9947 - val_loss: 0.2609 - val_accuracy: 0.9621\n",
            "Epoch 192/200\n",
            "12/12 [==============================] - 0s 37ms/step - loss: 0.0697 - accuracy: 0.9947 - val_loss: 0.2817 - val_accuracy: 0.9579\n",
            "Epoch 193/200\n",
            "12/12 [==============================] - 0s 35ms/step - loss: 0.0693 - accuracy: 0.9947 - val_loss: 0.2664 - val_accuracy: 0.9621\n",
            "Epoch 194/200\n",
            "12/12 [==============================] - 0s 34ms/step - loss: 0.0689 - accuracy: 0.9947 - val_loss: 0.2551 - val_accuracy: 0.9621\n",
            "Epoch 195/200\n",
            "12/12 [==============================] - 0s 34ms/step - loss: 0.0684 - accuracy: 0.9947 - val_loss: 0.2653 - val_accuracy: 0.9621\n",
            "Epoch 196/200\n",
            "12/12 [==============================] - 0s 35ms/step - loss: 0.0680 - accuracy: 0.9947 - val_loss: 0.2781 - val_accuracy: 0.9600\n",
            "Epoch 197/200\n",
            "12/12 [==============================] - 0s 38ms/step - loss: 0.0676 - accuracy: 0.9947 - val_loss: 0.2889 - val_accuracy: 0.9579\n",
            "Epoch 198/200\n",
            "12/12 [==============================] - 0s 35ms/step - loss: 0.0671 - accuracy: 0.9947 - val_loss: 0.2820 - val_accuracy: 0.9600\n",
            "Epoch 199/200\n",
            "12/12 [==============================] - 0s 35ms/step - loss: 0.0667 - accuracy: 0.9947 - val_loss: 0.2781 - val_accuracy: 0.9600\n",
            "Epoch 200/200\n",
            "12/12 [==============================] - 0s 36ms/step - loss: 0.0663 - accuracy: 0.9947 - val_loss: 0.2825 - val_accuracy: 0.9600\n"
          ]
        }
      ],
      "source": [
        "def define_convTransformer(segment_size=256, sequence_length=5, nfeatures=8, nclasses=3):\n",
        "\n",
        "    #input_shape = (5120, 8)\n",
        "    input_shape = (segment_size * sequence_length, nfeatures)\n",
        "\n",
        "    # Input layer\n",
        "    inputs = tf.keras.Input(shape=input_shape)\n",
        "\n",
        "    # CNN layers\n",
        "    x = layers.Conv1D(filters=64, kernel_size=3, padding='same', activation='relu')(inputs)\n",
        "    x = layers.MaxPooling1D(2)(x)\n",
        "\n",
        "    for _ in range(7):\n",
        "        x = layers.Conv1D(filters=64, kernel_size=3, padding='same', activation='relu')(x)\n",
        "        x = layers.MaxPooling1D(2)(x)\n",
        "\n",
        "    # Transformer layers\n",
        "    # query_value_attention_seq = layers.MultiHeadAttention(num_heads=2, key_dim=2)(x, x)\n",
        "\n",
        "    # # Adding the self attention to the original sequence\n",
        "    # x = layers.Add()([x, query_value_attention_seq])\n",
        "\n",
        "    # # Layer Normalization\n",
        "    # x = layers.LayerNormalization(epsilon=1e-6)(x)\n",
        "\n",
        "    # # Position-wise Feed-Forward Part\n",
        "    # x = layers.Conv1D(filters=128, kernel_size=1, activation='relu')(x)\n",
        "    # x = layers.Conv1D(filters=64, kernel_size=1, activation='relu')(x)\n",
        "\n",
        "    # # Adding the position-wise feedforward to the sequence\n",
        "    # x = layers.Add()([x, query_value_attention_seq])\n",
        "\n",
        "    # Layer Normalization\n",
        "    # x = layers.LayerNormalization(epsilon=1e-6)(x)\n",
        "\n",
        "    # Removed Global Average Pooling to keep the time dimension\n",
        "\n",
        "    # Dense layers for final classification - now it gives a prediction for each time step\n",
        "    x = layers.TimeDistributed(layers.Dense(sequence_length, activation='relu'))(x)\n",
        "    outputs = layers.TimeDistributed(layers.Dense(nclasses, activation='softmax'))(x)\n",
        "\n",
        "    # Creating the model\n",
        "    model = Model(inputs=inputs, outputs=outputs)\n",
        "\n",
        "    return model\n",
        "\n",
        "\n",
        "\n",
        "model4 = define_convTransformer()\n",
        "\n",
        "\n",
        "\n",
        "model4.compile(\n",
        "    optimizer=tf.keras.optimizers.Adam(learning_rate=0.001),\n",
        "    loss='categorical_crossentropy',\n",
        "    metrics=['accuracy']\n",
        ")\n",
        "\n",
        "\n",
        "\n",
        "fit4 = model4.fit(\n",
        "    x=x_train_convT,\n",
        "    y=y_train_convT,\n",
        "    batch_size=32,\n",
        "    epochs=200,\n",
        "    validation_split=0.2, \n",
        "    shuffle=True\n",
        ")"
      ]
    },
    {
      "cell_type": "code",
      "execution_count": 45,
      "metadata": {},
      "outputs": [
        {
          "data": {
            "application/vnd.plotly.v1+json": {
              "config": {
                "plotlyServerURL": "https://plot.ly"
              },
              "data": [
                {
                  "hovertemplate": "Epoch: %{x}<br>Value: %{y:.4f}<extra></extra>",
                  "marker": {
                    "color": "red"
                  },
                  "mode": "lines+markers",
                  "name": "Training Loss",
                  "type": "scatter",
                  "x": [
                    1,
                    2,
                    3,
                    4,
                    5,
                    6,
                    7,
                    8,
                    9,
                    10,
                    11,
                    12,
                    13,
                    14,
                    15,
                    16,
                    17,
                    18,
                    19,
                    20,
                    21,
                    22,
                    23,
                    24,
                    25,
                    26,
                    27,
                    28,
                    29,
                    30,
                    31,
                    32,
                    33,
                    34,
                    35,
                    36,
                    37,
                    38,
                    39,
                    40,
                    41,
                    42,
                    43,
                    44,
                    45,
                    46,
                    47,
                    48,
                    49,
                    50,
                    51,
                    52,
                    53,
                    54,
                    55,
                    56,
                    57,
                    58,
                    59,
                    60,
                    61,
                    62,
                    63,
                    64,
                    65,
                    66,
                    67,
                    68,
                    69,
                    70,
                    71,
                    72,
                    73,
                    74,
                    75,
                    76,
                    77,
                    78,
                    79,
                    80,
                    81,
                    82,
                    83,
                    84,
                    85,
                    86,
                    87,
                    88,
                    89,
                    90,
                    91,
                    92,
                    93,
                    94,
                    95,
                    96,
                    97,
                    98,
                    99,
                    100,
                    101,
                    102,
                    103,
                    104,
                    105,
                    106,
                    107,
                    108,
                    109,
                    110,
                    111,
                    112,
                    113,
                    114,
                    115,
                    116,
                    117,
                    118,
                    119,
                    120,
                    121,
                    122,
                    123,
                    124,
                    125,
                    126,
                    127,
                    128,
                    129,
                    130,
                    131,
                    132,
                    133,
                    134,
                    135,
                    136,
                    137,
                    138,
                    139,
                    140,
                    141,
                    142,
                    143,
                    144,
                    145,
                    146,
                    147,
                    148,
                    149,
                    150,
                    151,
                    152,
                    153,
                    154,
                    155,
                    156,
                    157,
                    158,
                    159,
                    160,
                    161,
                    162,
                    163,
                    164,
                    165,
                    166,
                    167,
                    168,
                    169,
                    170,
                    171,
                    172,
                    173,
                    174,
                    175,
                    176,
                    177,
                    178,
                    179,
                    180,
                    181,
                    182,
                    183,
                    184,
                    185,
                    186,
                    187,
                    188,
                    189,
                    190,
                    191,
                    192,
                    193,
                    194,
                    195,
                    196,
                    197,
                    198,
                    199,
                    200
                  ],
                  "xaxis": "x",
                  "y": [
                    1.0855498313903809,
                    0.8676358461380005,
                    0.7125662565231323,
                    0.6605371832847595,
                    0.6419265866279602,
                    0.6308526396751404,
                    0.6192542314529419,
                    0.6177704334259033,
                    0.6047504544258118,
                    0.6096699833869934,
                    0.5882377028465271,
                    0.5852839946746826,
                    0.5715450048446655,
                    0.5664934515953064,
                    0.5588136911392212,
                    0.5570887327194214,
                    0.5451521277427673,
                    0.5396196842193604,
                    0.5387396812438965,
                    0.5324771404266357,
                    0.5230240821838379,
                    0.5187749266624451,
                    0.5108185410499573,
                    0.5043289661407471,
                    0.49927040934562683,
                    0.49388742446899414,
                    0.48894554376602173,
                    0.48387017846107483,
                    0.47900670766830444,
                    0.4742446541786194,
                    0.46957898139953613,
                    0.46506553888320923,
                    0.4605095386505127,
                    0.4562157392501831,
                    0.4521808624267578,
                    0.44799894094467163,
                    0.4437626302242279,
                    0.4390508532524109,
                    0.4448826313018799,
                    0.43238523602485657,
                    0.4756719172000885,
                    0.4478522539138794,
                    0.43063119053840637,
                    0.41434335708618164,
                    0.4098229706287384,
                    0.4036470949649811,
                    0.40005218982696533,
                    0.3955885171890259,
                    0.3919767439365387,
                    0.3879227042198181,
                    0.38452568650245667,
                    0.38146689534187317,
                    0.37848591804504395,
                    0.37554776668548584,
                    0.3725588917732239,
                    0.36834511160850525,
                    0.36530938744544983,
                    0.3607853651046753,
                    0.35785919427871704,
                    0.3544391691684723,
                    0.3521413207054138,
                    0.34976208209991455,
                    0.3445712924003601,
                    0.342020183801651,
                    0.33880504965782166,
                    0.33592280745506287,
                    0.3328484296798706,
                    0.32821840047836304,
                    0.3218490481376648,
                    0.31944072246551514,
                    0.31968507170677185,
                    0.3172530233860016,
                    0.3075435757637024,
                    0.2963709533214569,
                    0.2834729552268982,
                    0.27731478214263916,
                    0.2728913128376007,
                    0.2733573913574219,
                    0.27611568570137024,
                    0.2706541121006012,
                    0.27364665269851685,
                    0.2710433602333069,
                    0.26212024688720703,
                    0.25786226987838745,
                    0.2681325376033783,
                    0.2550559341907501,
                    0.2503759562969208,
                    0.25293973088264465,
                    0.23814469575881958,
                    0.23405151069164276,
                    0.2290206402540207,
                    0.2280668467283249,
                    0.2249094843864441,
                    0.2231590747833252,
                    0.2209441214799881,
                    0.2172679901123047,
                    0.2434736043214798,
                    0.23412227630615234,
                    0.2284238487482071,
                    0.220854714512825,
                    0.2104095071554184,
                    0.206892728805542,
                    0.20807592570781708,
                    0.19686919450759888,
                    0.18745853006839752,
                    0.18349632620811462,
                    0.17676793038845062,
                    0.17021222412586212,
                    0.16897712647914886,
                    0.17011718451976776,
                    0.16260166466236115,
                    0.16963768005371094,
                    0.15982118248939514,
                    0.15713493525981903,
                    0.15372790396213531,
                    0.14944197237491608,
                    0.14353343844413757,
                    0.1402614563703537,
                    0.13703055679798126,
                    0.13589230179786682,
                    0.13745737075805664,
                    0.13099552690982819,
                    0.12797550857067108,
                    0.12620559334754944,
                    0.12482960522174835,
                    0.1228535920381546,
                    0.12502914667129517,
                    0.12365736067295074,
                    0.11982588469982147,
                    0.12463133037090302,
                    0.14452162384986877,
                    0.13825029134750366,
                    0.1281270682811737,
                    0.11936984956264496,
                    0.12007448822259903,
                    0.11884089559316635,
                    0.1223137229681015,
                    0.125216543674469,
                    0.14623169600963593,
                    0.11820963770151138,
                    0.11233460158109665,
                    0.10792382806539536,
                    0.10410447418689728,
                    0.10382282733917236,
                    0.10072428733110428,
                    0.09943027794361115,
                    0.09841511398553848,
                    0.09749507158994675,
                    0.09651993215084076,
                    0.09578362852334976,
                    0.09483113139867783,
                    0.09539513289928436,
                    0.0935833752155304,
                    0.09244893491268158,
                    0.09154091775417328,
                    0.09075944125652313,
                    0.08995429426431656,
                    0.08921118825674057,
                    0.08842422813177109,
                    0.08771266788244247,
                    0.08700806647539139,
                    0.08628065139055252,
                    0.08559318631887436,
                    0.08499035239219666,
                    0.08427706360816956,
                    0.08358276635408401,
                    0.08291629701852798,
                    0.08224707096815109,
                    0.08162136375904083,
                    0.08099213242530823,
                    0.08036905527114868,
                    0.07975945621728897,
                    0.07916967570781708,
                    0.07861664891242981,
                    0.07809128612279892,
                    0.07748834788799286,
                    0.07687676697969437,
                    0.07630569487810135,
                    0.07575346529483795,
                    0.07523700594902039,
                    0.07467828691005707,
                    0.07415203750133514,
                    0.07362738251686096,
                    0.0731256753206253,
                    0.07263711839914322,
                    0.07213515788316727,
                    0.07168308645486832,
                    0.07117118686437607,
                    0.07115829735994339,
                    0.07069689780473709,
                    0.07021701335906982,
                    0.06971795111894608,
                    0.06926633417606354,
                    0.06885065883398056,
                    0.0684264525771141,
                    0.0679703801870346,
                    0.06755561381578445,
                    0.06714605540037155,
                    0.06672657281160355,
                    0.06632264703512192
                  ],
                  "yaxis": "y"
                },
                {
                  "hovertemplate": "Epoch: %{x}<br>Value: %{y:.4f}<extra></extra>",
                  "marker": {
                    "color": "green"
                  },
                  "mode": "lines+markers",
                  "name": "Validation Loss",
                  "type": "scatter",
                  "x": [
                    1,
                    2,
                    3,
                    4,
                    5,
                    6,
                    7,
                    8,
                    9,
                    10,
                    11,
                    12,
                    13,
                    14,
                    15,
                    16,
                    17,
                    18,
                    19,
                    20,
                    21,
                    22,
                    23,
                    24,
                    25,
                    26,
                    27,
                    28,
                    29,
                    30,
                    31,
                    32,
                    33,
                    34,
                    35,
                    36,
                    37,
                    38,
                    39,
                    40,
                    41,
                    42,
                    43,
                    44,
                    45,
                    46,
                    47,
                    48,
                    49,
                    50,
                    51,
                    52,
                    53,
                    54,
                    55,
                    56,
                    57,
                    58,
                    59,
                    60,
                    61,
                    62,
                    63,
                    64,
                    65,
                    66,
                    67,
                    68,
                    69,
                    70,
                    71,
                    72,
                    73,
                    74,
                    75,
                    76,
                    77,
                    78,
                    79,
                    80,
                    81,
                    82,
                    83,
                    84,
                    85,
                    86,
                    87,
                    88,
                    89,
                    90,
                    91,
                    92,
                    93,
                    94,
                    95,
                    96,
                    97,
                    98,
                    99,
                    100,
                    101,
                    102,
                    103,
                    104,
                    105,
                    106,
                    107,
                    108,
                    109,
                    110,
                    111,
                    112,
                    113,
                    114,
                    115,
                    116,
                    117,
                    118,
                    119,
                    120,
                    121,
                    122,
                    123,
                    124,
                    125,
                    126,
                    127,
                    128,
                    129,
                    130,
                    131,
                    132,
                    133,
                    134,
                    135,
                    136,
                    137,
                    138,
                    139,
                    140,
                    141,
                    142,
                    143,
                    144,
                    145,
                    146,
                    147,
                    148,
                    149,
                    150,
                    151,
                    152,
                    153,
                    154,
                    155,
                    156,
                    157,
                    158,
                    159,
                    160,
                    161,
                    162,
                    163,
                    164,
                    165,
                    166,
                    167,
                    168,
                    169,
                    170,
                    171,
                    172,
                    173,
                    174,
                    175,
                    176,
                    177,
                    178,
                    179,
                    180,
                    181,
                    182,
                    183,
                    184,
                    185,
                    186,
                    187,
                    188,
                    189,
                    190,
                    191,
                    192,
                    193,
                    194,
                    195,
                    196,
                    197,
                    198,
                    199,
                    200
                  ],
                  "xaxis": "x",
                  "y": [
                    0.8953891396522522,
                    0.409687876701355,
                    0.40888142585754395,
                    0.37648719549179077,
                    0.3674003481864929,
                    0.3646157383918762,
                    0.3601416051387787,
                    0.3713419437408447,
                    0.34767311811447144,
                    0.3445641100406647,
                    0.34504857659339905,
                    0.3349857032299042,
                    0.3310506045818329,
                    0.32669761776924133,
                    0.33781927824020386,
                    0.31992608308792114,
                    0.32159045338630676,
                    0.321289598941803,
                    0.30942851305007935,
                    0.3066837787628174,
                    0.30532294511795044,
                    0.306820809841156,
                    0.2975548207759857,
                    0.29515141248703003,
                    0.2920287251472473,
                    0.28922712802886963,
                    0.28641703724861145,
                    0.283817321062088,
                    0.28120118379592896,
                    0.2787962853908539,
                    0.27622827887535095,
                    0.27384132146835327,
                    0.27144354581832886,
                    0.26928773522377014,
                    0.26687905192375183,
                    0.2646782398223877,
                    0.26262402534484863,
                    0.2602888345718384,
                    0.2646906077861786,
                    0.2688705325126648,
                    0.27271613478660583,
                    0.2560477554798126,
                    0.26070636510849,
                    0.2543432116508484,
                    0.2497304230928421,
                    0.24828755855560303,
                    0.24594394862651825,
                    0.24498291313648224,
                    0.24268819391727448,
                    0.24118205904960632,
                    0.2393898069858551,
                    0.2368563860654831,
                    0.23610073328018188,
                    0.2332293689250946,
                    0.23329158127307892,
                    0.23077037930488586,
                    0.22822773456573486,
                    0.22720156610012054,
                    0.22660879790782928,
                    0.2234511524438858,
                    0.2220226675271988,
                    0.21837414801120758,
                    0.21863719820976257,
                    0.2167794406414032,
                    0.21403415501117706,
                    0.2108449637889862,
                    0.21081173419952393,
                    0.20807261765003204,
                    0.20132747292518616,
                    0.201476588845253,
                    0.2011612206697464,
                    0.1963358074426651,
                    0.19506274163722992,
                    0.1820690780878067,
                    0.18290993571281433,
                    0.1872420310974121,
                    0.17612409591674805,
                    0.17742237448692322,
                    0.17259804904460907,
                    0.1769784688949585,
                    0.17400287091732025,
                    0.16765323281288147,
                    0.17039485275745392,
                    0.16932597756385803,
                    0.1696891337633133,
                    0.18320657312870026,
                    0.1803702861070633,
                    0.18133747577667236,
                    0.18612411618232727,
                    0.18771523237228394,
                    0.17797154188156128,
                    0.17614874243736267,
                    0.1987726241350174,
                    0.17286120355129242,
                    0.18117649853229523,
                    0.22641108930110931,
                    0.17144282162189484,
                    0.17156259715557098,
                    0.16738615930080414,
                    0.16381090879440308,
                    0.18456123769283295,
                    0.17208875715732574,
                    0.16243772208690643,
                    0.1606580913066864,
                    0.181634321808815,
                    0.18464753031730652,
                    0.1787988692522049,
                    0.19754402339458466,
                    0.19505876302719116,
                    0.1761830747127533,
                    0.21404169499874115,
                    0.24286097288131714,
                    0.21693339943885803,
                    0.2089882344007492,
                    0.19113518297672272,
                    0.1963638961315155,
                    0.22143562138080597,
                    0.2870190739631653,
                    0.2176600992679596,
                    0.20559045672416687,
                    0.22652782499790192,
                    0.2131056934595108,
                    0.22876670956611633,
                    0.2577550709247589,
                    0.2534552216529846,
                    0.32958558201789856,
                    0.26012954115867615,
                    0.22088998556137085,
                    0.15999390184879303,
                    0.18014000356197357,
                    0.3691347539424896,
                    0.18313056230545044,
                    0.15454743802547455,
                    0.21158438920974731,
                    0.21313227713108063,
                    0.18312840163707733,
                    0.21637998521327972,
                    0.25404447317123413,
                    0.2240237444639206,
                    0.2260235846042633,
                    0.2557626962661743,
                    0.30675938725471497,
                    0.2363051176071167,
                    0.27775663137435913,
                    0.260357528924942,
                    0.25362280011177063,
                    0.2662743330001831,
                    0.2484811544418335,
                    0.27957069873809814,
                    0.24911604821681976,
                    0.2907244563102722,
                    0.2634584903717041,
                    0.25068169832229614,
                    0.25163978338241577,
                    0.25992539525032043,
                    0.25555214285850525,
                    0.26712989807128906,
                    0.2780499756336212,
                    0.2743649184703827,
                    0.2722274661064148,
                    0.27163636684417725,
                    0.27704668045043945,
                    0.25269752740859985,
                    0.25123482942581177,
                    0.25815069675445557,
                    0.2689693868160248,
                    0.26793140172958374,
                    0.2653422951698303,
                    0.26908957958221436,
                    0.2742464244365692,
                    0.27973344922065735,
                    0.2799093425273895,
                    0.2860476076602936,
                    0.26459115743637085,
                    0.24761126935482025,
                    0.2552240788936615,
                    0.2691121995449066,
                    0.2800045311450958,
                    0.2867746353149414,
                    0.29128140211105347,
                    0.2889038026332855,
                    0.2886752486228943,
                    0.29621604084968567,
                    0.29547417163848877,
                    0.29517319798469543,
                    0.28893688321113586,
                    0.2934357821941376,
                    0.29431790113449097,
                    0.25077053904533386,
                    0.2397206723690033,
                    0.26088204979896545,
                    0.2817038297653198,
                    0.2664346992969513,
                    0.2551330626010895,
                    0.2652948796749115,
                    0.2781078815460205,
                    0.2889479994773865,
                    0.2820194959640503,
                    0.2780563533306122,
                    0.2825114130973816
                  ],
                  "yaxis": "y"
                },
                {
                  "hovertemplate": "Epoch: %{x}<br>Value: %{y:.4f}<extra></extra>",
                  "marker": {
                    "color": "red"
                  },
                  "mode": "lines+markers",
                  "name": "Training Accuracy",
                  "type": "scatter",
                  "x": [
                    1,
                    2,
                    3,
                    4,
                    5,
                    6,
                    7,
                    8,
                    9,
                    10,
                    11,
                    12,
                    13,
                    14,
                    15,
                    16,
                    17,
                    18,
                    19,
                    20,
                    21,
                    22,
                    23,
                    24,
                    25,
                    26,
                    27,
                    28,
                    29,
                    30,
                    31,
                    32,
                    33,
                    34,
                    35,
                    36,
                    37,
                    38,
                    39,
                    40,
                    41,
                    42,
                    43,
                    44,
                    45,
                    46,
                    47,
                    48,
                    49,
                    50,
                    51,
                    52,
                    53,
                    54,
                    55,
                    56,
                    57,
                    58,
                    59,
                    60,
                    61,
                    62,
                    63,
                    64,
                    65,
                    66,
                    67,
                    68,
                    69,
                    70,
                    71,
                    72,
                    73,
                    74,
                    75,
                    76,
                    77,
                    78,
                    79,
                    80,
                    81,
                    82,
                    83,
                    84,
                    85,
                    86,
                    87,
                    88,
                    89,
                    90,
                    91,
                    92,
                    93,
                    94,
                    95,
                    96,
                    97,
                    98,
                    99,
                    100,
                    101,
                    102,
                    103,
                    104,
                    105,
                    106,
                    107,
                    108,
                    109,
                    110,
                    111,
                    112,
                    113,
                    114,
                    115,
                    116,
                    117,
                    118,
                    119,
                    120,
                    121,
                    122,
                    123,
                    124,
                    125,
                    126,
                    127,
                    128,
                    129,
                    130,
                    131,
                    132,
                    133,
                    134,
                    135,
                    136,
                    137,
                    138,
                    139,
                    140,
                    141,
                    142,
                    143,
                    144,
                    145,
                    146,
                    147,
                    148,
                    149,
                    150,
                    151,
                    152,
                    153,
                    154,
                    155,
                    156,
                    157,
                    158,
                    159,
                    160,
                    161,
                    162,
                    163,
                    164,
                    165,
                    166,
                    167,
                    168,
                    169,
                    170,
                    171,
                    172,
                    173,
                    174,
                    175,
                    176,
                    177,
                    178,
                    179,
                    180,
                    181,
                    182,
                    183,
                    184,
                    185,
                    186,
                    187,
                    188,
                    189,
                    190,
                    191,
                    192,
                    193,
                    194,
                    195,
                    196,
                    197,
                    198,
                    199,
                    200
                  ],
                  "xaxis": "x2",
                  "y": [
                    0.6859416365623474,
                    0.8726790547370911,
                    0.911936342716217,
                    0.9209548830986023,
                    0.9236074090003967,
                    0.9251989126205444,
                    0.9246684312820435,
                    0.9236074090003967,
                    0.9230769276618958,
                    0.9257294535636902,
                    0.9251989126205444,
                    0.9246684312820435,
                    0.9267904758453369,
                    0.9267904758453369,
                    0.9262599349021912,
                    0.9241379499435425,
                    0.9267904758453369,
                    0.9262599349021912,
                    0.9262599349021912,
                    0.9246684312820435,
                    0.9267904758453369,
                    0.9251989126205444,
                    0.9267904758453369,
                    0.9267904758453369,
                    0.9267904758453369,
                    0.9267904758453369,
                    0.9267904758453369,
                    0.9267904758453369,
                    0.9267904758453369,
                    0.9267904758453369,
                    0.9267904758453369,
                    0.9267904758453369,
                    0.9267904758453369,
                    0.9267904758453369,
                    0.9267904758453369,
                    0.9267904758453369,
                    0.9267904758453369,
                    0.9273209571838379,
                    0.9251989126205444,
                    0.9299734830856323,
                    0.9241379499435425,
                    0.9273209571838379,
                    0.9283819794654846,
                    0.9331564903259277,
                    0.9331564903259277,
                    0.9342175126075745,
                    0.9342175126075745,
                    0.9342175126075745,
                    0.9342175126075745,
                    0.9342175126075745,
                    0.9342175126075745,
                    0.9342175126075745,
                    0.9342175126075745,
                    0.9342175126075745,
                    0.9342175126075745,
                    0.9342175126075745,
                    0.9342175126075745,
                    0.9342175126075745,
                    0.9336870312690735,
                    0.9342175126075745,
                    0.9342175126075745,
                    0.9342175126075745,
                    0.9347479939460754,
                    0.9347479939460754,
                    0.9347479939460754,
                    0.9352785348892212,
                    0.9379310607910156,
                    0.9384615421295166,
                    0.9421750903129578,
                    0.9474800825119019,
                    0.941644549369812,
                    0.9453580975532532,
                    0.9469496011734009,
                    0.9533156752586365,
                    0.960212230682373,
                    0.9623342156410217,
                    0.9628646969795227,
                    0.961273193359375,
                    0.9570291638374329,
                    0.961273193359375,
                    0.9564986824989319,
                    0.9559681415557861,
                    0.9596816897392273,
                    0.9623342156410217,
                    0.9543766379356384,
                    0.960212230682373,
                    0.9623342156410217,
                    0.960212230682373,
                    0.9665782451629639,
                    0.9671087265014648,
                    0.9697612524032593,
                    0.9687002897262573,
                    0.970291793346405,
                    0.970822274684906,
                    0.970822274684906,
                    0.970822274684906,
                    0.960742712020874,
                    0.9639257192611694,
                    0.9655172228813171,
                    0.9681697487831116,
                    0.9718832969665527,
                    0.970822274684906,
                    0.9724137783050537,
                    0.9745358228683472,
                    0.9782493114471436,
                    0.9787798523902893,
                    0.9819628596305847,
                    0.9846153855323792,
                    0.9835543632507324,
                    0.9830238819122314,
                    0.9872679114341736,
                    0.9830238819122314,
                    0.9867374300956726,
                    0.9862068891525269,
                    0.9872679114341736,
                    0.9888594150543213,
                    0.9915119409561157,
                    0.9920424222946167,
                    0.9920424222946167,
                    0.9920424222946167,
                    0.9909814596176147,
                    0.9936339259147644,
                    0.9936339259147644,
                    0.9936339259147644,
                    0.9941644668579102,
                    0.9941644668579102,
                    0.9931034445762634,
                    0.9925729632377625,
                    0.9941644668579102,
                    0.9909814596176147,
                    0.9819628596305847,
                    0.9824933409690857,
                    0.9872679114341736,
                    0.9931034445762634,
                    0.9925729632377625,
                    0.9920424222946167,
                    0.9909814596176147,
                    0.9856764078140259,
                    0.9867374300956726,
                    0.990450918674469,
                    0.989920437335968,
                    0.9925729632377625,
                    0.9941644668579102,
                    0.9936339259147644,
                    0.9946949481964111,
                    0.9946949481964111,
                    0.9946949481964111,
                    0.9946949481964111,
                    0.9946949481964111,
                    0.9946949481964111,
                    0.9946949481964111,
                    0.9941644668579102,
                    0.9946949481964111,
                    0.9946949481964111,
                    0.9946949481964111,
                    0.9946949481964111,
                    0.9946949481964111,
                    0.9946949481964111,
                    0.9946949481964111,
                    0.9946949481964111,
                    0.9946949481964111,
                    0.9946949481964111,
                    0.9946949481964111,
                    0.9946949481964111,
                    0.9946949481964111,
                    0.9946949481964111,
                    0.9946949481964111,
                    0.9946949481964111,
                    0.9946949481964111,
                    0.9946949481964111,
                    0.9946949481964111,
                    0.9946949481964111,
                    0.9946949481964111,
                    0.9946949481964111,
                    0.9946949481964111,
                    0.9946949481964111,
                    0.9946949481964111,
                    0.9946949481964111,
                    0.9946949481964111,
                    0.9946949481964111,
                    0.9946949481964111,
                    0.9946949481964111,
                    0.9946949481964111,
                    0.9946949481964111,
                    0.9946949481964111,
                    0.9946949481964111,
                    0.9946949481964111,
                    0.9946949481964111,
                    0.9946949481964111,
                    0.9946949481964111,
                    0.9946949481964111,
                    0.9946949481964111,
                    0.9946949481964111,
                    0.9946949481964111,
                    0.9946949481964111,
                    0.9946949481964111,
                    0.9946949481964111,
                    0.9946949481964111,
                    0.9946949481964111,
                    0.9946949481964111
                  ],
                  "yaxis": "y2"
                },
                {
                  "hovertemplate": "Epoch: %{x}<br>Value: %{y:.4f}<extra></extra>",
                  "marker": {
                    "color": "green"
                  },
                  "mode": "lines+markers",
                  "name": "Validation Accuracy",
                  "type": "scatter",
                  "x": [
                    1,
                    2,
                    3,
                    4,
                    5,
                    6,
                    7,
                    8,
                    9,
                    10,
                    11,
                    12,
                    13,
                    14,
                    15,
                    16,
                    17,
                    18,
                    19,
                    20,
                    21,
                    22,
                    23,
                    24,
                    25,
                    26,
                    27,
                    28,
                    29,
                    30,
                    31,
                    32,
                    33,
                    34,
                    35,
                    36,
                    37,
                    38,
                    39,
                    40,
                    41,
                    42,
                    43,
                    44,
                    45,
                    46,
                    47,
                    48,
                    49,
                    50,
                    51,
                    52,
                    53,
                    54,
                    55,
                    56,
                    57,
                    58,
                    59,
                    60,
                    61,
                    62,
                    63,
                    64,
                    65,
                    66,
                    67,
                    68,
                    69,
                    70,
                    71,
                    72,
                    73,
                    74,
                    75,
                    76,
                    77,
                    78,
                    79,
                    80,
                    81,
                    82,
                    83,
                    84,
                    85,
                    86,
                    87,
                    88,
                    89,
                    90,
                    91,
                    92,
                    93,
                    94,
                    95,
                    96,
                    97,
                    98,
                    99,
                    100,
                    101,
                    102,
                    103,
                    104,
                    105,
                    106,
                    107,
                    108,
                    109,
                    110,
                    111,
                    112,
                    113,
                    114,
                    115,
                    116,
                    117,
                    118,
                    119,
                    120,
                    121,
                    122,
                    123,
                    124,
                    125,
                    126,
                    127,
                    128,
                    129,
                    130,
                    131,
                    132,
                    133,
                    134,
                    135,
                    136,
                    137,
                    138,
                    139,
                    140,
                    141,
                    142,
                    143,
                    144,
                    145,
                    146,
                    147,
                    148,
                    149,
                    150,
                    151,
                    152,
                    153,
                    154,
                    155,
                    156,
                    157,
                    158,
                    159,
                    160,
                    161,
                    162,
                    163,
                    164,
                    165,
                    166,
                    167,
                    168,
                    169,
                    170,
                    171,
                    172,
                    173,
                    174,
                    175,
                    176,
                    177,
                    178,
                    179,
                    180,
                    181,
                    182,
                    183,
                    184,
                    185,
                    186,
                    187,
                    188,
                    189,
                    190,
                    191,
                    192,
                    193,
                    194,
                    195,
                    196,
                    197,
                    198,
                    199,
                    200
                  ],
                  "xaxis": "x2",
                  "y": [
                    0.9115789532661438,
                    0.9473684430122375,
                    0.9473684430122375,
                    0.9473684430122375,
                    0.945263147354126,
                    0.9473684430122375,
                    0.9473684430122375,
                    0.9431579113006592,
                    0.9473684430122375,
                    0.9473684430122375,
                    0.9431579113006592,
                    0.9473684430122375,
                    0.9473684430122375,
                    0.9473684430122375,
                    0.9431579113006592,
                    0.9473684430122375,
                    0.945263147354126,
                    0.945263147354126,
                    0.9473684430122375,
                    0.9473684430122375,
                    0.9473684430122375,
                    0.945263147354126,
                    0.9473684430122375,
                    0.9473684430122375,
                    0.9473684430122375,
                    0.9473684430122375,
                    0.9473684430122375,
                    0.9473684430122375,
                    0.9473684430122375,
                    0.9473684430122375,
                    0.9473684430122375,
                    0.9473684430122375,
                    0.9473684430122375,
                    0.9473684430122375,
                    0.9473684430122375,
                    0.9473684430122375,
                    0.9473684430122375,
                    0.9473684430122375,
                    0.9431579113006592,
                    0.9473684430122375,
                    0.9410526156425476,
                    0.945263147354126,
                    0.9473684430122375,
                    0.945263147354126,
                    0.9473684430122375,
                    0.945263147354126,
                    0.9473684430122375,
                    0.9473684430122375,
                    0.9473684430122375,
                    0.9473684430122375,
                    0.9473684430122375,
                    0.9473684430122375,
                    0.9473684430122375,
                    0.9473684430122375,
                    0.9473684430122375,
                    0.9473684430122375,
                    0.9473684430122375,
                    0.9473684430122375,
                    0.9473684430122375,
                    0.9473684430122375,
                    0.9473684430122375,
                    0.9473684430122375,
                    0.9473684430122375,
                    0.945263147354126,
                    0.9473684430122375,
                    0.9515789747238159,
                    0.9494736790657043,
                    0.9515789747238159,
                    0.9557894468307495,
                    0.9557894468307495,
                    0.9515789747238159,
                    0.9557894468307495,
                    0.9536842107772827,
                    0.9684210419654846,
                    0.9642105102539062,
                    0.9663158059120178,
                    0.9705263376235962,
                    0.9705263376235962,
                    0.9684210419654846,
                    0.9684210419654846,
                    0.9642105102539062,
                    0.9684210419654846,
                    0.9705263376235962,
                    0.9663158059120178,
                    0.9684210419654846,
                    0.9663158059120178,
                    0.9663158059120178,
                    0.9621052742004395,
                    0.9642105102539062,
                    0.9642105102539062,
                    0.9663158059120178,
                    0.9684210419654846,
                    0.9599999785423279,
                    0.9663158059120178,
                    0.9684210419654846,
                    0.9536842107772827,
                    0.9642105102539062,
                    0.9684210419654846,
                    0.9663158059120178,
                    0.9663158059120178,
                    0.9621052742004395,
                    0.9663158059120178,
                    0.9663158059120178,
                    0.9663158059120178,
                    0.9578947424888611,
                    0.9536842107772827,
                    0.9621052742004395,
                    0.9557894468307495,
                    0.9557894468307495,
                    0.9642105102539062,
                    0.9557894468307495,
                    0.9515789747238159,
                    0.9557894468307495,
                    0.9557894468307495,
                    0.9621052742004395,
                    0.9557894468307495,
                    0.9578947424888611,
                    0.9557894468307495,
                    0.9557894468307495,
                    0.9578947424888611,
                    0.9536842107772827,
                    0.9557894468307495,
                    0.9578947424888611,
                    0.9578947424888611,
                    0.9578947424888611,
                    0.9557894468307495,
                    0.9536842107772827,
                    0.9557894468307495,
                    0.9663158059120178,
                    0.9621052742004395,
                    0.9410526156425476,
                    0.9663158059120178,
                    0.9684210419654846,
                    0.9536842107772827,
                    0.9536842107772827,
                    0.9578947424888611,
                    0.9599999785423279,
                    0.9515789747238159,
                    0.9557894468307495,
                    0.9494736790657043,
                    0.9578947424888611,
                    0.9578947424888611,
                    0.9515789747238159,
                    0.9536842107772827,
                    0.9578947424888611,
                    0.9599999785423279,
                    0.9599999785423279,
                    0.9621052742004395,
                    0.9578947424888611,
                    0.9621052742004395,
                    0.9578947424888611,
                    0.9599999785423279,
                    0.9599999785423279,
                    0.9578947424888611,
                    0.9578947424888611,
                    0.9578947424888611,
                    0.9599999785423279,
                    0.9642105102539062,
                    0.9599999785423279,
                    0.9599999785423279,
                    0.9599999785423279,
                    0.9599999785423279,
                    0.9621052742004395,
                    0.9621052742004395,
                    0.9599999785423279,
                    0.9599999785423279,
                    0.9599999785423279,
                    0.9599999785423279,
                    0.9599999785423279,
                    0.9599999785423279,
                    0.9621052742004395,
                    0.9621052742004395,
                    0.9621052742004395,
                    0.9599999785423279,
                    0.9599999785423279,
                    0.9621052742004395,
                    0.9599999785423279,
                    0.9599999785423279,
                    0.9621052742004395,
                    0.9642105102539062,
                    0.9621052742004395,
                    0.9599999785423279,
                    0.9642105102539062,
                    0.9642105102539062,
                    0.9642105102539062,
                    0.9599999785423279,
                    0.9642105102539062,
                    0.9599999785423279,
                    0.9599999785423279,
                    0.9621052742004395,
                    0.9621052742004395,
                    0.9578947424888611,
                    0.9621052742004395,
                    0.9621052742004395,
                    0.9621052742004395,
                    0.9599999785423279,
                    0.9578947424888611,
                    0.9599999785423279,
                    0.9599999785423279,
                    0.9599999785423279
                  ],
                  "yaxis": "y2"
                }
              ],
              "layout": {
                "annotations": [
                  {
                    "font": {
                      "size": 16
                    },
                    "showarrow": false,
                    "text": "Training and Validation Loss",
                    "x": 0.225,
                    "xanchor": "center",
                    "xref": "paper",
                    "y": 1,
                    "yanchor": "bottom",
                    "yref": "paper"
                  },
                  {
                    "font": {
                      "size": 16
                    },
                    "showarrow": false,
                    "text": "Training and Validation Accuracy",
                    "x": 0.775,
                    "xanchor": "center",
                    "xref": "paper",
                    "y": 1,
                    "yanchor": "bottom",
                    "yref": "paper"
                  }
                ],
                "showlegend": true,
                "template": {
                  "data": {
                    "bar": [
                      {
                        "error_x": {
                          "color": "#2a3f5f"
                        },
                        "error_y": {
                          "color": "#2a3f5f"
                        },
                        "marker": {
                          "line": {
                            "color": "#E5ECF6",
                            "width": 0.5
                          },
                          "pattern": {
                            "fillmode": "overlay",
                            "size": 10,
                            "solidity": 0.2
                          }
                        },
                        "type": "bar"
                      }
                    ],
                    "barpolar": [
                      {
                        "marker": {
                          "line": {
                            "color": "#E5ECF6",
                            "width": 0.5
                          },
                          "pattern": {
                            "fillmode": "overlay",
                            "size": 10,
                            "solidity": 0.2
                          }
                        },
                        "type": "barpolar"
                      }
                    ],
                    "carpet": [
                      {
                        "aaxis": {
                          "endlinecolor": "#2a3f5f",
                          "gridcolor": "white",
                          "linecolor": "white",
                          "minorgridcolor": "white",
                          "startlinecolor": "#2a3f5f"
                        },
                        "baxis": {
                          "endlinecolor": "#2a3f5f",
                          "gridcolor": "white",
                          "linecolor": "white",
                          "minorgridcolor": "white",
                          "startlinecolor": "#2a3f5f"
                        },
                        "type": "carpet"
                      }
                    ],
                    "choropleth": [
                      {
                        "colorbar": {
                          "outlinewidth": 0,
                          "ticks": ""
                        },
                        "type": "choropleth"
                      }
                    ],
                    "contour": [
                      {
                        "colorbar": {
                          "outlinewidth": 0,
                          "ticks": ""
                        },
                        "colorscale": [
                          [
                            0,
                            "#0d0887"
                          ],
                          [
                            0.1111111111111111,
                            "#46039f"
                          ],
                          [
                            0.2222222222222222,
                            "#7201a8"
                          ],
                          [
                            0.3333333333333333,
                            "#9c179e"
                          ],
                          [
                            0.4444444444444444,
                            "#bd3786"
                          ],
                          [
                            0.5555555555555556,
                            "#d8576b"
                          ],
                          [
                            0.6666666666666666,
                            "#ed7953"
                          ],
                          [
                            0.7777777777777778,
                            "#fb9f3a"
                          ],
                          [
                            0.8888888888888888,
                            "#fdca26"
                          ],
                          [
                            1,
                            "#f0f921"
                          ]
                        ],
                        "type": "contour"
                      }
                    ],
                    "contourcarpet": [
                      {
                        "colorbar": {
                          "outlinewidth": 0,
                          "ticks": ""
                        },
                        "type": "contourcarpet"
                      }
                    ],
                    "heatmap": [
                      {
                        "colorbar": {
                          "outlinewidth": 0,
                          "ticks": ""
                        },
                        "colorscale": [
                          [
                            0,
                            "#0d0887"
                          ],
                          [
                            0.1111111111111111,
                            "#46039f"
                          ],
                          [
                            0.2222222222222222,
                            "#7201a8"
                          ],
                          [
                            0.3333333333333333,
                            "#9c179e"
                          ],
                          [
                            0.4444444444444444,
                            "#bd3786"
                          ],
                          [
                            0.5555555555555556,
                            "#d8576b"
                          ],
                          [
                            0.6666666666666666,
                            "#ed7953"
                          ],
                          [
                            0.7777777777777778,
                            "#fb9f3a"
                          ],
                          [
                            0.8888888888888888,
                            "#fdca26"
                          ],
                          [
                            1,
                            "#f0f921"
                          ]
                        ],
                        "type": "heatmap"
                      }
                    ],
                    "heatmapgl": [
                      {
                        "colorbar": {
                          "outlinewidth": 0,
                          "ticks": ""
                        },
                        "colorscale": [
                          [
                            0,
                            "#0d0887"
                          ],
                          [
                            0.1111111111111111,
                            "#46039f"
                          ],
                          [
                            0.2222222222222222,
                            "#7201a8"
                          ],
                          [
                            0.3333333333333333,
                            "#9c179e"
                          ],
                          [
                            0.4444444444444444,
                            "#bd3786"
                          ],
                          [
                            0.5555555555555556,
                            "#d8576b"
                          ],
                          [
                            0.6666666666666666,
                            "#ed7953"
                          ],
                          [
                            0.7777777777777778,
                            "#fb9f3a"
                          ],
                          [
                            0.8888888888888888,
                            "#fdca26"
                          ],
                          [
                            1,
                            "#f0f921"
                          ]
                        ],
                        "type": "heatmapgl"
                      }
                    ],
                    "histogram": [
                      {
                        "marker": {
                          "pattern": {
                            "fillmode": "overlay",
                            "size": 10,
                            "solidity": 0.2
                          }
                        },
                        "type": "histogram"
                      }
                    ],
                    "histogram2d": [
                      {
                        "colorbar": {
                          "outlinewidth": 0,
                          "ticks": ""
                        },
                        "colorscale": [
                          [
                            0,
                            "#0d0887"
                          ],
                          [
                            0.1111111111111111,
                            "#46039f"
                          ],
                          [
                            0.2222222222222222,
                            "#7201a8"
                          ],
                          [
                            0.3333333333333333,
                            "#9c179e"
                          ],
                          [
                            0.4444444444444444,
                            "#bd3786"
                          ],
                          [
                            0.5555555555555556,
                            "#d8576b"
                          ],
                          [
                            0.6666666666666666,
                            "#ed7953"
                          ],
                          [
                            0.7777777777777778,
                            "#fb9f3a"
                          ],
                          [
                            0.8888888888888888,
                            "#fdca26"
                          ],
                          [
                            1,
                            "#f0f921"
                          ]
                        ],
                        "type": "histogram2d"
                      }
                    ],
                    "histogram2dcontour": [
                      {
                        "colorbar": {
                          "outlinewidth": 0,
                          "ticks": ""
                        },
                        "colorscale": [
                          [
                            0,
                            "#0d0887"
                          ],
                          [
                            0.1111111111111111,
                            "#46039f"
                          ],
                          [
                            0.2222222222222222,
                            "#7201a8"
                          ],
                          [
                            0.3333333333333333,
                            "#9c179e"
                          ],
                          [
                            0.4444444444444444,
                            "#bd3786"
                          ],
                          [
                            0.5555555555555556,
                            "#d8576b"
                          ],
                          [
                            0.6666666666666666,
                            "#ed7953"
                          ],
                          [
                            0.7777777777777778,
                            "#fb9f3a"
                          ],
                          [
                            0.8888888888888888,
                            "#fdca26"
                          ],
                          [
                            1,
                            "#f0f921"
                          ]
                        ],
                        "type": "histogram2dcontour"
                      }
                    ],
                    "mesh3d": [
                      {
                        "colorbar": {
                          "outlinewidth": 0,
                          "ticks": ""
                        },
                        "type": "mesh3d"
                      }
                    ],
                    "parcoords": [
                      {
                        "line": {
                          "colorbar": {
                            "outlinewidth": 0,
                            "ticks": ""
                          }
                        },
                        "type": "parcoords"
                      }
                    ],
                    "pie": [
                      {
                        "automargin": true,
                        "type": "pie"
                      }
                    ],
                    "scatter": [
                      {
                        "fillpattern": {
                          "fillmode": "overlay",
                          "size": 10,
                          "solidity": 0.2
                        },
                        "type": "scatter"
                      }
                    ],
                    "scatter3d": [
                      {
                        "line": {
                          "colorbar": {
                            "outlinewidth": 0,
                            "ticks": ""
                          }
                        },
                        "marker": {
                          "colorbar": {
                            "outlinewidth": 0,
                            "ticks": ""
                          }
                        },
                        "type": "scatter3d"
                      }
                    ],
                    "scattercarpet": [
                      {
                        "marker": {
                          "colorbar": {
                            "outlinewidth": 0,
                            "ticks": ""
                          }
                        },
                        "type": "scattercarpet"
                      }
                    ],
                    "scattergeo": [
                      {
                        "marker": {
                          "colorbar": {
                            "outlinewidth": 0,
                            "ticks": ""
                          }
                        },
                        "type": "scattergeo"
                      }
                    ],
                    "scattergl": [
                      {
                        "marker": {
                          "colorbar": {
                            "outlinewidth": 0,
                            "ticks": ""
                          }
                        },
                        "type": "scattergl"
                      }
                    ],
                    "scattermapbox": [
                      {
                        "marker": {
                          "colorbar": {
                            "outlinewidth": 0,
                            "ticks": ""
                          }
                        },
                        "type": "scattermapbox"
                      }
                    ],
                    "scatterpolar": [
                      {
                        "marker": {
                          "colorbar": {
                            "outlinewidth": 0,
                            "ticks": ""
                          }
                        },
                        "type": "scatterpolar"
                      }
                    ],
                    "scatterpolargl": [
                      {
                        "marker": {
                          "colorbar": {
                            "outlinewidth": 0,
                            "ticks": ""
                          }
                        },
                        "type": "scatterpolargl"
                      }
                    ],
                    "scatterternary": [
                      {
                        "marker": {
                          "colorbar": {
                            "outlinewidth": 0,
                            "ticks": ""
                          }
                        },
                        "type": "scatterternary"
                      }
                    ],
                    "surface": [
                      {
                        "colorbar": {
                          "outlinewidth": 0,
                          "ticks": ""
                        },
                        "colorscale": [
                          [
                            0,
                            "#0d0887"
                          ],
                          [
                            0.1111111111111111,
                            "#46039f"
                          ],
                          [
                            0.2222222222222222,
                            "#7201a8"
                          ],
                          [
                            0.3333333333333333,
                            "#9c179e"
                          ],
                          [
                            0.4444444444444444,
                            "#bd3786"
                          ],
                          [
                            0.5555555555555556,
                            "#d8576b"
                          ],
                          [
                            0.6666666666666666,
                            "#ed7953"
                          ],
                          [
                            0.7777777777777778,
                            "#fb9f3a"
                          ],
                          [
                            0.8888888888888888,
                            "#fdca26"
                          ],
                          [
                            1,
                            "#f0f921"
                          ]
                        ],
                        "type": "surface"
                      }
                    ],
                    "table": [
                      {
                        "cells": {
                          "fill": {
                            "color": "#EBF0F8"
                          },
                          "line": {
                            "color": "white"
                          }
                        },
                        "header": {
                          "fill": {
                            "color": "#C8D4E3"
                          },
                          "line": {
                            "color": "white"
                          }
                        },
                        "type": "table"
                      }
                    ]
                  },
                  "layout": {
                    "annotationdefaults": {
                      "arrowcolor": "#2a3f5f",
                      "arrowhead": 0,
                      "arrowwidth": 1
                    },
                    "autotypenumbers": "strict",
                    "coloraxis": {
                      "colorbar": {
                        "outlinewidth": 0,
                        "ticks": ""
                      }
                    },
                    "colorscale": {
                      "diverging": [
                        [
                          0,
                          "#8e0152"
                        ],
                        [
                          0.1,
                          "#c51b7d"
                        ],
                        [
                          0.2,
                          "#de77ae"
                        ],
                        [
                          0.3,
                          "#f1b6da"
                        ],
                        [
                          0.4,
                          "#fde0ef"
                        ],
                        [
                          0.5,
                          "#f7f7f7"
                        ],
                        [
                          0.6,
                          "#e6f5d0"
                        ],
                        [
                          0.7,
                          "#b8e186"
                        ],
                        [
                          0.8,
                          "#7fbc41"
                        ],
                        [
                          0.9,
                          "#4d9221"
                        ],
                        [
                          1,
                          "#276419"
                        ]
                      ],
                      "sequential": [
                        [
                          0,
                          "#0d0887"
                        ],
                        [
                          0.1111111111111111,
                          "#46039f"
                        ],
                        [
                          0.2222222222222222,
                          "#7201a8"
                        ],
                        [
                          0.3333333333333333,
                          "#9c179e"
                        ],
                        [
                          0.4444444444444444,
                          "#bd3786"
                        ],
                        [
                          0.5555555555555556,
                          "#d8576b"
                        ],
                        [
                          0.6666666666666666,
                          "#ed7953"
                        ],
                        [
                          0.7777777777777778,
                          "#fb9f3a"
                        ],
                        [
                          0.8888888888888888,
                          "#fdca26"
                        ],
                        [
                          1,
                          "#f0f921"
                        ]
                      ],
                      "sequentialminus": [
                        [
                          0,
                          "#0d0887"
                        ],
                        [
                          0.1111111111111111,
                          "#46039f"
                        ],
                        [
                          0.2222222222222222,
                          "#7201a8"
                        ],
                        [
                          0.3333333333333333,
                          "#9c179e"
                        ],
                        [
                          0.4444444444444444,
                          "#bd3786"
                        ],
                        [
                          0.5555555555555556,
                          "#d8576b"
                        ],
                        [
                          0.6666666666666666,
                          "#ed7953"
                        ],
                        [
                          0.7777777777777778,
                          "#fb9f3a"
                        ],
                        [
                          0.8888888888888888,
                          "#fdca26"
                        ],
                        [
                          1,
                          "#f0f921"
                        ]
                      ]
                    },
                    "colorway": [
                      "#636efa",
                      "#EF553B",
                      "#00cc96",
                      "#ab63fa",
                      "#FFA15A",
                      "#19d3f3",
                      "#FF6692",
                      "#B6E880",
                      "#FF97FF",
                      "#FECB52"
                    ],
                    "font": {
                      "color": "#2a3f5f"
                    },
                    "geo": {
                      "bgcolor": "white",
                      "lakecolor": "white",
                      "landcolor": "#E5ECF6",
                      "showlakes": true,
                      "showland": true,
                      "subunitcolor": "white"
                    },
                    "hoverlabel": {
                      "align": "left"
                    },
                    "hovermode": "closest",
                    "mapbox": {
                      "style": "light"
                    },
                    "paper_bgcolor": "white",
                    "plot_bgcolor": "#E5ECF6",
                    "polar": {
                      "angularaxis": {
                        "gridcolor": "white",
                        "linecolor": "white",
                        "ticks": ""
                      },
                      "bgcolor": "#E5ECF6",
                      "radialaxis": {
                        "gridcolor": "white",
                        "linecolor": "white",
                        "ticks": ""
                      }
                    },
                    "scene": {
                      "xaxis": {
                        "backgroundcolor": "#E5ECF6",
                        "gridcolor": "white",
                        "gridwidth": 2,
                        "linecolor": "white",
                        "showbackground": true,
                        "ticks": "",
                        "zerolinecolor": "white"
                      },
                      "yaxis": {
                        "backgroundcolor": "#E5ECF6",
                        "gridcolor": "white",
                        "gridwidth": 2,
                        "linecolor": "white",
                        "showbackground": true,
                        "ticks": "",
                        "zerolinecolor": "white"
                      },
                      "zaxis": {
                        "backgroundcolor": "#E5ECF6",
                        "gridcolor": "white",
                        "gridwidth": 2,
                        "linecolor": "white",
                        "showbackground": true,
                        "ticks": "",
                        "zerolinecolor": "white"
                      }
                    },
                    "shapedefaults": {
                      "line": {
                        "color": "#2a3f5f"
                      }
                    },
                    "ternary": {
                      "aaxis": {
                        "gridcolor": "white",
                        "linecolor": "white",
                        "ticks": ""
                      },
                      "baxis": {
                        "gridcolor": "white",
                        "linecolor": "white",
                        "ticks": ""
                      },
                      "bgcolor": "#E5ECF6",
                      "caxis": {
                        "gridcolor": "white",
                        "linecolor": "white",
                        "ticks": ""
                      }
                    },
                    "title": {
                      "x": 0.05
                    },
                    "xaxis": {
                      "automargin": true,
                      "gridcolor": "white",
                      "linecolor": "white",
                      "ticks": "",
                      "title": {
                        "standoff": 15
                      },
                      "zerolinecolor": "white",
                      "zerolinewidth": 2
                    },
                    "yaxis": {
                      "automargin": true,
                      "gridcolor": "white",
                      "linecolor": "white",
                      "ticks": "",
                      "title": {
                        "standoff": 15
                      },
                      "zerolinecolor": "white",
                      "zerolinewidth": 2
                    }
                  }
                },
                "title": {
                  "text": "Training and Validation Metrics"
                },
                "xaxis": {
                  "anchor": "y",
                  "domain": [
                    0,
                    0.45
                  ]
                },
                "xaxis2": {
                  "anchor": "y2",
                  "domain": [
                    0.55,
                    1
                  ]
                },
                "yaxis": {
                  "anchor": "x",
                  "domain": [
                    0,
                    1
                  ],
                  "title": {
                    "text": "Loss"
                  }
                },
                "yaxis2": {
                  "anchor": "x2",
                  "domain": [
                    0,
                    1
                  ],
                  "title": {
                    "text": "Accuracy"
                  }
                }
              }
            },
            "text/html": [
              "<div>                            <div id=\"18b7f006-03b5-42a3-b697-01a8b396c3bc\" class=\"plotly-graph-div\" style=\"height:525px; width:100%;\"></div>            <script type=\"text/javascript\">                require([\"plotly\"], function(Plotly) {                    window.PLOTLYENV=window.PLOTLYENV || {};                                    if (document.getElementById(\"18b7f006-03b5-42a3-b697-01a8b396c3bc\")) {                    Plotly.newPlot(                        \"18b7f006-03b5-42a3-b697-01a8b396c3bc\",                        [{\"hovertemplate\":\"Epoch: %{x}\\u003cbr\\u003eValue: %{y:.4f}\\u003cextra\\u003e\\u003c\\u002fextra\\u003e\",\"marker\":{\"color\":\"red\"},\"mode\":\"lines+markers\",\"name\":\"Training Loss\",\"x\":[1,2,3,4,5,6,7,8,9,10,11,12,13,14,15,16,17,18,19,20,21,22,23,24,25,26,27,28,29,30,31,32,33,34,35,36,37,38,39,40,41,42,43,44,45,46,47,48,49,50,51,52,53,54,55,56,57,58,59,60,61,62,63,64,65,66,67,68,69,70,71,72,73,74,75,76,77,78,79,80,81,82,83,84,85,86,87,88,89,90,91,92,93,94,95,96,97,98,99,100,101,102,103,104,105,106,107,108,109,110,111,112,113,114,115,116,117,118,119,120,121,122,123,124,125,126,127,128,129,130,131,132,133,134,135,136,137,138,139,140,141,142,143,144,145,146,147,148,149,150,151,152,153,154,155,156,157,158,159,160,161,162,163,164,165,166,167,168,169,170,171,172,173,174,175,176,177,178,179,180,181,182,183,184,185,186,187,188,189,190,191,192,193,194,195,196,197,198,199,200],\"y\":[1.0855498313903809,0.8676358461380005,0.7125662565231323,0.6605371832847595,0.6419265866279602,0.6308526396751404,0.6192542314529419,0.6177704334259033,0.6047504544258118,0.6096699833869934,0.5882377028465271,0.5852839946746826,0.5715450048446655,0.5664934515953064,0.5588136911392212,0.5570887327194214,0.5451521277427673,0.5396196842193604,0.5387396812438965,0.5324771404266357,0.5230240821838379,0.5187749266624451,0.5108185410499573,0.5043289661407471,0.49927040934562683,0.49388742446899414,0.48894554376602173,0.48387017846107483,0.47900670766830444,0.4742446541786194,0.46957898139953613,0.46506553888320923,0.4605095386505127,0.4562157392501831,0.4521808624267578,0.44799894094467163,0.4437626302242279,0.4390508532524109,0.4448826313018799,0.43238523602485657,0.4756719172000885,0.4478522539138794,0.43063119053840637,0.41434335708618164,0.4098229706287384,0.4036470949649811,0.40005218982696533,0.3955885171890259,0.3919767439365387,0.3879227042198181,0.38452568650245667,0.38146689534187317,0.37848591804504395,0.37554776668548584,0.3725588917732239,0.36834511160850525,0.36530938744544983,0.3607853651046753,0.35785919427871704,0.3544391691684723,0.3521413207054138,0.34976208209991455,0.3445712924003601,0.342020183801651,0.33880504965782166,0.33592280745506287,0.3328484296798706,0.32821840047836304,0.3218490481376648,0.31944072246551514,0.31968507170677185,0.3172530233860016,0.3075435757637024,0.2963709533214569,0.2834729552268982,0.27731478214263916,0.2728913128376007,0.2733573913574219,0.27611568570137024,0.2706541121006012,0.27364665269851685,0.2710433602333069,0.26212024688720703,0.25786226987838745,0.2681325376033783,0.2550559341907501,0.2503759562969208,0.25293973088264465,0.23814469575881958,0.23405151069164276,0.2290206402540207,0.2280668467283249,0.2249094843864441,0.2231590747833252,0.2209441214799881,0.2172679901123047,0.2434736043214798,0.23412227630615234,0.2284238487482071,0.220854714512825,0.2104095071554184,0.206892728805542,0.20807592570781708,0.19686919450759888,0.18745853006839752,0.18349632620811462,0.17676793038845062,0.17021222412586212,0.16897712647914886,0.17011718451976776,0.16260166466236115,0.16963768005371094,0.15982118248939514,0.15713493525981903,0.15372790396213531,0.14944197237491608,0.14353343844413757,0.1402614563703537,0.13703055679798126,0.13589230179786682,0.13745737075805664,0.13099552690982819,0.12797550857067108,0.12620559334754944,0.12482960522174835,0.1228535920381546,0.12502914667129517,0.12365736067295074,0.11982588469982147,0.12463133037090302,0.14452162384986877,0.13825029134750366,0.1281270682811737,0.11936984956264496,0.12007448822259903,0.11884089559316635,0.1223137229681015,0.125216543674469,0.14623169600963593,0.11820963770151138,0.11233460158109665,0.10792382806539536,0.10410447418689728,0.10382282733917236,0.10072428733110428,0.09943027794361115,0.09841511398553848,0.09749507158994675,0.09651993215084076,0.09578362852334976,0.09483113139867783,0.09539513289928436,0.0935833752155304,0.09244893491268158,0.09154091775417328,0.09075944125652313,0.08995429426431656,0.08921118825674057,0.08842422813177109,0.08771266788244247,0.08700806647539139,0.08628065139055252,0.08559318631887436,0.08499035239219666,0.08427706360816956,0.08358276635408401,0.08291629701852798,0.08224707096815109,0.08162136375904083,0.08099213242530823,0.08036905527114868,0.07975945621728897,0.07916967570781708,0.07861664891242981,0.07809128612279892,0.07748834788799286,0.07687676697969437,0.07630569487810135,0.07575346529483795,0.07523700594902039,0.07467828691005707,0.07415203750133514,0.07362738251686096,0.0731256753206253,0.07263711839914322,0.07213515788316727,0.07168308645486832,0.07117118686437607,0.07115829735994339,0.07069689780473709,0.07021701335906982,0.06971795111894608,0.06926633417606354,0.06885065883398056,0.0684264525771141,0.0679703801870346,0.06755561381578445,0.06714605540037155,0.06672657281160355,0.06632264703512192],\"type\":\"scatter\",\"xaxis\":\"x\",\"yaxis\":\"y\"},{\"hovertemplate\":\"Epoch: %{x}\\u003cbr\\u003eValue: %{y:.4f}\\u003cextra\\u003e\\u003c\\u002fextra\\u003e\",\"marker\":{\"color\":\"green\"},\"mode\":\"lines+markers\",\"name\":\"Validation Loss\",\"x\":[1,2,3,4,5,6,7,8,9,10,11,12,13,14,15,16,17,18,19,20,21,22,23,24,25,26,27,28,29,30,31,32,33,34,35,36,37,38,39,40,41,42,43,44,45,46,47,48,49,50,51,52,53,54,55,56,57,58,59,60,61,62,63,64,65,66,67,68,69,70,71,72,73,74,75,76,77,78,79,80,81,82,83,84,85,86,87,88,89,90,91,92,93,94,95,96,97,98,99,100,101,102,103,104,105,106,107,108,109,110,111,112,113,114,115,116,117,118,119,120,121,122,123,124,125,126,127,128,129,130,131,132,133,134,135,136,137,138,139,140,141,142,143,144,145,146,147,148,149,150,151,152,153,154,155,156,157,158,159,160,161,162,163,164,165,166,167,168,169,170,171,172,173,174,175,176,177,178,179,180,181,182,183,184,185,186,187,188,189,190,191,192,193,194,195,196,197,198,199,200],\"y\":[0.8953891396522522,0.409687876701355,0.40888142585754395,0.37648719549179077,0.3674003481864929,0.3646157383918762,0.3601416051387787,0.3713419437408447,0.34767311811447144,0.3445641100406647,0.34504857659339905,0.3349857032299042,0.3310506045818329,0.32669761776924133,0.33781927824020386,0.31992608308792114,0.32159045338630676,0.321289598941803,0.30942851305007935,0.3066837787628174,0.30532294511795044,0.306820809841156,0.2975548207759857,0.29515141248703003,0.2920287251472473,0.28922712802886963,0.28641703724861145,0.283817321062088,0.28120118379592896,0.2787962853908539,0.27622827887535095,0.27384132146835327,0.27144354581832886,0.26928773522377014,0.26687905192375183,0.2646782398223877,0.26262402534484863,0.2602888345718384,0.2646906077861786,0.2688705325126648,0.27271613478660583,0.2560477554798126,0.26070636510849,0.2543432116508484,0.2497304230928421,0.24828755855560303,0.24594394862651825,0.24498291313648224,0.24268819391727448,0.24118205904960632,0.2393898069858551,0.2368563860654831,0.23610073328018188,0.2332293689250946,0.23329158127307892,0.23077037930488586,0.22822773456573486,0.22720156610012054,0.22660879790782928,0.2234511524438858,0.2220226675271988,0.21837414801120758,0.21863719820976257,0.2167794406414032,0.21403415501117706,0.2108449637889862,0.21081173419952393,0.20807261765003204,0.20132747292518616,0.201476588845253,0.2011612206697464,0.1963358074426651,0.19506274163722992,0.1820690780878067,0.18290993571281433,0.1872420310974121,0.17612409591674805,0.17742237448692322,0.17259804904460907,0.1769784688949585,0.17400287091732025,0.16765323281288147,0.17039485275745392,0.16932597756385803,0.1696891337633133,0.18320657312870026,0.1803702861070633,0.18133747577667236,0.18612411618232727,0.18771523237228394,0.17797154188156128,0.17614874243736267,0.1987726241350174,0.17286120355129242,0.18117649853229523,0.22641108930110931,0.17144282162189484,0.17156259715557098,0.16738615930080414,0.16381090879440308,0.18456123769283295,0.17208875715732574,0.16243772208690643,0.1606580913066864,0.181634321808815,0.18464753031730652,0.1787988692522049,0.19754402339458466,0.19505876302719116,0.1761830747127533,0.21404169499874115,0.24286097288131714,0.21693339943885803,0.2089882344007492,0.19113518297672272,0.1963638961315155,0.22143562138080597,0.2870190739631653,0.2176600992679596,0.20559045672416687,0.22652782499790192,0.2131056934595108,0.22876670956611633,0.2577550709247589,0.2534552216529846,0.32958558201789856,0.26012954115867615,0.22088998556137085,0.15999390184879303,0.18014000356197357,0.3691347539424896,0.18313056230545044,0.15454743802547455,0.21158438920974731,0.21313227713108063,0.18312840163707733,0.21637998521327972,0.25404447317123413,0.2240237444639206,0.2260235846042633,0.2557626962661743,0.30675938725471497,0.2363051176071167,0.27775663137435913,0.260357528924942,0.25362280011177063,0.2662743330001831,0.2484811544418335,0.27957069873809814,0.24911604821681976,0.2907244563102722,0.2634584903717041,0.25068169832229614,0.25163978338241577,0.25992539525032043,0.25555214285850525,0.26712989807128906,0.2780499756336212,0.2743649184703827,0.2722274661064148,0.27163636684417725,0.27704668045043945,0.25269752740859985,0.25123482942581177,0.25815069675445557,0.2689693868160248,0.26793140172958374,0.2653422951698303,0.26908957958221436,0.2742464244365692,0.27973344922065735,0.2799093425273895,0.2860476076602936,0.26459115743637085,0.24761126935482025,0.2552240788936615,0.2691121995449066,0.2800045311450958,0.2867746353149414,0.29128140211105347,0.2889038026332855,0.2886752486228943,0.29621604084968567,0.29547417163848877,0.29517319798469543,0.28893688321113586,0.2934357821941376,0.29431790113449097,0.25077053904533386,0.2397206723690033,0.26088204979896545,0.2817038297653198,0.2664346992969513,0.2551330626010895,0.2652948796749115,0.2781078815460205,0.2889479994773865,0.2820194959640503,0.2780563533306122,0.2825114130973816],\"type\":\"scatter\",\"xaxis\":\"x\",\"yaxis\":\"y\"},{\"hovertemplate\":\"Epoch: %{x}\\u003cbr\\u003eValue: %{y:.4f}\\u003cextra\\u003e\\u003c\\u002fextra\\u003e\",\"marker\":{\"color\":\"red\"},\"mode\":\"lines+markers\",\"name\":\"Training Accuracy\",\"x\":[1,2,3,4,5,6,7,8,9,10,11,12,13,14,15,16,17,18,19,20,21,22,23,24,25,26,27,28,29,30,31,32,33,34,35,36,37,38,39,40,41,42,43,44,45,46,47,48,49,50,51,52,53,54,55,56,57,58,59,60,61,62,63,64,65,66,67,68,69,70,71,72,73,74,75,76,77,78,79,80,81,82,83,84,85,86,87,88,89,90,91,92,93,94,95,96,97,98,99,100,101,102,103,104,105,106,107,108,109,110,111,112,113,114,115,116,117,118,119,120,121,122,123,124,125,126,127,128,129,130,131,132,133,134,135,136,137,138,139,140,141,142,143,144,145,146,147,148,149,150,151,152,153,154,155,156,157,158,159,160,161,162,163,164,165,166,167,168,169,170,171,172,173,174,175,176,177,178,179,180,181,182,183,184,185,186,187,188,189,190,191,192,193,194,195,196,197,198,199,200],\"y\":[0.6859416365623474,0.8726790547370911,0.911936342716217,0.9209548830986023,0.9236074090003967,0.9251989126205444,0.9246684312820435,0.9236074090003967,0.9230769276618958,0.9257294535636902,0.9251989126205444,0.9246684312820435,0.9267904758453369,0.9267904758453369,0.9262599349021912,0.9241379499435425,0.9267904758453369,0.9262599349021912,0.9262599349021912,0.9246684312820435,0.9267904758453369,0.9251989126205444,0.9267904758453369,0.9267904758453369,0.9267904758453369,0.9267904758453369,0.9267904758453369,0.9267904758453369,0.9267904758453369,0.9267904758453369,0.9267904758453369,0.9267904758453369,0.9267904758453369,0.9267904758453369,0.9267904758453369,0.9267904758453369,0.9267904758453369,0.9273209571838379,0.9251989126205444,0.9299734830856323,0.9241379499435425,0.9273209571838379,0.9283819794654846,0.9331564903259277,0.9331564903259277,0.9342175126075745,0.9342175126075745,0.9342175126075745,0.9342175126075745,0.9342175126075745,0.9342175126075745,0.9342175126075745,0.9342175126075745,0.9342175126075745,0.9342175126075745,0.9342175126075745,0.9342175126075745,0.9342175126075745,0.9336870312690735,0.9342175126075745,0.9342175126075745,0.9342175126075745,0.9347479939460754,0.9347479939460754,0.9347479939460754,0.9352785348892212,0.9379310607910156,0.9384615421295166,0.9421750903129578,0.9474800825119019,0.941644549369812,0.9453580975532532,0.9469496011734009,0.9533156752586365,0.960212230682373,0.9623342156410217,0.9628646969795227,0.961273193359375,0.9570291638374329,0.961273193359375,0.9564986824989319,0.9559681415557861,0.9596816897392273,0.9623342156410217,0.9543766379356384,0.960212230682373,0.9623342156410217,0.960212230682373,0.9665782451629639,0.9671087265014648,0.9697612524032593,0.9687002897262573,0.970291793346405,0.970822274684906,0.970822274684906,0.970822274684906,0.960742712020874,0.9639257192611694,0.9655172228813171,0.9681697487831116,0.9718832969665527,0.970822274684906,0.9724137783050537,0.9745358228683472,0.9782493114471436,0.9787798523902893,0.9819628596305847,0.9846153855323792,0.9835543632507324,0.9830238819122314,0.9872679114341736,0.9830238819122314,0.9867374300956726,0.9862068891525269,0.9872679114341736,0.9888594150543213,0.9915119409561157,0.9920424222946167,0.9920424222946167,0.9920424222946167,0.9909814596176147,0.9936339259147644,0.9936339259147644,0.9936339259147644,0.9941644668579102,0.9941644668579102,0.9931034445762634,0.9925729632377625,0.9941644668579102,0.9909814596176147,0.9819628596305847,0.9824933409690857,0.9872679114341736,0.9931034445762634,0.9925729632377625,0.9920424222946167,0.9909814596176147,0.9856764078140259,0.9867374300956726,0.990450918674469,0.989920437335968,0.9925729632377625,0.9941644668579102,0.9936339259147644,0.9946949481964111,0.9946949481964111,0.9946949481964111,0.9946949481964111,0.9946949481964111,0.9946949481964111,0.9946949481964111,0.9941644668579102,0.9946949481964111,0.9946949481964111,0.9946949481964111,0.9946949481964111,0.9946949481964111,0.9946949481964111,0.9946949481964111,0.9946949481964111,0.9946949481964111,0.9946949481964111,0.9946949481964111,0.9946949481964111,0.9946949481964111,0.9946949481964111,0.9946949481964111,0.9946949481964111,0.9946949481964111,0.9946949481964111,0.9946949481964111,0.9946949481964111,0.9946949481964111,0.9946949481964111,0.9946949481964111,0.9946949481964111,0.9946949481964111,0.9946949481964111,0.9946949481964111,0.9946949481964111,0.9946949481964111,0.9946949481964111,0.9946949481964111,0.9946949481964111,0.9946949481964111,0.9946949481964111,0.9946949481964111,0.9946949481964111,0.9946949481964111,0.9946949481964111,0.9946949481964111,0.9946949481964111,0.9946949481964111,0.9946949481964111,0.9946949481964111,0.9946949481964111,0.9946949481964111,0.9946949481964111,0.9946949481964111,0.9946949481964111],\"type\":\"scatter\",\"xaxis\":\"x2\",\"yaxis\":\"y2\"},{\"hovertemplate\":\"Epoch: %{x}\\u003cbr\\u003eValue: %{y:.4f}\\u003cextra\\u003e\\u003c\\u002fextra\\u003e\",\"marker\":{\"color\":\"green\"},\"mode\":\"lines+markers\",\"name\":\"Validation Accuracy\",\"x\":[1,2,3,4,5,6,7,8,9,10,11,12,13,14,15,16,17,18,19,20,21,22,23,24,25,26,27,28,29,30,31,32,33,34,35,36,37,38,39,40,41,42,43,44,45,46,47,48,49,50,51,52,53,54,55,56,57,58,59,60,61,62,63,64,65,66,67,68,69,70,71,72,73,74,75,76,77,78,79,80,81,82,83,84,85,86,87,88,89,90,91,92,93,94,95,96,97,98,99,100,101,102,103,104,105,106,107,108,109,110,111,112,113,114,115,116,117,118,119,120,121,122,123,124,125,126,127,128,129,130,131,132,133,134,135,136,137,138,139,140,141,142,143,144,145,146,147,148,149,150,151,152,153,154,155,156,157,158,159,160,161,162,163,164,165,166,167,168,169,170,171,172,173,174,175,176,177,178,179,180,181,182,183,184,185,186,187,188,189,190,191,192,193,194,195,196,197,198,199,200],\"y\":[0.9115789532661438,0.9473684430122375,0.9473684430122375,0.9473684430122375,0.945263147354126,0.9473684430122375,0.9473684430122375,0.9431579113006592,0.9473684430122375,0.9473684430122375,0.9431579113006592,0.9473684430122375,0.9473684430122375,0.9473684430122375,0.9431579113006592,0.9473684430122375,0.945263147354126,0.945263147354126,0.9473684430122375,0.9473684430122375,0.9473684430122375,0.945263147354126,0.9473684430122375,0.9473684430122375,0.9473684430122375,0.9473684430122375,0.9473684430122375,0.9473684430122375,0.9473684430122375,0.9473684430122375,0.9473684430122375,0.9473684430122375,0.9473684430122375,0.9473684430122375,0.9473684430122375,0.9473684430122375,0.9473684430122375,0.9473684430122375,0.9431579113006592,0.9473684430122375,0.9410526156425476,0.945263147354126,0.9473684430122375,0.945263147354126,0.9473684430122375,0.945263147354126,0.9473684430122375,0.9473684430122375,0.9473684430122375,0.9473684430122375,0.9473684430122375,0.9473684430122375,0.9473684430122375,0.9473684430122375,0.9473684430122375,0.9473684430122375,0.9473684430122375,0.9473684430122375,0.9473684430122375,0.9473684430122375,0.9473684430122375,0.9473684430122375,0.9473684430122375,0.945263147354126,0.9473684430122375,0.9515789747238159,0.9494736790657043,0.9515789747238159,0.9557894468307495,0.9557894468307495,0.9515789747238159,0.9557894468307495,0.9536842107772827,0.9684210419654846,0.9642105102539062,0.9663158059120178,0.9705263376235962,0.9705263376235962,0.9684210419654846,0.9684210419654846,0.9642105102539062,0.9684210419654846,0.9705263376235962,0.9663158059120178,0.9684210419654846,0.9663158059120178,0.9663158059120178,0.9621052742004395,0.9642105102539062,0.9642105102539062,0.9663158059120178,0.9684210419654846,0.9599999785423279,0.9663158059120178,0.9684210419654846,0.9536842107772827,0.9642105102539062,0.9684210419654846,0.9663158059120178,0.9663158059120178,0.9621052742004395,0.9663158059120178,0.9663158059120178,0.9663158059120178,0.9578947424888611,0.9536842107772827,0.9621052742004395,0.9557894468307495,0.9557894468307495,0.9642105102539062,0.9557894468307495,0.9515789747238159,0.9557894468307495,0.9557894468307495,0.9621052742004395,0.9557894468307495,0.9578947424888611,0.9557894468307495,0.9557894468307495,0.9578947424888611,0.9536842107772827,0.9557894468307495,0.9578947424888611,0.9578947424888611,0.9578947424888611,0.9557894468307495,0.9536842107772827,0.9557894468307495,0.9663158059120178,0.9621052742004395,0.9410526156425476,0.9663158059120178,0.9684210419654846,0.9536842107772827,0.9536842107772827,0.9578947424888611,0.9599999785423279,0.9515789747238159,0.9557894468307495,0.9494736790657043,0.9578947424888611,0.9578947424888611,0.9515789747238159,0.9536842107772827,0.9578947424888611,0.9599999785423279,0.9599999785423279,0.9621052742004395,0.9578947424888611,0.9621052742004395,0.9578947424888611,0.9599999785423279,0.9599999785423279,0.9578947424888611,0.9578947424888611,0.9578947424888611,0.9599999785423279,0.9642105102539062,0.9599999785423279,0.9599999785423279,0.9599999785423279,0.9599999785423279,0.9621052742004395,0.9621052742004395,0.9599999785423279,0.9599999785423279,0.9599999785423279,0.9599999785423279,0.9599999785423279,0.9599999785423279,0.9621052742004395,0.9621052742004395,0.9621052742004395,0.9599999785423279,0.9599999785423279,0.9621052742004395,0.9599999785423279,0.9599999785423279,0.9621052742004395,0.9642105102539062,0.9621052742004395,0.9599999785423279,0.9642105102539062,0.9642105102539062,0.9642105102539062,0.9599999785423279,0.9642105102539062,0.9599999785423279,0.9599999785423279,0.9621052742004395,0.9621052742004395,0.9578947424888611,0.9621052742004395,0.9621052742004395,0.9621052742004395,0.9599999785423279,0.9578947424888611,0.9599999785423279,0.9599999785423279,0.9599999785423279],\"type\":\"scatter\",\"xaxis\":\"x2\",\"yaxis\":\"y2\"}],                        {\"template\":{\"data\":{\"histogram2dcontour\":[{\"type\":\"histogram2dcontour\",\"colorbar\":{\"outlinewidth\":0,\"ticks\":\"\"},\"colorscale\":[[0.0,\"#0d0887\"],[0.1111111111111111,\"#46039f\"],[0.2222222222222222,\"#7201a8\"],[0.3333333333333333,\"#9c179e\"],[0.4444444444444444,\"#bd3786\"],[0.5555555555555556,\"#d8576b\"],[0.6666666666666666,\"#ed7953\"],[0.7777777777777778,\"#fb9f3a\"],[0.8888888888888888,\"#fdca26\"],[1.0,\"#f0f921\"]]}],\"choropleth\":[{\"type\":\"choropleth\",\"colorbar\":{\"outlinewidth\":0,\"ticks\":\"\"}}],\"histogram2d\":[{\"type\":\"histogram2d\",\"colorbar\":{\"outlinewidth\":0,\"ticks\":\"\"},\"colorscale\":[[0.0,\"#0d0887\"],[0.1111111111111111,\"#46039f\"],[0.2222222222222222,\"#7201a8\"],[0.3333333333333333,\"#9c179e\"],[0.4444444444444444,\"#bd3786\"],[0.5555555555555556,\"#d8576b\"],[0.6666666666666666,\"#ed7953\"],[0.7777777777777778,\"#fb9f3a\"],[0.8888888888888888,\"#fdca26\"],[1.0,\"#f0f921\"]]}],\"heatmap\":[{\"type\":\"heatmap\",\"colorbar\":{\"outlinewidth\":0,\"ticks\":\"\"},\"colorscale\":[[0.0,\"#0d0887\"],[0.1111111111111111,\"#46039f\"],[0.2222222222222222,\"#7201a8\"],[0.3333333333333333,\"#9c179e\"],[0.4444444444444444,\"#bd3786\"],[0.5555555555555556,\"#d8576b\"],[0.6666666666666666,\"#ed7953\"],[0.7777777777777778,\"#fb9f3a\"],[0.8888888888888888,\"#fdca26\"],[1.0,\"#f0f921\"]]}],\"heatmapgl\":[{\"type\":\"heatmapgl\",\"colorbar\":{\"outlinewidth\":0,\"ticks\":\"\"},\"colorscale\":[[0.0,\"#0d0887\"],[0.1111111111111111,\"#46039f\"],[0.2222222222222222,\"#7201a8\"],[0.3333333333333333,\"#9c179e\"],[0.4444444444444444,\"#bd3786\"],[0.5555555555555556,\"#d8576b\"],[0.6666666666666666,\"#ed7953\"],[0.7777777777777778,\"#fb9f3a\"],[0.8888888888888888,\"#fdca26\"],[1.0,\"#f0f921\"]]}],\"contourcarpet\":[{\"type\":\"contourcarpet\",\"colorbar\":{\"outlinewidth\":0,\"ticks\":\"\"}}],\"contour\":[{\"type\":\"contour\",\"colorbar\":{\"outlinewidth\":0,\"ticks\":\"\"},\"colorscale\":[[0.0,\"#0d0887\"],[0.1111111111111111,\"#46039f\"],[0.2222222222222222,\"#7201a8\"],[0.3333333333333333,\"#9c179e\"],[0.4444444444444444,\"#bd3786\"],[0.5555555555555556,\"#d8576b\"],[0.6666666666666666,\"#ed7953\"],[0.7777777777777778,\"#fb9f3a\"],[0.8888888888888888,\"#fdca26\"],[1.0,\"#f0f921\"]]}],\"surface\":[{\"type\":\"surface\",\"colorbar\":{\"outlinewidth\":0,\"ticks\":\"\"},\"colorscale\":[[0.0,\"#0d0887\"],[0.1111111111111111,\"#46039f\"],[0.2222222222222222,\"#7201a8\"],[0.3333333333333333,\"#9c179e\"],[0.4444444444444444,\"#bd3786\"],[0.5555555555555556,\"#d8576b\"],[0.6666666666666666,\"#ed7953\"],[0.7777777777777778,\"#fb9f3a\"],[0.8888888888888888,\"#fdca26\"],[1.0,\"#f0f921\"]]}],\"mesh3d\":[{\"type\":\"mesh3d\",\"colorbar\":{\"outlinewidth\":0,\"ticks\":\"\"}}],\"scatter\":[{\"fillpattern\":{\"fillmode\":\"overlay\",\"size\":10,\"solidity\":0.2},\"type\":\"scatter\"}],\"parcoords\":[{\"type\":\"parcoords\",\"line\":{\"colorbar\":{\"outlinewidth\":0,\"ticks\":\"\"}}}],\"scatterpolargl\":[{\"type\":\"scatterpolargl\",\"marker\":{\"colorbar\":{\"outlinewidth\":0,\"ticks\":\"\"}}}],\"bar\":[{\"error_x\":{\"color\":\"#2a3f5f\"},\"error_y\":{\"color\":\"#2a3f5f\"},\"marker\":{\"line\":{\"color\":\"#E5ECF6\",\"width\":0.5},\"pattern\":{\"fillmode\":\"overlay\",\"size\":10,\"solidity\":0.2}},\"type\":\"bar\"}],\"scattergeo\":[{\"type\":\"scattergeo\",\"marker\":{\"colorbar\":{\"outlinewidth\":0,\"ticks\":\"\"}}}],\"scatterpolar\":[{\"type\":\"scatterpolar\",\"marker\":{\"colorbar\":{\"outlinewidth\":0,\"ticks\":\"\"}}}],\"histogram\":[{\"marker\":{\"pattern\":{\"fillmode\":\"overlay\",\"size\":10,\"solidity\":0.2}},\"type\":\"histogram\"}],\"scattergl\":[{\"type\":\"scattergl\",\"marker\":{\"colorbar\":{\"outlinewidth\":0,\"ticks\":\"\"}}}],\"scatter3d\":[{\"type\":\"scatter3d\",\"line\":{\"colorbar\":{\"outlinewidth\":0,\"ticks\":\"\"}},\"marker\":{\"colorbar\":{\"outlinewidth\":0,\"ticks\":\"\"}}}],\"scattermapbox\":[{\"type\":\"scattermapbox\",\"marker\":{\"colorbar\":{\"outlinewidth\":0,\"ticks\":\"\"}}}],\"scatterternary\":[{\"type\":\"scatterternary\",\"marker\":{\"colorbar\":{\"outlinewidth\":0,\"ticks\":\"\"}}}],\"scattercarpet\":[{\"type\":\"scattercarpet\",\"marker\":{\"colorbar\":{\"outlinewidth\":0,\"ticks\":\"\"}}}],\"carpet\":[{\"aaxis\":{\"endlinecolor\":\"#2a3f5f\",\"gridcolor\":\"white\",\"linecolor\":\"white\",\"minorgridcolor\":\"white\",\"startlinecolor\":\"#2a3f5f\"},\"baxis\":{\"endlinecolor\":\"#2a3f5f\",\"gridcolor\":\"white\",\"linecolor\":\"white\",\"minorgridcolor\":\"white\",\"startlinecolor\":\"#2a3f5f\"},\"type\":\"carpet\"}],\"table\":[{\"cells\":{\"fill\":{\"color\":\"#EBF0F8\"},\"line\":{\"color\":\"white\"}},\"header\":{\"fill\":{\"color\":\"#C8D4E3\"},\"line\":{\"color\":\"white\"}},\"type\":\"table\"}],\"barpolar\":[{\"marker\":{\"line\":{\"color\":\"#E5ECF6\",\"width\":0.5},\"pattern\":{\"fillmode\":\"overlay\",\"size\":10,\"solidity\":0.2}},\"type\":\"barpolar\"}],\"pie\":[{\"automargin\":true,\"type\":\"pie\"}]},\"layout\":{\"autotypenumbers\":\"strict\",\"colorway\":[\"#636efa\",\"#EF553B\",\"#00cc96\",\"#ab63fa\",\"#FFA15A\",\"#19d3f3\",\"#FF6692\",\"#B6E880\",\"#FF97FF\",\"#FECB52\"],\"font\":{\"color\":\"#2a3f5f\"},\"hovermode\":\"closest\",\"hoverlabel\":{\"align\":\"left\"},\"paper_bgcolor\":\"white\",\"plot_bgcolor\":\"#E5ECF6\",\"polar\":{\"bgcolor\":\"#E5ECF6\",\"angularaxis\":{\"gridcolor\":\"white\",\"linecolor\":\"white\",\"ticks\":\"\"},\"radialaxis\":{\"gridcolor\":\"white\",\"linecolor\":\"white\",\"ticks\":\"\"}},\"ternary\":{\"bgcolor\":\"#E5ECF6\",\"aaxis\":{\"gridcolor\":\"white\",\"linecolor\":\"white\",\"ticks\":\"\"},\"baxis\":{\"gridcolor\":\"white\",\"linecolor\":\"white\",\"ticks\":\"\"},\"caxis\":{\"gridcolor\":\"white\",\"linecolor\":\"white\",\"ticks\":\"\"}},\"coloraxis\":{\"colorbar\":{\"outlinewidth\":0,\"ticks\":\"\"}},\"colorscale\":{\"sequential\":[[0.0,\"#0d0887\"],[0.1111111111111111,\"#46039f\"],[0.2222222222222222,\"#7201a8\"],[0.3333333333333333,\"#9c179e\"],[0.4444444444444444,\"#bd3786\"],[0.5555555555555556,\"#d8576b\"],[0.6666666666666666,\"#ed7953\"],[0.7777777777777778,\"#fb9f3a\"],[0.8888888888888888,\"#fdca26\"],[1.0,\"#f0f921\"]],\"sequentialminus\":[[0.0,\"#0d0887\"],[0.1111111111111111,\"#46039f\"],[0.2222222222222222,\"#7201a8\"],[0.3333333333333333,\"#9c179e\"],[0.4444444444444444,\"#bd3786\"],[0.5555555555555556,\"#d8576b\"],[0.6666666666666666,\"#ed7953\"],[0.7777777777777778,\"#fb9f3a\"],[0.8888888888888888,\"#fdca26\"],[1.0,\"#f0f921\"]],\"diverging\":[[0,\"#8e0152\"],[0.1,\"#c51b7d\"],[0.2,\"#de77ae\"],[0.3,\"#f1b6da\"],[0.4,\"#fde0ef\"],[0.5,\"#f7f7f7\"],[0.6,\"#e6f5d0\"],[0.7,\"#b8e186\"],[0.8,\"#7fbc41\"],[0.9,\"#4d9221\"],[1,\"#276419\"]]},\"xaxis\":{\"gridcolor\":\"white\",\"linecolor\":\"white\",\"ticks\":\"\",\"title\":{\"standoff\":15},\"zerolinecolor\":\"white\",\"automargin\":true,\"zerolinewidth\":2},\"yaxis\":{\"gridcolor\":\"white\",\"linecolor\":\"white\",\"ticks\":\"\",\"title\":{\"standoff\":15},\"zerolinecolor\":\"white\",\"automargin\":true,\"zerolinewidth\":2},\"scene\":{\"xaxis\":{\"backgroundcolor\":\"#E5ECF6\",\"gridcolor\":\"white\",\"linecolor\":\"white\",\"showbackground\":true,\"ticks\":\"\",\"zerolinecolor\":\"white\",\"gridwidth\":2},\"yaxis\":{\"backgroundcolor\":\"#E5ECF6\",\"gridcolor\":\"white\",\"linecolor\":\"white\",\"showbackground\":true,\"ticks\":\"\",\"zerolinecolor\":\"white\",\"gridwidth\":2},\"zaxis\":{\"backgroundcolor\":\"#E5ECF6\",\"gridcolor\":\"white\",\"linecolor\":\"white\",\"showbackground\":true,\"ticks\":\"\",\"zerolinecolor\":\"white\",\"gridwidth\":2}},\"shapedefaults\":{\"line\":{\"color\":\"#2a3f5f\"}},\"annotationdefaults\":{\"arrowcolor\":\"#2a3f5f\",\"arrowhead\":0,\"arrowwidth\":1},\"geo\":{\"bgcolor\":\"white\",\"landcolor\":\"#E5ECF6\",\"subunitcolor\":\"white\",\"showland\":true,\"showlakes\":true,\"lakecolor\":\"white\"},\"title\":{\"x\":0.05},\"mapbox\":{\"style\":\"light\"}}},\"xaxis\":{\"anchor\":\"y\",\"domain\":[0.0,0.45]},\"yaxis\":{\"anchor\":\"x\",\"domain\":[0.0,1.0],\"title\":{\"text\":\"Loss\"}},\"xaxis2\":{\"anchor\":\"y2\",\"domain\":[0.55,1.0]},\"yaxis2\":{\"anchor\":\"x2\",\"domain\":[0.0,1.0],\"title\":{\"text\":\"Accuracy\"}},\"annotations\":[{\"font\":{\"size\":16},\"showarrow\":false,\"text\":\"Training and Validation Loss\",\"x\":0.225,\"xanchor\":\"center\",\"xref\":\"paper\",\"y\":1.0,\"yanchor\":\"bottom\",\"yref\":\"paper\"},{\"font\":{\"size\":16},\"showarrow\":false,\"text\":\"Training and Validation Accuracy\",\"x\":0.775,\"xanchor\":\"center\",\"xref\":\"paper\",\"y\":1.0,\"yanchor\":\"bottom\",\"yref\":\"paper\"}],\"title\":{\"text\":\"Training and Validation Metrics\"},\"showlegend\":true},                        {\"responsive\": true}                    ).then(function(){\n",
              "                            \n",
              "var gd = document.getElementById('18b7f006-03b5-42a3-b697-01a8b396c3bc');\n",
              "var x = new MutationObserver(function (mutations, observer) {{\n",
              "        var display = window.getComputedStyle(gd).display;\n",
              "        if (!display || display === 'none') {{\n",
              "            console.log([gd, 'removed!']);\n",
              "            Plotly.purge(gd);\n",
              "            observer.disconnect();\n",
              "        }}\n",
              "}});\n",
              "\n",
              "// Listen for the removal of the full notebook cells\n",
              "var notebookContainer = gd.closest('#notebook-container');\n",
              "if (notebookContainer) {{\n",
              "    x.observe(notebookContainer, {childList: true});\n",
              "}}\n",
              "\n",
              "// Listen for the clearing of the current output cell\n",
              "var outputEl = gd.closest('.output');\n",
              "if (outputEl) {{\n",
              "    x.observe(outputEl, {childList: true});\n",
              "}}\n",
              "\n",
              "                        })                };                });            </script>        </div>"
            ]
          },
          "metadata": {},
          "output_type": "display_data"
        }
      ],
      "source": [
        "import plotly.graph_objs as go\n",
        "from plotly.subplots import make_subplots\n",
        "\n",
        "history = fit4.history\n",
        "\n",
        "train_loss = history['loss']\n",
        "val_loss = history['val_loss']\n",
        "train_acc = history['accuracy']  # Or 'acc' based on your TensorFlow version\n",
        "val_acc = history['val_accuracy']  # Or 'val_acc' based on your TensorFlow version\n",
        "epochs = list(range(1, len(train_loss) + 1))\n",
        "\n",
        "# Create subplots: one row, two columns\n",
        "fig = make_subplots(rows=1, cols=2, subplot_titles=('Training and Validation Loss', 'Training and Validation Accuracy'))\n",
        "\n",
        "# Define hover template\n",
        "hovertemplate = 'Epoch: %{x}<br>Value: %{y:.4f}<extra></extra>'\n",
        "\n",
        "# First subplot for loss\n",
        "fig.add_trace(go.Scatter(x=epochs, y=train_loss, mode='lines+markers', name='Training Loss', \n",
        "                         marker_color='red', hovertemplate=hovertemplate), row=1, col=1)\n",
        "fig.add_trace(go.Scatter(x=epochs, y=val_loss, mode='lines+markers', name='Validation Loss', \n",
        "                         marker_color='green', hovertemplate=hovertemplate), row=1, col=1)\n",
        "\n",
        "# Second subplot for accuracy\n",
        "fig.add_trace(go.Scatter(x=epochs, y=train_acc, mode='lines+markers', name='Training Accuracy', \n",
        "                         marker_color='red', hovertemplate=hovertemplate), row=1, col=2)\n",
        "fig.add_trace(go.Scatter(x=epochs, y=val_acc, mode='lines+markers', name='Validation Accuracy', \n",
        "                         marker_color='green', hovertemplate=hovertemplate), row=1, col=2)\n",
        "\n",
        "# Update xaxis properties\n",
        "# fig.update_xaxes(title_text='Epochs', tickmode='linear', row=1, col=1)\n",
        "# fig.update_xaxes(title_text='Epochs', tickmode='linear', row=1, col=2)\n",
        "\n",
        "# Update yaxis properties\n",
        "fig.update_yaxes(title_text='Loss', row=1, col=1)\n",
        "fig.update_yaxes(title_text='Accuracy', row=1, col=2)\n",
        "\n",
        "# Update layout and show plot\n",
        "fig.update_layout(title_text='Training and Validation Metrics', showlegend=True)\n",
        "fig.show()"
      ]
    },
    {
      "cell_type": "code",
      "execution_count": 36,
      "metadata": {},
      "outputs": [
        {
          "name": "stdout",
          "output_type": "stream",
          "text": [
            "Optimal epoch: 2\n",
            "Accuracy at optimal epoch: 0.9045093059539795\n"
          ]
        }
      ],
      "source": [
        "import numpy as np\n",
        "\n",
        "def find_optimal_epoch(history):\n",
        "    val_loss = history['val_loss']\n",
        "    train_loss = history['loss']\n",
        "    accuracy = history['accuracy']  # Or 'acc' in older versions of TensorFlow\n",
        "    \n",
        "    # Initialize with the first epoch\n",
        "    optimal_epoch = 0\n",
        "    min_val_loss = val_loss[0]\n",
        "    \n",
        "    for i in range(1, len(val_loss)):\n",
        "        # Check if the validation loss is increasing\n",
        "        if val_loss[i] > min_val_loss and train_loss[i] < train_loss[i-1]:\n",
        "            optimal_epoch = i - 1  # Previous epoch where the validation loss was still decreasing\n",
        "            break\n",
        "        else:\n",
        "            min_val_loss = val_loss[i]\n",
        "    \n",
        "    return optimal_epoch, accuracy[optimal_epoch]\n",
        "\n",
        "# Assume you have a history object from the fit method\n",
        "optimal_epoch, optimal_accuracy = find_optimal_epoch(history)\n",
        "\n",
        "print(f\"Optimal epoch: {optimal_epoch}\")\n",
        "print(f\"Accuracy at optimal epoch: {optimal_accuracy}\")\n"
      ]
    },
    {
      "cell_type": "code",
      "execution_count": 46,
      "metadata": {},
      "outputs": [
        {
          "data": {
            "text/plain": [
              "0.9578947424888611"
            ]
          },
          "execution_count": 46,
          "metadata": {},
          "output_type": "execute_result"
        }
      ],
      "source": [
        "val_acc[104]"
      ]
    },
    {
      "cell_type": "code",
      "execution_count": 68,
      "metadata": {},
      "outputs": [
        {
          "data": {
            "text/plain": [
              "array([[[1., 0., 0.],\n",
              "        [1., 0., 0.],\n",
              "        [1., 0., 0.],\n",
              "        [1., 0., 0.],\n",
              "        [1., 0., 0.]],\n",
              "\n",
              "       [[1., 0., 0.],\n",
              "        [1., 0., 0.],\n",
              "        [1., 0., 0.],\n",
              "        [1., 0., 0.],\n",
              "        [1., 0., 0.]],\n",
              "\n",
              "       [[1., 0., 0.],\n",
              "        [0., 0., 1.],\n",
              "        [0., 0., 1.],\n",
              "        [0., 0., 1.],\n",
              "        [0., 0., 1.]],\n",
              "\n",
              "       ...,\n",
              "\n",
              "       [[0., 0., 1.],\n",
              "        [0., 0., 1.],\n",
              "        [0., 0., 1.],\n",
              "        [0., 0., 1.],\n",
              "        [0., 0., 1.]],\n",
              "\n",
              "       [[0., 0., 1.],\n",
              "        [1., 0., 0.],\n",
              "        [1., 0., 0.],\n",
              "        [1., 0., 0.],\n",
              "        [1., 0., 0.]],\n",
              "\n",
              "       [[1., 0., 0.],\n",
              "        [1., 0., 0.],\n",
              "        [1., 0., 0.],\n",
              "        [1., 0., 0.],\n",
              "        [1., 0., 0.]]])"
            ]
          },
          "execution_count": 68,
          "metadata": {},
          "output_type": "execute_result"
        }
      ],
      "source": [
        "y_train_convT"
      ]
    },
    {
      "cell_type": "code",
      "execution_count": null,
      "metadata": {},
      "outputs": [],
      "source": [
        "plt.hist(y_train_convT)"
      ]
    },
    {
      "cell_type": "code",
      "execution_count": null,
      "metadata": {},
      "outputs": [],
      "source": []
    }
  ],
  "metadata": {
    "colab": {
      "provenance": []
    },
    "kernelspec": {
      "display_name": "Python 3",
      "name": "python3"
    },
    "language_info": {
      "codemirror_mode": {
        "name": "ipython",
        "version": 3
      },
      "file_extension": ".py",
      "mimetype": "text/x-python",
      "name": "python",
      "nbconvert_exporter": "python",
      "pygments_lexer": "ipython3",
      "version": "3.9.18"
    }
  },
  "nbformat": 4,
  "nbformat_minor": 0
}
